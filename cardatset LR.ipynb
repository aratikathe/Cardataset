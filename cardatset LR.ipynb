{
 "cells": [
  {
   "cell_type": "code",
   "execution_count": 1,
   "metadata": {},
   "outputs": [
    {
     "data": {
      "text/html": [
       "<div>\n",
       "<style scoped>\n",
       "    .dataframe tbody tr th:only-of-type {\n",
       "        vertical-align: middle;\n",
       "    }\n",
       "\n",
       "    .dataframe tbody tr th {\n",
       "        vertical-align: top;\n",
       "    }\n",
       "\n",
       "    .dataframe thead th {\n",
       "        text-align: right;\n",
       "    }\n",
       "</style>\n",
       "<table border=\"1\" class=\"dataframe\">\n",
       "  <thead>\n",
       "    <tr style=\"text-align: right;\">\n",
       "      <th></th>\n",
       "      <th>Make</th>\n",
       "      <th>Model</th>\n",
       "      <th>Type</th>\n",
       "      <th>Origin</th>\n",
       "      <th>DriveTrain</th>\n",
       "      <th>MSRP</th>\n",
       "      <th>Invoice</th>\n",
       "      <th>EngineSize</th>\n",
       "      <th>Cylinders</th>\n",
       "      <th>Horsepower</th>\n",
       "      <th>MPG_City</th>\n",
       "      <th>MPG_Highway</th>\n",
       "      <th>Weight</th>\n",
       "      <th>Wheelbase</th>\n",
       "      <th>Length</th>\n",
       "    </tr>\n",
       "  </thead>\n",
       "  <tbody>\n",
       "    <tr>\n",
       "      <th>0</th>\n",
       "      <td>Acura</td>\n",
       "      <td>MDX</td>\n",
       "      <td>SUV</td>\n",
       "      <td>Asia</td>\n",
       "      <td>All</td>\n",
       "      <td>$36,945</td>\n",
       "      <td>$33,337</td>\n",
       "      <td>3.5</td>\n",
       "      <td>6.0</td>\n",
       "      <td>265.0</td>\n",
       "      <td>17.0</td>\n",
       "      <td>23.0</td>\n",
       "      <td>4451.0</td>\n",
       "      <td>106.0</td>\n",
       "      <td>189.0</td>\n",
       "    </tr>\n",
       "    <tr>\n",
       "      <th>1</th>\n",
       "      <td>Acura</td>\n",
       "      <td>RSX Type S 2dr</td>\n",
       "      <td>Sedan</td>\n",
       "      <td>Asia</td>\n",
       "      <td>Front</td>\n",
       "      <td>$23,820</td>\n",
       "      <td>$21,761</td>\n",
       "      <td>2.0</td>\n",
       "      <td>4.0</td>\n",
       "      <td>200.0</td>\n",
       "      <td>24.0</td>\n",
       "      <td>31.0</td>\n",
       "      <td>2778.0</td>\n",
       "      <td>101.0</td>\n",
       "      <td>172.0</td>\n",
       "    </tr>\n",
       "    <tr>\n",
       "      <th>2</th>\n",
       "      <td>Acura</td>\n",
       "      <td>TSX 4dr</td>\n",
       "      <td>Sedan</td>\n",
       "      <td>Asia</td>\n",
       "      <td>Front</td>\n",
       "      <td>$26,990</td>\n",
       "      <td>$24,647</td>\n",
       "      <td>2.4</td>\n",
       "      <td>4.0</td>\n",
       "      <td>200.0</td>\n",
       "      <td>22.0</td>\n",
       "      <td>29.0</td>\n",
       "      <td>3230.0</td>\n",
       "      <td>105.0</td>\n",
       "      <td>183.0</td>\n",
       "    </tr>\n",
       "    <tr>\n",
       "      <th>3</th>\n",
       "      <td>Acura</td>\n",
       "      <td>TL 4dr</td>\n",
       "      <td>Sedan</td>\n",
       "      <td>Asia</td>\n",
       "      <td>Front</td>\n",
       "      <td>$33,195</td>\n",
       "      <td>$30,299</td>\n",
       "      <td>3.2</td>\n",
       "      <td>6.0</td>\n",
       "      <td>270.0</td>\n",
       "      <td>20.0</td>\n",
       "      <td>28.0</td>\n",
       "      <td>3575.0</td>\n",
       "      <td>108.0</td>\n",
       "      <td>186.0</td>\n",
       "    </tr>\n",
       "    <tr>\n",
       "      <th>4</th>\n",
       "      <td>Acura</td>\n",
       "      <td>3.5 RL 4dr</td>\n",
       "      <td>Sedan</td>\n",
       "      <td>Asia</td>\n",
       "      <td>Front</td>\n",
       "      <td>$43,755</td>\n",
       "      <td>$39,014</td>\n",
       "      <td>3.5</td>\n",
       "      <td>6.0</td>\n",
       "      <td>225.0</td>\n",
       "      <td>18.0</td>\n",
       "      <td>24.0</td>\n",
       "      <td>3880.0</td>\n",
       "      <td>115.0</td>\n",
       "      <td>197.0</td>\n",
       "    </tr>\n",
       "    <tr>\n",
       "      <th>...</th>\n",
       "      <td>...</td>\n",
       "      <td>...</td>\n",
       "      <td>...</td>\n",
       "      <td>...</td>\n",
       "      <td>...</td>\n",
       "      <td>...</td>\n",
       "      <td>...</td>\n",
       "      <td>...</td>\n",
       "      <td>...</td>\n",
       "      <td>...</td>\n",
       "      <td>...</td>\n",
       "      <td>...</td>\n",
       "      <td>...</td>\n",
       "      <td>...</td>\n",
       "      <td>...</td>\n",
       "    </tr>\n",
       "    <tr>\n",
       "      <th>427</th>\n",
       "      <td>Volvo</td>\n",
       "      <td>C70 LPT convertible 2dr</td>\n",
       "      <td>Sedan</td>\n",
       "      <td>Europe</td>\n",
       "      <td>Front</td>\n",
       "      <td>$40,565</td>\n",
       "      <td>$38,203</td>\n",
       "      <td>2.4</td>\n",
       "      <td>5.0</td>\n",
       "      <td>197.0</td>\n",
       "      <td>21.0</td>\n",
       "      <td>28.0</td>\n",
       "      <td>3450.0</td>\n",
       "      <td>105.0</td>\n",
       "      <td>186.0</td>\n",
       "    </tr>\n",
       "    <tr>\n",
       "      <th>428</th>\n",
       "      <td>Volvo</td>\n",
       "      <td>C70 HPT convertible 2dr</td>\n",
       "      <td>Sedan</td>\n",
       "      <td>Europe</td>\n",
       "      <td>Front</td>\n",
       "      <td>$42,565</td>\n",
       "      <td>$40,083</td>\n",
       "      <td>2.3</td>\n",
       "      <td>5.0</td>\n",
       "      <td>242.0</td>\n",
       "      <td>20.0</td>\n",
       "      <td>26.0</td>\n",
       "      <td>3450.0</td>\n",
       "      <td>105.0</td>\n",
       "      <td>186.0</td>\n",
       "    </tr>\n",
       "    <tr>\n",
       "      <th>429</th>\n",
       "      <td>Volvo</td>\n",
       "      <td>S80 T6 4dr</td>\n",
       "      <td>Sedan</td>\n",
       "      <td>Europe</td>\n",
       "      <td>Front</td>\n",
       "      <td>$45,210</td>\n",
       "      <td>$42,573</td>\n",
       "      <td>2.9</td>\n",
       "      <td>6.0</td>\n",
       "      <td>268.0</td>\n",
       "      <td>19.0</td>\n",
       "      <td>26.0</td>\n",
       "      <td>3653.0</td>\n",
       "      <td>110.0</td>\n",
       "      <td>190.0</td>\n",
       "    </tr>\n",
       "    <tr>\n",
       "      <th>430</th>\n",
       "      <td>Volvo</td>\n",
       "      <td>V40</td>\n",
       "      <td>Wagon</td>\n",
       "      <td>Europe</td>\n",
       "      <td>Front</td>\n",
       "      <td>$26,135</td>\n",
       "      <td>$24,641</td>\n",
       "      <td>1.9</td>\n",
       "      <td>4.0</td>\n",
       "      <td>170.0</td>\n",
       "      <td>22.0</td>\n",
       "      <td>29.0</td>\n",
       "      <td>2822.0</td>\n",
       "      <td>101.0</td>\n",
       "      <td>180.0</td>\n",
       "    </tr>\n",
       "    <tr>\n",
       "      <th>431</th>\n",
       "      <td>Volvo</td>\n",
       "      <td>XC70</td>\n",
       "      <td>Wagon</td>\n",
       "      <td>Europe</td>\n",
       "      <td>All</td>\n",
       "      <td>$35,145</td>\n",
       "      <td>$33,112</td>\n",
       "      <td>2.5</td>\n",
       "      <td>5.0</td>\n",
       "      <td>208.0</td>\n",
       "      <td>20.0</td>\n",
       "      <td>27.0</td>\n",
       "      <td>3823.0</td>\n",
       "      <td>109.0</td>\n",
       "      <td>186.0</td>\n",
       "    </tr>\n",
       "  </tbody>\n",
       "</table>\n",
       "<p>432 rows × 15 columns</p>\n",
       "</div>"
      ],
      "text/plain": [
       "      Make                    Model   Type  Origin DriveTrain      MSRP  \\\n",
       "0    Acura                      MDX    SUV    Asia        All  $36,945    \n",
       "1    Acura           RSX Type S 2dr  Sedan    Asia      Front  $23,820    \n",
       "2    Acura                  TSX 4dr  Sedan    Asia      Front  $26,990    \n",
       "3    Acura                   TL 4dr  Sedan    Asia      Front  $33,195    \n",
       "4    Acura               3.5 RL 4dr  Sedan    Asia      Front  $43,755    \n",
       "..     ...                      ...    ...     ...        ...       ...   \n",
       "427  Volvo  C70 LPT convertible 2dr  Sedan  Europe      Front  $40,565    \n",
       "428  Volvo  C70 HPT convertible 2dr  Sedan  Europe      Front  $42,565    \n",
       "429  Volvo               S80 T6 4dr  Sedan  Europe      Front  $45,210    \n",
       "430  Volvo                      V40  Wagon  Europe      Front  $26,135    \n",
       "431  Volvo                     XC70  Wagon  Europe        All  $35,145    \n",
       "\n",
       "      Invoice  EngineSize  Cylinders  Horsepower  MPG_City  MPG_Highway  \\\n",
       "0    $33,337          3.5        6.0       265.0      17.0         23.0   \n",
       "1    $21,761          2.0        4.0       200.0      24.0         31.0   \n",
       "2    $24,647          2.4        4.0       200.0      22.0         29.0   \n",
       "3    $30,299          3.2        6.0       270.0      20.0         28.0   \n",
       "4    $39,014          3.5        6.0       225.0      18.0         24.0   \n",
       "..        ...         ...        ...         ...       ...          ...   \n",
       "427  $38,203          2.4        5.0       197.0      21.0         28.0   \n",
       "428  $40,083          2.3        5.0       242.0      20.0         26.0   \n",
       "429  $42,573          2.9        6.0       268.0      19.0         26.0   \n",
       "430  $24,641          1.9        4.0       170.0      22.0         29.0   \n",
       "431  $33,112          2.5        5.0       208.0      20.0         27.0   \n",
       "\n",
       "     Weight  Wheelbase  Length  \n",
       "0    4451.0      106.0   189.0  \n",
       "1    2778.0      101.0   172.0  \n",
       "2    3230.0      105.0   183.0  \n",
       "3    3575.0      108.0   186.0  \n",
       "4    3880.0      115.0   197.0  \n",
       "..      ...        ...     ...  \n",
       "427  3450.0      105.0   186.0  \n",
       "428  3450.0      105.0   186.0  \n",
       "429  3653.0      110.0   190.0  \n",
       "430  2822.0      101.0   180.0  \n",
       "431  3823.0      109.0   186.0  \n",
       "\n",
       "[432 rows x 15 columns]"
      ]
     },
     "execution_count": 1,
     "metadata": {},
     "output_type": "execute_result"
    }
   ],
   "source": [
    "import os \n",
    "import pandas as pd\n",
    "import numpy as np\n",
    "os.chdir(\"C:/Users/hp/Downloads\")\n",
    "df = pd.read_csv(\"Cars Data1.csv\")\n",
    "df"
   ]
  },
  {
   "cell_type": "code",
   "execution_count": 2,
   "metadata": {
    "scrolled": false
   },
   "outputs": [
    {
     "data": {
      "text/plain": [
       "Make           428\n",
       "Model          428\n",
       "Type           428\n",
       "Origin         428\n",
       "DriveTrain     428\n",
       "MSRP           428\n",
       "Invoice        428\n",
       "EngineSize     428\n",
       "Cylinders      426\n",
       "Horsepower     428\n",
       "MPG_City       428\n",
       "MPG_Highway    428\n",
       "Weight         428\n",
       "Wheelbase      428\n",
       "Length         428\n",
       "dtype: int64"
      ]
     },
     "execution_count": 2,
     "metadata": {},
     "output_type": "execute_result"
    }
   ],
   "source": [
    "df.count()"
   ]
  },
  {
   "cell_type": "code",
   "execution_count": 3,
   "metadata": {},
   "outputs": [
    {
     "data": {
      "text/plain": [
       "Index(['Make', 'Model', 'Type', 'Origin', 'DriveTrain', 'MSRP', 'Invoice',\n",
       "       'EngineSize', 'Cylinders', 'Horsepower', 'MPG_City', 'MPG_Highway',\n",
       "       'Weight', 'Wheelbase', 'Length'],\n",
       "      dtype='object')"
      ]
     },
     "execution_count": 3,
     "metadata": {},
     "output_type": "execute_result"
    }
   ],
   "source": [
    "df.columns"
   ]
  },
  {
   "cell_type": "code",
   "execution_count": 4,
   "metadata": {},
   "outputs": [
    {
     "data": {
      "text/plain": [
       "Make            object\n",
       "Model           object\n",
       "Type            object\n",
       "Origin          object\n",
       "DriveTrain      object\n",
       "MSRP            object\n",
       "Invoice         object\n",
       "EngineSize     float64\n",
       "Cylinders      float64\n",
       "Horsepower     float64\n",
       "MPG_City       float64\n",
       "MPG_Highway    float64\n",
       "Weight         float64\n",
       "Wheelbase      float64\n",
       "Length         float64\n",
       "dtype: object"
      ]
     },
     "execution_count": 4,
     "metadata": {},
     "output_type": "execute_result"
    }
   ],
   "source": [
    "df.dtypes"
   ]
  },
  {
   "cell_type": "code",
   "execution_count": 5,
   "metadata": {
    "scrolled": true
   },
   "outputs": [
    {
     "data": {
      "text/html": [
       "<div>\n",
       "<style scoped>\n",
       "    .dataframe tbody tr th:only-of-type {\n",
       "        vertical-align: middle;\n",
       "    }\n",
       "\n",
       "    .dataframe tbody tr th {\n",
       "        vertical-align: top;\n",
       "    }\n",
       "\n",
       "    .dataframe thead th {\n",
       "        text-align: right;\n",
       "    }\n",
       "</style>\n",
       "<table border=\"1\" class=\"dataframe\">\n",
       "  <thead>\n",
       "    <tr style=\"text-align: right;\">\n",
       "      <th></th>\n",
       "      <th>EngineSize</th>\n",
       "      <th>Cylinders</th>\n",
       "      <th>Horsepower</th>\n",
       "      <th>MPG_City</th>\n",
       "      <th>MPG_Highway</th>\n",
       "      <th>Weight</th>\n",
       "      <th>Wheelbase</th>\n",
       "      <th>Length</th>\n",
       "    </tr>\n",
       "  </thead>\n",
       "  <tbody>\n",
       "    <tr>\n",
       "      <th>count</th>\n",
       "      <td>428.000000</td>\n",
       "      <td>426.000000</td>\n",
       "      <td>428.000000</td>\n",
       "      <td>428.000000</td>\n",
       "      <td>428.000000</td>\n",
       "      <td>428.000000</td>\n",
       "      <td>428.000000</td>\n",
       "      <td>428.000000</td>\n",
       "    </tr>\n",
       "    <tr>\n",
       "      <th>mean</th>\n",
       "      <td>3.196729</td>\n",
       "      <td>5.807512</td>\n",
       "      <td>215.885514</td>\n",
       "      <td>20.060748</td>\n",
       "      <td>26.843458</td>\n",
       "      <td>3577.953271</td>\n",
       "      <td>108.154206</td>\n",
       "      <td>186.362150</td>\n",
       "    </tr>\n",
       "    <tr>\n",
       "      <th>std</th>\n",
       "      <td>1.108595</td>\n",
       "      <td>1.558443</td>\n",
       "      <td>71.836032</td>\n",
       "      <td>5.238218</td>\n",
       "      <td>5.741201</td>\n",
       "      <td>758.983215</td>\n",
       "      <td>8.311813</td>\n",
       "      <td>14.357991</td>\n",
       "    </tr>\n",
       "    <tr>\n",
       "      <th>min</th>\n",
       "      <td>1.300000</td>\n",
       "      <td>3.000000</td>\n",
       "      <td>73.000000</td>\n",
       "      <td>10.000000</td>\n",
       "      <td>12.000000</td>\n",
       "      <td>1850.000000</td>\n",
       "      <td>89.000000</td>\n",
       "      <td>143.000000</td>\n",
       "    </tr>\n",
       "    <tr>\n",
       "      <th>25%</th>\n",
       "      <td>2.375000</td>\n",
       "      <td>4.000000</td>\n",
       "      <td>165.000000</td>\n",
       "      <td>17.000000</td>\n",
       "      <td>24.000000</td>\n",
       "      <td>3104.000000</td>\n",
       "      <td>103.000000</td>\n",
       "      <td>178.000000</td>\n",
       "    </tr>\n",
       "    <tr>\n",
       "      <th>50%</th>\n",
       "      <td>3.000000</td>\n",
       "      <td>6.000000</td>\n",
       "      <td>210.000000</td>\n",
       "      <td>19.000000</td>\n",
       "      <td>26.000000</td>\n",
       "      <td>3474.500000</td>\n",
       "      <td>107.000000</td>\n",
       "      <td>187.000000</td>\n",
       "    </tr>\n",
       "    <tr>\n",
       "      <th>75%</th>\n",
       "      <td>3.900000</td>\n",
       "      <td>6.000000</td>\n",
       "      <td>255.000000</td>\n",
       "      <td>21.250000</td>\n",
       "      <td>29.000000</td>\n",
       "      <td>3977.750000</td>\n",
       "      <td>112.000000</td>\n",
       "      <td>194.000000</td>\n",
       "    </tr>\n",
       "    <tr>\n",
       "      <th>max</th>\n",
       "      <td>8.300000</td>\n",
       "      <td>12.000000</td>\n",
       "      <td>500.000000</td>\n",
       "      <td>60.000000</td>\n",
       "      <td>66.000000</td>\n",
       "      <td>7190.000000</td>\n",
       "      <td>144.000000</td>\n",
       "      <td>238.000000</td>\n",
       "    </tr>\n",
       "  </tbody>\n",
       "</table>\n",
       "</div>"
      ],
      "text/plain": [
       "       EngineSize   Cylinders  Horsepower    MPG_City  MPG_Highway  \\\n",
       "count  428.000000  426.000000  428.000000  428.000000   428.000000   \n",
       "mean     3.196729    5.807512  215.885514   20.060748    26.843458   \n",
       "std      1.108595    1.558443   71.836032    5.238218     5.741201   \n",
       "min      1.300000    3.000000   73.000000   10.000000    12.000000   \n",
       "25%      2.375000    4.000000  165.000000   17.000000    24.000000   \n",
       "50%      3.000000    6.000000  210.000000   19.000000    26.000000   \n",
       "75%      3.900000    6.000000  255.000000   21.250000    29.000000   \n",
       "max      8.300000   12.000000  500.000000   60.000000    66.000000   \n",
       "\n",
       "            Weight   Wheelbase      Length  \n",
       "count   428.000000  428.000000  428.000000  \n",
       "mean   3577.953271  108.154206  186.362150  \n",
       "std     758.983215    8.311813   14.357991  \n",
       "min    1850.000000   89.000000  143.000000  \n",
       "25%    3104.000000  103.000000  178.000000  \n",
       "50%    3474.500000  107.000000  187.000000  \n",
       "75%    3977.750000  112.000000  194.000000  \n",
       "max    7190.000000  144.000000  238.000000  "
      ]
     },
     "execution_count": 5,
     "metadata": {},
     "output_type": "execute_result"
    }
   ],
   "source": [
    "df.describe()"
   ]
  },
  {
   "cell_type": "code",
   "execution_count": 6,
   "metadata": {},
   "outputs": [
    {
     "data": {
      "text/html": [
       "<div>\n",
       "<style scoped>\n",
       "    .dataframe tbody tr th:only-of-type {\n",
       "        vertical-align: middle;\n",
       "    }\n",
       "\n",
       "    .dataframe tbody tr th {\n",
       "        vertical-align: top;\n",
       "    }\n",
       "\n",
       "    .dataframe thead th {\n",
       "        text-align: right;\n",
       "    }\n",
       "</style>\n",
       "<table border=\"1\" class=\"dataframe\">\n",
       "  <thead>\n",
       "    <tr style=\"text-align: right;\">\n",
       "      <th></th>\n",
       "      <th>Make</th>\n",
       "      <th>Model</th>\n",
       "      <th>Type</th>\n",
       "      <th>Origin</th>\n",
       "      <th>DriveTrain</th>\n",
       "      <th>MSRP</th>\n",
       "      <th>Invoice</th>\n",
       "    </tr>\n",
       "  </thead>\n",
       "  <tbody>\n",
       "    <tr>\n",
       "      <th>count</th>\n",
       "      <td>428</td>\n",
       "      <td>428</td>\n",
       "      <td>428</td>\n",
       "      <td>428</td>\n",
       "      <td>428</td>\n",
       "      <td>428</td>\n",
       "      <td>428</td>\n",
       "    </tr>\n",
       "    <tr>\n",
       "      <th>unique</th>\n",
       "      <td>38</td>\n",
       "      <td>425</td>\n",
       "      <td>6</td>\n",
       "      <td>3</td>\n",
       "      <td>3</td>\n",
       "      <td>410</td>\n",
       "      <td>425</td>\n",
       "    </tr>\n",
       "    <tr>\n",
       "      <th>top</th>\n",
       "      <td>Toyota</td>\n",
       "      <td>C320 4dr</td>\n",
       "      <td>Sedan</td>\n",
       "      <td>Asia</td>\n",
       "      <td>Front</td>\n",
       "      <td>$19,860</td>\n",
       "      <td>$14,207</td>\n",
       "    </tr>\n",
       "    <tr>\n",
       "      <th>freq</th>\n",
       "      <td>28</td>\n",
       "      <td>2</td>\n",
       "      <td>262</td>\n",
       "      <td>158</td>\n",
       "      <td>226</td>\n",
       "      <td>2</td>\n",
       "      <td>2</td>\n",
       "    </tr>\n",
       "  </tbody>\n",
       "</table>\n",
       "</div>"
      ],
      "text/plain": [
       "          Make     Model   Type Origin DriveTrain      MSRP   Invoice\n",
       "count      428       428    428    428        428       428       428\n",
       "unique      38       425      6      3          3       410       425\n",
       "top     Toyota  C320 4dr  Sedan   Asia      Front  $19,860   $14,207 \n",
       "freq        28         2    262    158        226         2         2"
      ]
     },
     "execution_count": 6,
     "metadata": {},
     "output_type": "execute_result"
    }
   ],
   "source": [
    "df.describe(include = 'object')"
   ]
  },
  {
   "cell_type": "code",
   "execution_count": 7,
   "metadata": {},
   "outputs": [
    {
     "data": {
      "text/html": [
       "<div>\n",
       "<style scoped>\n",
       "    .dataframe tbody tr th:only-of-type {\n",
       "        vertical-align: middle;\n",
       "    }\n",
       "\n",
       "    .dataframe tbody tr th {\n",
       "        vertical-align: top;\n",
       "    }\n",
       "\n",
       "    .dataframe thead th {\n",
       "        text-align: right;\n",
       "    }\n",
       "</style>\n",
       "<table border=\"1\" class=\"dataframe\">\n",
       "  <thead>\n",
       "    <tr style=\"text-align: right;\">\n",
       "      <th></th>\n",
       "      <th>EngineSize</th>\n",
       "      <th>Cylinders</th>\n",
       "      <th>Horsepower</th>\n",
       "      <th>MPG_City</th>\n",
       "      <th>MPG_Highway</th>\n",
       "      <th>Weight</th>\n",
       "      <th>Wheelbase</th>\n",
       "      <th>Length</th>\n",
       "    </tr>\n",
       "  </thead>\n",
       "  <tbody>\n",
       "    <tr>\n",
       "      <th>count</th>\n",
       "      <td>428.000000</td>\n",
       "      <td>426.000000</td>\n",
       "      <td>428.000000</td>\n",
       "      <td>428.000000</td>\n",
       "      <td>428.000000</td>\n",
       "      <td>428.000000</td>\n",
       "      <td>428.000000</td>\n",
       "      <td>428.000000</td>\n",
       "    </tr>\n",
       "    <tr>\n",
       "      <th>mean</th>\n",
       "      <td>3.196729</td>\n",
       "      <td>5.807512</td>\n",
       "      <td>215.885514</td>\n",
       "      <td>20.060748</td>\n",
       "      <td>26.843458</td>\n",
       "      <td>3577.953271</td>\n",
       "      <td>108.154206</td>\n",
       "      <td>186.362150</td>\n",
       "    </tr>\n",
       "    <tr>\n",
       "      <th>std</th>\n",
       "      <td>1.108595</td>\n",
       "      <td>1.558443</td>\n",
       "      <td>71.836032</td>\n",
       "      <td>5.238218</td>\n",
       "      <td>5.741201</td>\n",
       "      <td>758.983215</td>\n",
       "      <td>8.311813</td>\n",
       "      <td>14.357991</td>\n",
       "    </tr>\n",
       "    <tr>\n",
       "      <th>min</th>\n",
       "      <td>1.300000</td>\n",
       "      <td>3.000000</td>\n",
       "      <td>73.000000</td>\n",
       "      <td>10.000000</td>\n",
       "      <td>12.000000</td>\n",
       "      <td>1850.000000</td>\n",
       "      <td>89.000000</td>\n",
       "      <td>143.000000</td>\n",
       "    </tr>\n",
       "    <tr>\n",
       "      <th>25%</th>\n",
       "      <td>2.375000</td>\n",
       "      <td>4.000000</td>\n",
       "      <td>165.000000</td>\n",
       "      <td>17.000000</td>\n",
       "      <td>24.000000</td>\n",
       "      <td>3104.000000</td>\n",
       "      <td>103.000000</td>\n",
       "      <td>178.000000</td>\n",
       "    </tr>\n",
       "    <tr>\n",
       "      <th>50%</th>\n",
       "      <td>3.000000</td>\n",
       "      <td>6.000000</td>\n",
       "      <td>210.000000</td>\n",
       "      <td>19.000000</td>\n",
       "      <td>26.000000</td>\n",
       "      <td>3474.500000</td>\n",
       "      <td>107.000000</td>\n",
       "      <td>187.000000</td>\n",
       "    </tr>\n",
       "    <tr>\n",
       "      <th>75%</th>\n",
       "      <td>3.900000</td>\n",
       "      <td>6.000000</td>\n",
       "      <td>255.000000</td>\n",
       "      <td>21.250000</td>\n",
       "      <td>29.000000</td>\n",
       "      <td>3977.750000</td>\n",
       "      <td>112.000000</td>\n",
       "      <td>194.000000</td>\n",
       "    </tr>\n",
       "    <tr>\n",
       "      <th>max</th>\n",
       "      <td>8.300000</td>\n",
       "      <td>12.000000</td>\n",
       "      <td>500.000000</td>\n",
       "      <td>60.000000</td>\n",
       "      <td>66.000000</td>\n",
       "      <td>7190.000000</td>\n",
       "      <td>144.000000</td>\n",
       "      <td>238.000000</td>\n",
       "    </tr>\n",
       "  </tbody>\n",
       "</table>\n",
       "</div>"
      ],
      "text/plain": [
       "       EngineSize   Cylinders  Horsepower    MPG_City  MPG_Highway  \\\n",
       "count  428.000000  426.000000  428.000000  428.000000   428.000000   \n",
       "mean     3.196729    5.807512  215.885514   20.060748    26.843458   \n",
       "std      1.108595    1.558443   71.836032    5.238218     5.741201   \n",
       "min      1.300000    3.000000   73.000000   10.000000    12.000000   \n",
       "25%      2.375000    4.000000  165.000000   17.000000    24.000000   \n",
       "50%      3.000000    6.000000  210.000000   19.000000    26.000000   \n",
       "75%      3.900000    6.000000  255.000000   21.250000    29.000000   \n",
       "max      8.300000   12.000000  500.000000   60.000000    66.000000   \n",
       "\n",
       "            Weight   Wheelbase      Length  \n",
       "count   428.000000  428.000000  428.000000  \n",
       "mean   3577.953271  108.154206  186.362150  \n",
       "std     758.983215    8.311813   14.357991  \n",
       "min    1850.000000   89.000000  143.000000  \n",
       "25%    3104.000000  103.000000  178.000000  \n",
       "50%    3474.500000  107.000000  187.000000  \n",
       "75%    3977.750000  112.000000  194.000000  \n",
       "max    7190.000000  144.000000  238.000000  "
      ]
     },
     "execution_count": 7,
     "metadata": {},
     "output_type": "execute_result"
    }
   ],
   "source": [
    "df.describe(include = 'number')"
   ]
  },
  {
   "cell_type": "code",
   "execution_count": 8,
   "metadata": {},
   "outputs": [
    {
     "data": {
      "text/plain": [
       "Make           4\n",
       "Model          4\n",
       "Type           4\n",
       "Origin         4\n",
       "DriveTrain     4\n",
       "MSRP           4\n",
       "Invoice        4\n",
       "EngineSize     4\n",
       "Cylinders      6\n",
       "Horsepower     4\n",
       "MPG_City       4\n",
       "MPG_Highway    4\n",
       "Weight         4\n",
       "Wheelbase      4\n",
       "Length         4\n",
       "dtype: int64"
      ]
     },
     "execution_count": 8,
     "metadata": {},
     "output_type": "execute_result"
    }
   ],
   "source": [
    "df.isnull().sum()"
   ]
  },
  {
   "cell_type": "code",
   "execution_count": 9,
   "metadata": {},
   "outputs": [
    {
     "name": "stdout",
     "output_type": "stream",
     "text": [
      "<class 'pandas.core.frame.DataFrame'>\n",
      "RangeIndex: 432 entries, 0 to 431\n",
      "Data columns (total 15 columns):\n",
      " #   Column       Non-Null Count  Dtype  \n",
      "---  ------       --------------  -----  \n",
      " 0   Make         428 non-null    object \n",
      " 1   Model        428 non-null    object \n",
      " 2   Type         428 non-null    object \n",
      " 3   Origin       428 non-null    object \n",
      " 4   DriveTrain   428 non-null    object \n",
      " 5   MSRP         428 non-null    object \n",
      " 6   Invoice      428 non-null    object \n",
      " 7   EngineSize   428 non-null    float64\n",
      " 8   Cylinders    426 non-null    float64\n",
      " 9   Horsepower   428 non-null    float64\n",
      " 10  MPG_City     428 non-null    float64\n",
      " 11  MPG_Highway  428 non-null    float64\n",
      " 12  Weight       428 non-null    float64\n",
      " 13  Wheelbase    428 non-null    float64\n",
      " 14  Length       428 non-null    float64\n",
      "dtypes: float64(8), object(7)\n",
      "memory usage: 50.8+ KB\n"
     ]
    }
   ],
   "source": [
    "df.info()"
   ]
  },
  {
   "cell_type": "code",
   "execution_count": 10,
   "metadata": {},
   "outputs": [
    {
     "data": {
      "text/plain": [
       "4"
      ]
     },
     "execution_count": 10,
     "metadata": {},
     "output_type": "execute_result"
    }
   ],
   "source": [
    "df['Make'].isna().sum()"
   ]
  },
  {
   "cell_type": "code",
   "execution_count": 11,
   "metadata": {},
   "outputs": [
    {
     "data": {
      "text/plain": [
       "0.9259259259259258"
      ]
     },
     "execution_count": 11,
     "metadata": {},
     "output_type": "execute_result"
    }
   ],
   "source": [
    "df['Make'].isna().sum()/(len(df))*100"
   ]
  },
  {
   "cell_type": "code",
   "execution_count": 12,
   "metadata": {},
   "outputs": [
    {
     "data": {
      "text/plain": [
       "Toyota           28\n",
       "Chevrolet        27\n",
       "Mercedes-Benz    26\n",
       "Ford             23\n",
       "BMW              20\n",
       "Audi             19\n",
       "Nissan           17\n",
       "Honda            17\n",
       "Chrysler         15\n",
       "Volkswagen       15\n",
       "Dodge            13\n",
       "Mitsubishi       13\n",
       "Hyundai          12\n",
       "Volvo            12\n",
       "Jaguar           12\n",
       "Lexus            11\n",
       "Pontiac          11\n",
       "Kia              11\n",
       "Mazda            11\n",
       "Subaru           11\n",
       "Mercury           9\n",
       "Lincoln           9\n",
       "Buick             9\n",
       "Suzuki            8\n",
       "Saturn            8\n",
       "Infiniti          8\n",
       "GMC               8\n",
       "Cadillac          8\n",
       "Acura             7\n",
       "Saab              7\n",
       "Porsche           7\n",
       "Jeep              3\n",
       "Land Rover        3\n",
       "Oldsmobile        3\n",
       "Scion             2\n",
       "MINI              2\n",
       "Isuzu             2\n",
       "Hummer            1\n",
       "Name: Make, dtype: int64"
      ]
     },
     "execution_count": 12,
     "metadata": {},
     "output_type": "execute_result"
    }
   ],
   "source": [
    "df['Make'].value_counts()"
   ]
  },
  {
   "cell_type": "code",
   "execution_count": 13,
   "metadata": {},
   "outputs": [],
   "source": [
    "df['Make'].replace(np.nan,'Toyota',inplace=True)"
   ]
  },
  {
   "cell_type": "code",
   "execution_count": 14,
   "metadata": {},
   "outputs": [
    {
     "data": {
      "text/plain": [
       "0"
      ]
     },
     "execution_count": 14,
     "metadata": {},
     "output_type": "execute_result"
    }
   ],
   "source": [
    "df['Make'].isna().sum()"
   ]
  },
  {
   "cell_type": "code",
   "execution_count": 15,
   "metadata": {},
   "outputs": [
    {
     "data": {
      "text/plain": [
       "4"
      ]
     },
     "execution_count": 15,
     "metadata": {},
     "output_type": "execute_result"
    }
   ],
   "source": [
    "df['Model'].isna().sum()\n"
   ]
  },
  {
   "cell_type": "code",
   "execution_count": 16,
   "metadata": {},
   "outputs": [
    {
     "data": {
      "text/plain": [
       "0.9259259259259258"
      ]
     },
     "execution_count": 16,
     "metadata": {},
     "output_type": "execute_result"
    }
   ],
   "source": [
    "df['Model'].isna().sum()/(len(df))*100"
   ]
  },
  {
   "cell_type": "code",
   "execution_count": 17,
   "metadata": {},
   "outputs": [
    {
     "data": {
      "text/plain": [
       "C320 4dr                        2\n",
       "G35 4dr                         2\n",
       "C240 4dr                        2\n",
       "Focus ZTW                       1\n",
       "Sebring Touring 4dr             1\n",
       "                               ..\n",
       "Sebring 4dr                     1\n",
       "S4 Quattro 4dr                  1\n",
       "325Ci 2dr                       1\n",
       "Grand Marquis LS Premium 4dr    1\n",
       "Grand Caravan SXT               1\n",
       "Name: Model, Length: 425, dtype: int64"
      ]
     },
     "execution_count": 17,
     "metadata": {},
     "output_type": "execute_result"
    }
   ],
   "source": [
    "df['Model'].value_counts()"
   ]
  },
  {
   "cell_type": "code",
   "execution_count": 18,
   "metadata": {},
   "outputs": [],
   "source": [
    "df['Model'].replace(np.nan,'C320 4dr',inplace=True)"
   ]
  },
  {
   "cell_type": "code",
   "execution_count": 19,
   "metadata": {},
   "outputs": [
    {
     "data": {
      "text/plain": [
       "0"
      ]
     },
     "execution_count": 19,
     "metadata": {},
     "output_type": "execute_result"
    }
   ],
   "source": [
    "df['Model'].isna().sum()\n"
   ]
  },
  {
   "cell_type": "code",
   "execution_count": 20,
   "metadata": {},
   "outputs": [
    {
     "data": {
      "text/plain": [
       "4"
      ]
     },
     "execution_count": 20,
     "metadata": {},
     "output_type": "execute_result"
    }
   ],
   "source": [
    "df['Type'].isna().sum()\n"
   ]
  },
  {
   "cell_type": "code",
   "execution_count": 21,
   "metadata": {},
   "outputs": [
    {
     "data": {
      "text/plain": [
       "0.9259259259259258"
      ]
     },
     "execution_count": 21,
     "metadata": {},
     "output_type": "execute_result"
    }
   ],
   "source": [
    "df['Type'].isna().sum()/(len(df))*100"
   ]
  },
  {
   "cell_type": "code",
   "execution_count": 22,
   "metadata": {},
   "outputs": [
    {
     "data": {
      "text/plain": [
       "Sedan     262\n",
       "SUV        60\n",
       "Sports     49\n",
       "Wagon      30\n",
       "Truck      24\n",
       "Hybrid      3\n",
       "Name: Type, dtype: int64"
      ]
     },
     "execution_count": 22,
     "metadata": {},
     "output_type": "execute_result"
    }
   ],
   "source": [
    "df['Type'].value_counts()"
   ]
  },
  {
   "cell_type": "code",
   "execution_count": 23,
   "metadata": {},
   "outputs": [],
   "source": [
    "df['Type'].replace(np.nan,'Sedan',inplace=True)"
   ]
  },
  {
   "cell_type": "code",
   "execution_count": 24,
   "metadata": {},
   "outputs": [
    {
     "data": {
      "text/plain": [
       "0"
      ]
     },
     "execution_count": 24,
     "metadata": {},
     "output_type": "execute_result"
    }
   ],
   "source": [
    "df['Type'].isna().sum()\n"
   ]
  },
  {
   "cell_type": "code",
   "execution_count": 25,
   "metadata": {},
   "outputs": [
    {
     "data": {
      "text/plain": [
       "4"
      ]
     },
     "execution_count": 25,
     "metadata": {},
     "output_type": "execute_result"
    }
   ],
   "source": [
    "df['Origin'].isna().sum()"
   ]
  },
  {
   "cell_type": "code",
   "execution_count": 26,
   "metadata": {},
   "outputs": [
    {
     "data": {
      "text/plain": [
       "0.9259259259259258"
      ]
     },
     "execution_count": 26,
     "metadata": {},
     "output_type": "execute_result"
    }
   ],
   "source": [
    "df['Origin'].isna().sum()/(len(df))*100"
   ]
  },
  {
   "cell_type": "code",
   "execution_count": 27,
   "metadata": {},
   "outputs": [
    {
     "data": {
      "text/plain": [
       "Asia      158\n",
       "USA       147\n",
       "Europe    123\n",
       "Name: Origin, dtype: int64"
      ]
     },
     "execution_count": 27,
     "metadata": {},
     "output_type": "execute_result"
    }
   ],
   "source": [
    "df['Origin'].value_counts()"
   ]
  },
  {
   "cell_type": "code",
   "execution_count": 28,
   "metadata": {},
   "outputs": [],
   "source": [
    "df['Origin'].replace(np.nan,'Asia',inplace=True)"
   ]
  },
  {
   "cell_type": "code",
   "execution_count": 29,
   "metadata": {},
   "outputs": [
    {
     "data": {
      "text/plain": [
       "0"
      ]
     },
     "execution_count": 29,
     "metadata": {},
     "output_type": "execute_result"
    }
   ],
   "source": [
    "df['Origin'].isna().sum()"
   ]
  },
  {
   "cell_type": "code",
   "execution_count": 30,
   "metadata": {},
   "outputs": [
    {
     "data": {
      "text/plain": [
       "4"
      ]
     },
     "execution_count": 30,
     "metadata": {},
     "output_type": "execute_result"
    }
   ],
   "source": [
    "df['DriveTrain'].isna().sum()"
   ]
  },
  {
   "cell_type": "code",
   "execution_count": 31,
   "metadata": {},
   "outputs": [
    {
     "data": {
      "text/plain": [
       "Front    226\n",
       "Rear     110\n",
       "All       92\n",
       "Name: DriveTrain, dtype: int64"
      ]
     },
     "execution_count": 31,
     "metadata": {},
     "output_type": "execute_result"
    }
   ],
   "source": [
    "df['DriveTrain'].value_counts()"
   ]
  },
  {
   "cell_type": "code",
   "execution_count": 32,
   "metadata": {},
   "outputs": [],
   "source": [
    "df['DriveTrain'].replace(np.nan,'Front',inplace=True)"
   ]
  },
  {
   "cell_type": "code",
   "execution_count": 33,
   "metadata": {
    "scrolled": true
   },
   "outputs": [
    {
     "data": {
      "text/plain": [
       "0"
      ]
     },
     "execution_count": 33,
     "metadata": {},
     "output_type": "execute_result"
    }
   ],
   "source": [
    "df['DriveTrain'].isna().sum()"
   ]
  },
  {
   "cell_type": "code",
   "execution_count": 34,
   "metadata": {},
   "outputs": [],
   "source": [
    "df['MSRP'] = df['MSRP'].str.replace('$','').str.replace(',','').astype(float)  #data type convert object to float"
   ]
  },
  {
   "cell_type": "code",
   "execution_count": 35,
   "metadata": {},
   "outputs": [
    {
     "name": "stdout",
     "output_type": "stream",
     "text": [
      "<class 'pandas.core.frame.DataFrame'>\n",
      "RangeIndex: 432 entries, 0 to 431\n",
      "Data columns (total 15 columns):\n",
      " #   Column       Non-Null Count  Dtype  \n",
      "---  ------       --------------  -----  \n",
      " 0   Make         432 non-null    object \n",
      " 1   Model        432 non-null    object \n",
      " 2   Type         432 non-null    object \n",
      " 3   Origin       432 non-null    object \n",
      " 4   DriveTrain   432 non-null    object \n",
      " 5   MSRP         428 non-null    float64\n",
      " 6   Invoice      428 non-null    object \n",
      " 7   EngineSize   428 non-null    float64\n",
      " 8   Cylinders    426 non-null    float64\n",
      " 9   Horsepower   428 non-null    float64\n",
      " 10  MPG_City     428 non-null    float64\n",
      " 11  MPG_Highway  428 non-null    float64\n",
      " 12  Weight       428 non-null    float64\n",
      " 13  Wheelbase    428 non-null    float64\n",
      " 14  Length       428 non-null    float64\n",
      "dtypes: float64(9), object(6)\n",
      "memory usage: 50.8+ KB\n"
     ]
    }
   ],
   "source": [
    "df.info()"
   ]
  },
  {
   "cell_type": "code",
   "execution_count": 36,
   "metadata": {},
   "outputs": [
    {
     "data": {
      "text/html": [
       "<div>\n",
       "<style scoped>\n",
       "    .dataframe tbody tr th:only-of-type {\n",
       "        vertical-align: middle;\n",
       "    }\n",
       "\n",
       "    .dataframe tbody tr th {\n",
       "        vertical-align: top;\n",
       "    }\n",
       "\n",
       "    .dataframe thead th {\n",
       "        text-align: right;\n",
       "    }\n",
       "</style>\n",
       "<table border=\"1\" class=\"dataframe\">\n",
       "  <thead>\n",
       "    <tr style=\"text-align: right;\">\n",
       "      <th></th>\n",
       "      <th>Make</th>\n",
       "      <th>Model</th>\n",
       "      <th>Type</th>\n",
       "      <th>Origin</th>\n",
       "      <th>DriveTrain</th>\n",
       "      <th>MSRP</th>\n",
       "      <th>Invoice</th>\n",
       "      <th>EngineSize</th>\n",
       "      <th>Cylinders</th>\n",
       "      <th>Horsepower</th>\n",
       "      <th>MPG_City</th>\n",
       "      <th>MPG_Highway</th>\n",
       "      <th>Weight</th>\n",
       "      <th>Wheelbase</th>\n",
       "      <th>Length</th>\n",
       "    </tr>\n",
       "  </thead>\n",
       "  <tbody>\n",
       "    <tr>\n",
       "      <th>0</th>\n",
       "      <td>Acura</td>\n",
       "      <td>MDX</td>\n",
       "      <td>SUV</td>\n",
       "      <td>Asia</td>\n",
       "      <td>All</td>\n",
       "      <td>36945.0</td>\n",
       "      <td>$33,337</td>\n",
       "      <td>3.5</td>\n",
       "      <td>6.0</td>\n",
       "      <td>265.0</td>\n",
       "      <td>17.0</td>\n",
       "      <td>23.0</td>\n",
       "      <td>4451.0</td>\n",
       "      <td>106.0</td>\n",
       "      <td>189.0</td>\n",
       "    </tr>\n",
       "    <tr>\n",
       "      <th>1</th>\n",
       "      <td>Acura</td>\n",
       "      <td>RSX Type S 2dr</td>\n",
       "      <td>Sedan</td>\n",
       "      <td>Asia</td>\n",
       "      <td>Front</td>\n",
       "      <td>23820.0</td>\n",
       "      <td>$21,761</td>\n",
       "      <td>2.0</td>\n",
       "      <td>4.0</td>\n",
       "      <td>200.0</td>\n",
       "      <td>24.0</td>\n",
       "      <td>31.0</td>\n",
       "      <td>2778.0</td>\n",
       "      <td>101.0</td>\n",
       "      <td>172.0</td>\n",
       "    </tr>\n",
       "    <tr>\n",
       "      <th>2</th>\n",
       "      <td>Acura</td>\n",
       "      <td>TSX 4dr</td>\n",
       "      <td>Sedan</td>\n",
       "      <td>Asia</td>\n",
       "      <td>Front</td>\n",
       "      <td>26990.0</td>\n",
       "      <td>$24,647</td>\n",
       "      <td>2.4</td>\n",
       "      <td>4.0</td>\n",
       "      <td>200.0</td>\n",
       "      <td>22.0</td>\n",
       "      <td>29.0</td>\n",
       "      <td>3230.0</td>\n",
       "      <td>105.0</td>\n",
       "      <td>183.0</td>\n",
       "    </tr>\n",
       "    <tr>\n",
       "      <th>3</th>\n",
       "      <td>Acura</td>\n",
       "      <td>TL 4dr</td>\n",
       "      <td>Sedan</td>\n",
       "      <td>Asia</td>\n",
       "      <td>Front</td>\n",
       "      <td>33195.0</td>\n",
       "      <td>$30,299</td>\n",
       "      <td>3.2</td>\n",
       "      <td>6.0</td>\n",
       "      <td>270.0</td>\n",
       "      <td>20.0</td>\n",
       "      <td>28.0</td>\n",
       "      <td>3575.0</td>\n",
       "      <td>108.0</td>\n",
       "      <td>186.0</td>\n",
       "    </tr>\n",
       "    <tr>\n",
       "      <th>4</th>\n",
       "      <td>Acura</td>\n",
       "      <td>3.5 RL 4dr</td>\n",
       "      <td>Sedan</td>\n",
       "      <td>Asia</td>\n",
       "      <td>Front</td>\n",
       "      <td>43755.0</td>\n",
       "      <td>$39,014</td>\n",
       "      <td>3.5</td>\n",
       "      <td>6.0</td>\n",
       "      <td>225.0</td>\n",
       "      <td>18.0</td>\n",
       "      <td>24.0</td>\n",
       "      <td>3880.0</td>\n",
       "      <td>115.0</td>\n",
       "      <td>197.0</td>\n",
       "    </tr>\n",
       "    <tr>\n",
       "      <th>...</th>\n",
       "      <td>...</td>\n",
       "      <td>...</td>\n",
       "      <td>...</td>\n",
       "      <td>...</td>\n",
       "      <td>...</td>\n",
       "      <td>...</td>\n",
       "      <td>...</td>\n",
       "      <td>...</td>\n",
       "      <td>...</td>\n",
       "      <td>...</td>\n",
       "      <td>...</td>\n",
       "      <td>...</td>\n",
       "      <td>...</td>\n",
       "      <td>...</td>\n",
       "      <td>...</td>\n",
       "    </tr>\n",
       "    <tr>\n",
       "      <th>427</th>\n",
       "      <td>Volvo</td>\n",
       "      <td>C70 LPT convertible 2dr</td>\n",
       "      <td>Sedan</td>\n",
       "      <td>Europe</td>\n",
       "      <td>Front</td>\n",
       "      <td>40565.0</td>\n",
       "      <td>$38,203</td>\n",
       "      <td>2.4</td>\n",
       "      <td>5.0</td>\n",
       "      <td>197.0</td>\n",
       "      <td>21.0</td>\n",
       "      <td>28.0</td>\n",
       "      <td>3450.0</td>\n",
       "      <td>105.0</td>\n",
       "      <td>186.0</td>\n",
       "    </tr>\n",
       "    <tr>\n",
       "      <th>428</th>\n",
       "      <td>Volvo</td>\n",
       "      <td>C70 HPT convertible 2dr</td>\n",
       "      <td>Sedan</td>\n",
       "      <td>Europe</td>\n",
       "      <td>Front</td>\n",
       "      <td>42565.0</td>\n",
       "      <td>$40,083</td>\n",
       "      <td>2.3</td>\n",
       "      <td>5.0</td>\n",
       "      <td>242.0</td>\n",
       "      <td>20.0</td>\n",
       "      <td>26.0</td>\n",
       "      <td>3450.0</td>\n",
       "      <td>105.0</td>\n",
       "      <td>186.0</td>\n",
       "    </tr>\n",
       "    <tr>\n",
       "      <th>429</th>\n",
       "      <td>Volvo</td>\n",
       "      <td>S80 T6 4dr</td>\n",
       "      <td>Sedan</td>\n",
       "      <td>Europe</td>\n",
       "      <td>Front</td>\n",
       "      <td>45210.0</td>\n",
       "      <td>$42,573</td>\n",
       "      <td>2.9</td>\n",
       "      <td>6.0</td>\n",
       "      <td>268.0</td>\n",
       "      <td>19.0</td>\n",
       "      <td>26.0</td>\n",
       "      <td>3653.0</td>\n",
       "      <td>110.0</td>\n",
       "      <td>190.0</td>\n",
       "    </tr>\n",
       "    <tr>\n",
       "      <th>430</th>\n",
       "      <td>Volvo</td>\n",
       "      <td>V40</td>\n",
       "      <td>Wagon</td>\n",
       "      <td>Europe</td>\n",
       "      <td>Front</td>\n",
       "      <td>26135.0</td>\n",
       "      <td>$24,641</td>\n",
       "      <td>1.9</td>\n",
       "      <td>4.0</td>\n",
       "      <td>170.0</td>\n",
       "      <td>22.0</td>\n",
       "      <td>29.0</td>\n",
       "      <td>2822.0</td>\n",
       "      <td>101.0</td>\n",
       "      <td>180.0</td>\n",
       "    </tr>\n",
       "    <tr>\n",
       "      <th>431</th>\n",
       "      <td>Volvo</td>\n",
       "      <td>XC70</td>\n",
       "      <td>Wagon</td>\n",
       "      <td>Europe</td>\n",
       "      <td>All</td>\n",
       "      <td>35145.0</td>\n",
       "      <td>$33,112</td>\n",
       "      <td>2.5</td>\n",
       "      <td>5.0</td>\n",
       "      <td>208.0</td>\n",
       "      <td>20.0</td>\n",
       "      <td>27.0</td>\n",
       "      <td>3823.0</td>\n",
       "      <td>109.0</td>\n",
       "      <td>186.0</td>\n",
       "    </tr>\n",
       "  </tbody>\n",
       "</table>\n",
       "<p>432 rows × 15 columns</p>\n",
       "</div>"
      ],
      "text/plain": [
       "      Make                    Model   Type  Origin DriveTrain     MSRP  \\\n",
       "0    Acura                      MDX    SUV    Asia        All  36945.0   \n",
       "1    Acura           RSX Type S 2dr  Sedan    Asia      Front  23820.0   \n",
       "2    Acura                  TSX 4dr  Sedan    Asia      Front  26990.0   \n",
       "3    Acura                   TL 4dr  Sedan    Asia      Front  33195.0   \n",
       "4    Acura               3.5 RL 4dr  Sedan    Asia      Front  43755.0   \n",
       "..     ...                      ...    ...     ...        ...      ...   \n",
       "427  Volvo  C70 LPT convertible 2dr  Sedan  Europe      Front  40565.0   \n",
       "428  Volvo  C70 HPT convertible 2dr  Sedan  Europe      Front  42565.0   \n",
       "429  Volvo               S80 T6 4dr  Sedan  Europe      Front  45210.0   \n",
       "430  Volvo                      V40  Wagon  Europe      Front  26135.0   \n",
       "431  Volvo                     XC70  Wagon  Europe        All  35145.0   \n",
       "\n",
       "      Invoice  EngineSize  Cylinders  Horsepower  MPG_City  MPG_Highway  \\\n",
       "0    $33,337          3.5        6.0       265.0      17.0         23.0   \n",
       "1    $21,761          2.0        4.0       200.0      24.0         31.0   \n",
       "2    $24,647          2.4        4.0       200.0      22.0         29.0   \n",
       "3    $30,299          3.2        6.0       270.0      20.0         28.0   \n",
       "4    $39,014          3.5        6.0       225.0      18.0         24.0   \n",
       "..        ...         ...        ...         ...       ...          ...   \n",
       "427  $38,203          2.4        5.0       197.0      21.0         28.0   \n",
       "428  $40,083          2.3        5.0       242.0      20.0         26.0   \n",
       "429  $42,573          2.9        6.0       268.0      19.0         26.0   \n",
       "430  $24,641          1.9        4.0       170.0      22.0         29.0   \n",
       "431  $33,112          2.5        5.0       208.0      20.0         27.0   \n",
       "\n",
       "     Weight  Wheelbase  Length  \n",
       "0    4451.0      106.0   189.0  \n",
       "1    2778.0      101.0   172.0  \n",
       "2    3230.0      105.0   183.0  \n",
       "3    3575.0      108.0   186.0  \n",
       "4    3880.0      115.0   197.0  \n",
       "..      ...        ...     ...  \n",
       "427  3450.0      105.0   186.0  \n",
       "428  3450.0      105.0   186.0  \n",
       "429  3653.0      110.0   190.0  \n",
       "430  2822.0      101.0   180.0  \n",
       "431  3823.0      109.0   186.0  \n",
       "\n",
       "[432 rows x 15 columns]"
      ]
     },
     "execution_count": 36,
     "metadata": {},
     "output_type": "execute_result"
    }
   ],
   "source": [
    "df"
   ]
  },
  {
   "cell_type": "code",
   "execution_count": 37,
   "metadata": {},
   "outputs": [
    {
     "data": {
      "text/plain": [
       "4"
      ]
     },
     "execution_count": 37,
     "metadata": {},
     "output_type": "execute_result"
    }
   ],
   "source": [
    "df['MSRP'].isna().sum()"
   ]
  },
  {
   "cell_type": "code",
   "execution_count": 38,
   "metadata": {},
   "outputs": [
    {
     "data": {
      "text/plain": [
       "0.9259259259259258"
      ]
     },
     "execution_count": 38,
     "metadata": {},
     "output_type": "execute_result"
    }
   ],
   "source": [
    "df['MSRP'].isna().sum()/(len(df))*100"
   ]
  },
  {
   "cell_type": "code",
   "execution_count": 39,
   "metadata": {},
   "outputs": [
    {
     "data": {
      "text/plain": [
       "<AxesSubplot:>"
      ]
     },
     "execution_count": 39,
     "metadata": {},
     "output_type": "execute_result"
    },
    {
     "data": {
      "image/png": "[encoded data removed]",
      "text/plain": [
       "<Figure size 432x288 with 1 Axes>"
      ]
     },
     "metadata": {
      "needs_background": "light"
     },
     "output_type": "display_data"
    }
   ],
   "source": [
    "import matplotlib.pyplot as plt\n",
    "import seaborn as sns\n",
    "%matplotlib inline\n",
    "sns.boxplot(data=df['MSRP'])"
   ]
  },
  {
   "cell_type": "code",
   "execution_count": 40,
   "metadata": {},
   "outputs": [],
   "source": [
    "avg = df['MSRP'].astype('float').median(axis=0)"
   ]
  },
  {
   "cell_type": "code",
   "execution_count": 41,
   "metadata": {
    "scrolled": false
   },
   "outputs": [
    {
     "data": {
      "text/plain": [
       "0"
      ]
     },
     "execution_count": 41,
     "metadata": {},
     "output_type": "execute_result"
    }
   ],
   "source": [
    "df['MSRP'].replace(np.nan,avg,inplace=True)\n",
    "df['MSRP'].isna().sum()"
   ]
  },
  {
   "cell_type": "code",
   "execution_count": 42,
   "metadata": {},
   "outputs": [],
   "source": [
    "df['Invoice'] = df['Invoice'].str.replace('$','').str.replace(',','').astype(float)  #data type convert object to float"
   ]
  },
  {
   "cell_type": "code",
   "execution_count": 43,
   "metadata": {
    "scrolled": true
   },
   "outputs": [
    {
     "name": "stdout",
     "output_type": "stream",
     "text": [
      "<class 'pandas.core.frame.DataFrame'>\n",
      "RangeIndex: 432 entries, 0 to 431\n",
      "Data columns (total 15 columns):\n",
      " #   Column       Non-Null Count  Dtype  \n",
      "---  ------       --------------  -----  \n",
      " 0   Make         432 non-null    object \n",
      " 1   Model        432 non-null    object \n",
      " 2   Type         432 non-null    object \n",
      " 3   Origin       432 non-null    object \n",
      " 4   DriveTrain   432 non-null    object \n",
      " 5   MSRP         432 non-null    float64\n",
      " 6   Invoice      428 non-null    float64\n",
      " 7   EngineSize   428 non-null    float64\n",
      " 8   Cylinders    426 non-null    float64\n",
      " 9   Horsepower   428 non-null    float64\n",
      " 10  MPG_City     428 non-null    float64\n",
      " 11  MPG_Highway  428 non-null    float64\n",
      " 12  Weight       428 non-null    float64\n",
      " 13  Wheelbase    428 non-null    float64\n",
      " 14  Length       428 non-null    float64\n",
      "dtypes: float64(10), object(5)\n",
      "memory usage: 50.8+ KB\n"
     ]
    }
   ],
   "source": [
    "df.info()"
   ]
  },
  {
   "cell_type": "code",
   "execution_count": 44,
   "metadata": {
    "scrolled": true
   },
   "outputs": [
    {
     "data": {
      "text/html": [
       "<div>\n",
       "<style scoped>\n",
       "    .dataframe tbody tr th:only-of-type {\n",
       "        vertical-align: middle;\n",
       "    }\n",
       "\n",
       "    .dataframe tbody tr th {\n",
       "        vertical-align: top;\n",
       "    }\n",
       "\n",
       "    .dataframe thead th {\n",
       "        text-align: right;\n",
       "    }\n",
       "</style>\n",
       "<table border=\"1\" class=\"dataframe\">\n",
       "  <thead>\n",
       "    <tr style=\"text-align: right;\">\n",
       "      <th></th>\n",
       "      <th>Make</th>\n",
       "      <th>Model</th>\n",
       "      <th>Type</th>\n",
       "      <th>Origin</th>\n",
       "      <th>DriveTrain</th>\n",
       "      <th>MSRP</th>\n",
       "      <th>Invoice</th>\n",
       "      <th>EngineSize</th>\n",
       "      <th>Cylinders</th>\n",
       "      <th>Horsepower</th>\n",
       "      <th>MPG_City</th>\n",
       "      <th>MPG_Highway</th>\n",
       "      <th>Weight</th>\n",
       "      <th>Wheelbase</th>\n",
       "      <th>Length</th>\n",
       "    </tr>\n",
       "  </thead>\n",
       "  <tbody>\n",
       "    <tr>\n",
       "      <th>0</th>\n",
       "      <td>Acura</td>\n",
       "      <td>MDX</td>\n",
       "      <td>SUV</td>\n",
       "      <td>Asia</td>\n",
       "      <td>All</td>\n",
       "      <td>36945.0</td>\n",
       "      <td>33337.0</td>\n",
       "      <td>3.5</td>\n",
       "      <td>6.0</td>\n",
       "      <td>265.0</td>\n",
       "      <td>17.0</td>\n",
       "      <td>23.0</td>\n",
       "      <td>4451.0</td>\n",
       "      <td>106.0</td>\n",
       "      <td>189.0</td>\n",
       "    </tr>\n",
       "    <tr>\n",
       "      <th>1</th>\n",
       "      <td>Acura</td>\n",
       "      <td>RSX Type S 2dr</td>\n",
       "      <td>Sedan</td>\n",
       "      <td>Asia</td>\n",
       "      <td>Front</td>\n",
       "      <td>23820.0</td>\n",
       "      <td>21761.0</td>\n",
       "      <td>2.0</td>\n",
       "      <td>4.0</td>\n",
       "      <td>200.0</td>\n",
       "      <td>24.0</td>\n",
       "      <td>31.0</td>\n",
       "      <td>2778.0</td>\n",
       "      <td>101.0</td>\n",
       "      <td>172.0</td>\n",
       "    </tr>\n",
       "    <tr>\n",
       "      <th>2</th>\n",
       "      <td>Acura</td>\n",
       "      <td>TSX 4dr</td>\n",
       "      <td>Sedan</td>\n",
       "      <td>Asia</td>\n",
       "      <td>Front</td>\n",
       "      <td>26990.0</td>\n",
       "      <td>24647.0</td>\n",
       "      <td>2.4</td>\n",
       "      <td>4.0</td>\n",
       "      <td>200.0</td>\n",
       "      <td>22.0</td>\n",
       "      <td>29.0</td>\n",
       "      <td>3230.0</td>\n",
       "      <td>105.0</td>\n",
       "      <td>183.0</td>\n",
       "    </tr>\n",
       "    <tr>\n",
       "      <th>3</th>\n",
       "      <td>Acura</td>\n",
       "      <td>TL 4dr</td>\n",
       "      <td>Sedan</td>\n",
       "      <td>Asia</td>\n",
       "      <td>Front</td>\n",
       "      <td>33195.0</td>\n",
       "      <td>30299.0</td>\n",
       "      <td>3.2</td>\n",
       "      <td>6.0</td>\n",
       "      <td>270.0</td>\n",
       "      <td>20.0</td>\n",
       "      <td>28.0</td>\n",
       "      <td>3575.0</td>\n",
       "      <td>108.0</td>\n",
       "      <td>186.0</td>\n",
       "    </tr>\n",
       "    <tr>\n",
       "      <th>4</th>\n",
       "      <td>Acura</td>\n",
       "      <td>3.5 RL 4dr</td>\n",
       "      <td>Sedan</td>\n",
       "      <td>Asia</td>\n",
       "      <td>Front</td>\n",
       "      <td>43755.0</td>\n",
       "      <td>39014.0</td>\n",
       "      <td>3.5</td>\n",
       "      <td>6.0</td>\n",
       "      <td>225.0</td>\n",
       "      <td>18.0</td>\n",
       "      <td>24.0</td>\n",
       "      <td>3880.0</td>\n",
       "      <td>115.0</td>\n",
       "      <td>197.0</td>\n",
       "    </tr>\n",
       "    <tr>\n",
       "      <th>...</th>\n",
       "      <td>...</td>\n",
       "      <td>...</td>\n",
       "      <td>...</td>\n",
       "      <td>...</td>\n",
       "      <td>...</td>\n",
       "      <td>...</td>\n",
       "      <td>...</td>\n",
       "      <td>...</td>\n",
       "      <td>...</td>\n",
       "      <td>...</td>\n",
       "      <td>...</td>\n",
       "      <td>...</td>\n",
       "      <td>...</td>\n",
       "      <td>...</td>\n",
       "      <td>...</td>\n",
       "    </tr>\n",
       "    <tr>\n",
       "      <th>427</th>\n",
       "      <td>Volvo</td>\n",
       "      <td>C70 LPT convertible 2dr</td>\n",
       "      <td>Sedan</td>\n",
       "      <td>Europe</td>\n",
       "      <td>Front</td>\n",
       "      <td>40565.0</td>\n",
       "      <td>38203.0</td>\n",
       "      <td>2.4</td>\n",
       "      <td>5.0</td>\n",
       "      <td>197.0</td>\n",
       "      <td>21.0</td>\n",
       "      <td>28.0</td>\n",
       "      <td>3450.0</td>\n",
       "      <td>105.0</td>\n",
       "      <td>186.0</td>\n",
       "    </tr>\n",
       "    <tr>\n",
       "      <th>428</th>\n",
       "      <td>Volvo</td>\n",
       "      <td>C70 HPT convertible 2dr</td>\n",
       "      <td>Sedan</td>\n",
       "      <td>Europe</td>\n",
       "      <td>Front</td>\n",
       "      <td>42565.0</td>\n",
       "      <td>40083.0</td>\n",
       "      <td>2.3</td>\n",
       "      <td>5.0</td>\n",
       "      <td>242.0</td>\n",
       "      <td>20.0</td>\n",
       "      <td>26.0</td>\n",
       "      <td>3450.0</td>\n",
       "      <td>105.0</td>\n",
       "      <td>186.0</td>\n",
       "    </tr>\n",
       "    <tr>\n",
       "      <th>429</th>\n",
       "      <td>Volvo</td>\n",
       "      <td>S80 T6 4dr</td>\n",
       "      <td>Sedan</td>\n",
       "      <td>Europe</td>\n",
       "      <td>Front</td>\n",
       "      <td>45210.0</td>\n",
       "      <td>42573.0</td>\n",
       "      <td>2.9</td>\n",
       "      <td>6.0</td>\n",
       "      <td>268.0</td>\n",
       "      <td>19.0</td>\n",
       "      <td>26.0</td>\n",
       "      <td>3653.0</td>\n",
       "      <td>110.0</td>\n",
       "      <td>190.0</td>\n",
       "    </tr>\n",
       "    <tr>\n",
       "      <th>430</th>\n",
       "      <td>Volvo</td>\n",
       "      <td>V40</td>\n",
       "      <td>Wagon</td>\n",
       "      <td>Europe</td>\n",
       "      <td>Front</td>\n",
       "      <td>26135.0</td>\n",
       "      <td>24641.0</td>\n",
       "      <td>1.9</td>\n",
       "      <td>4.0</td>\n",
       "      <td>170.0</td>\n",
       "      <td>22.0</td>\n",
       "      <td>29.0</td>\n",
       "      <td>2822.0</td>\n",
       "      <td>101.0</td>\n",
       "      <td>180.0</td>\n",
       "    </tr>\n",
       "    <tr>\n",
       "      <th>431</th>\n",
       "      <td>Volvo</td>\n",
       "      <td>XC70</td>\n",
       "      <td>Wagon</td>\n",
       "      <td>Europe</td>\n",
       "      <td>All</td>\n",
       "      <td>35145.0</td>\n",
       "      <td>33112.0</td>\n",
       "      <td>2.5</td>\n",
       "      <td>5.0</td>\n",
       "      <td>208.0</td>\n",
       "      <td>20.0</td>\n",
       "      <td>27.0</td>\n",
       "      <td>3823.0</td>\n",
       "      <td>109.0</td>\n",
       "      <td>186.0</td>\n",
       "    </tr>\n",
       "  </tbody>\n",
       "</table>\n",
       "<p>432 rows × 15 columns</p>\n",
       "</div>"
      ],
      "text/plain": [
       "      Make                    Model   Type  Origin DriveTrain     MSRP  \\\n",
       "0    Acura                      MDX    SUV    Asia        All  36945.0   \n",
       "1    Acura           RSX Type S 2dr  Sedan    Asia      Front  23820.0   \n",
       "2    Acura                  TSX 4dr  Sedan    Asia      Front  26990.0   \n",
       "3    Acura                   TL 4dr  Sedan    Asia      Front  33195.0   \n",
       "4    Acura               3.5 RL 4dr  Sedan    Asia      Front  43755.0   \n",
       "..     ...                      ...    ...     ...        ...      ...   \n",
       "427  Volvo  C70 LPT convertible 2dr  Sedan  Europe      Front  40565.0   \n",
       "428  Volvo  C70 HPT convertible 2dr  Sedan  Europe      Front  42565.0   \n",
       "429  Volvo               S80 T6 4dr  Sedan  Europe      Front  45210.0   \n",
       "430  Volvo                      V40  Wagon  Europe      Front  26135.0   \n",
       "431  Volvo                     XC70  Wagon  Europe        All  35145.0   \n",
       "\n",
       "     Invoice  EngineSize  Cylinders  Horsepower  MPG_City  MPG_Highway  \\\n",
       "0    33337.0         3.5        6.0       265.0      17.0         23.0   \n",
       "1    21761.0         2.0        4.0       200.0      24.0         31.0   \n",
       "2    24647.0         2.4        4.0       200.0      22.0         29.0   \n",
       "3    30299.0         3.2        6.0       270.0      20.0         28.0   \n",
       "4    39014.0         3.5        6.0       225.0      18.0         24.0   \n",
       "..       ...         ...        ...         ...       ...          ...   \n",
       "427  38203.0         2.4        5.0       197.0      21.0         28.0   \n",
       "428  40083.0         2.3        5.0       242.0      20.0         26.0   \n",
       "429  42573.0         2.9        6.0       268.0      19.0         26.0   \n",
       "430  24641.0         1.9        4.0       170.0      22.0         29.0   \n",
       "431  33112.0         2.5        5.0       208.0      20.0         27.0   \n",
       "\n",
       "     Weight  Wheelbase  Length  \n",
       "0    4451.0      106.0   189.0  \n",
       "1    2778.0      101.0   172.0  \n",
       "2    3230.0      105.0   183.0  \n",
       "3    3575.0      108.0   186.0  \n",
       "4    3880.0      115.0   197.0  \n",
       "..      ...        ...     ...  \n",
       "427  3450.0      105.0   186.0  \n",
       "428  3450.0      105.0   186.0  \n",
       "429  3653.0      110.0   190.0  \n",
       "430  2822.0      101.0   180.0  \n",
       "431  3823.0      109.0   186.0  \n",
       "\n",
       "[432 rows x 15 columns]"
      ]
     },
     "execution_count": 44,
     "metadata": {},
     "output_type": "execute_result"
    }
   ],
   "source": [
    "df"
   ]
  },
  {
   "cell_type": "code",
   "execution_count": 45,
   "metadata": {
    "scrolled": true
   },
   "outputs": [
    {
     "data": {
      "text/plain": [
       "<AxesSubplot:>"
      ]
     },
     "execution_count": 45,
     "metadata": {},
     "output_type": "execute_result"
    },
    {
     "data": {
      "image/png": "[encoded data removed]",
      "text/plain": [
       "<Figure size 432x288 with 1 Axes>"
      ]
     },
     "metadata": {
      "needs_background": "light"
     },
     "output_type": "display_data"
    }
   ],
   "source": [
    "sns.boxplot(data=df['Invoice'])"
   ]
  },
  {
   "cell_type": "code",
   "execution_count": 46,
   "metadata": {},
   "outputs": [
    {
     "data": {
      "text/plain": [
       "0"
      ]
     },
     "execution_count": 46,
     "metadata": {},
     "output_type": "execute_result"
    }
   ],
   "source": [
    "avg = df['Invoice'].astype('float').median(axis=0)\n",
    "df['Invoice'].replace(np.nan,avg,inplace=True)\n",
    "df['Invoice'].isna().sum()"
   ]
  },
  {
   "cell_type": "code",
   "execution_count": 47,
   "metadata": {},
   "outputs": [
    {
     "data": {
      "text/plain": [
       "4"
      ]
     },
     "execution_count": 47,
     "metadata": {},
     "output_type": "execute_result"
    }
   ],
   "source": [
    "df['EngineSize'].isna().sum()"
   ]
  },
  {
   "cell_type": "code",
   "execution_count": 48,
   "metadata": {},
   "outputs": [
    {
     "data": {
      "text/plain": [
       "0.9259259259259258"
      ]
     },
     "execution_count": 48,
     "metadata": {},
     "output_type": "execute_result"
    }
   ],
   "source": [
    "df['EngineSize'].isna().sum()/(len(df))*100"
   ]
  },
  {
   "cell_type": "code",
   "execution_count": 49,
   "metadata": {},
   "outputs": [
    {
     "data": {
      "text/plain": [
       "<AxesSubplot:>"
      ]
     },
     "execution_count": 49,
     "metadata": {},
     "output_type": "execute_result"
    },
    {
     "data": {
      "image/png": "[encoded data removed]",
      "text/plain": [
       "<Figure size 432x288 with 1 Axes>"
      ]
     },
     "metadata": {
      "needs_background": "light"
     },
     "output_type": "display_data"
    }
   ],
   "source": [
    "sns.boxplot(data=df['EngineSize'])"
   ]
  },
  {
   "cell_type": "code",
   "execution_count": 50,
   "metadata": {},
   "outputs": [],
   "source": [
    "avg = df['EngineSize'].astype('float').median(axis=0)"
   ]
  },
  {
   "cell_type": "code",
   "execution_count": 51,
   "metadata": {},
   "outputs": [],
   "source": [
    "df['EngineSize'].replace(np.nan,avg,inplace=True)"
   ]
  },
  {
   "cell_type": "code",
   "execution_count": 52,
   "metadata": {},
   "outputs": [
    {
     "data": {
      "text/plain": [
       "0"
      ]
     },
     "execution_count": 52,
     "metadata": {},
     "output_type": "execute_result"
    }
   ],
   "source": [
    "df['EngineSize'].isna().sum()"
   ]
  },
  {
   "cell_type": "code",
   "execution_count": 53,
   "metadata": {},
   "outputs": [
    {
     "data": {
      "text/plain": [
       "6"
      ]
     },
     "execution_count": 53,
     "metadata": {},
     "output_type": "execute_result"
    }
   ],
   "source": [
    "df['Cylinders'].isna().sum()"
   ]
  },
  {
   "cell_type": "code",
   "execution_count": 54,
   "metadata": {},
   "outputs": [
    {
     "data": {
      "text/plain": [
       "1.3888888888888888"
      ]
     },
     "execution_count": 54,
     "metadata": {},
     "output_type": "execute_result"
    }
   ],
   "source": [
    "df['Cylinders'].isna().sum()/(len(df))*100"
   ]
  },
  {
   "cell_type": "code",
   "execution_count": 55,
   "metadata": {},
   "outputs": [
    {
     "data": {
      "text/plain": [
       "<AxesSubplot:>"
      ]
     },
     "execution_count": 55,
     "metadata": {},
     "output_type": "execute_result"
    },
    {
     "data": {
      "image/png": "[encoded data removed]",
      "text/plain": [
       "<Figure size 432x288 with 1 Axes>"
      ]
     },
     "metadata": {
      "needs_background": "light"
     },
     "output_type": "display_data"
    }
   ],
   "source": [
    "sns.boxplot(data=df['Cylinders'])"
   ]
  },
  {
   "cell_type": "code",
   "execution_count": 56,
   "metadata": {},
   "outputs": [
    {
     "data": {
      "text/plain": [
       "0"
      ]
     },
     "execution_count": 56,
     "metadata": {},
     "output_type": "execute_result"
    }
   ],
   "source": [
    "avg = df['Cylinders'].astype('float').median(axis=0)\n",
    "df['Cylinders'].replace(np.nan,avg,inplace=True)\n",
    "df['Cylinders'].isna().sum()"
   ]
  },
  {
   "cell_type": "code",
   "execution_count": 57,
   "metadata": {},
   "outputs": [
    {
     "data": {
      "text/plain": [
       "4"
      ]
     },
     "execution_count": 57,
     "metadata": {},
     "output_type": "execute_result"
    }
   ],
   "source": [
    "df['Horsepower'].isna().sum()"
   ]
  },
  {
   "cell_type": "code",
   "execution_count": 58,
   "metadata": {},
   "outputs": [
    {
     "data": {
      "text/plain": [
       "<AxesSubplot:>"
      ]
     },
     "execution_count": 58,
     "metadata": {},
     "output_type": "execute_result"
    },
    {
     "data": {
      "image/png": "[encoded data removed]",
      "text/plain": [
       "<Figure size 432x288 with 1 Axes>"
      ]
     },
     "metadata": {
      "needs_background": "light"
     },
     "output_type": "display_data"
    }
   ],
   "source": [
    "sns.boxplot(data=df['Horsepower'])"
   ]
  },
  {
   "cell_type": "code",
   "execution_count": 59,
   "metadata": {},
   "outputs": [
    {
     "data": {
      "text/plain": [
       "0"
      ]
     },
     "execution_count": 59,
     "metadata": {},
     "output_type": "execute_result"
    }
   ],
   "source": [
    "avg = df['Horsepower'].astype('float').median(axis=0)\n",
    "df['Horsepower'].replace(np.nan,avg,inplace=True)\n",
    "df['Horsepower'].isna().sum()"
   ]
  },
  {
   "cell_type": "code",
   "execution_count": 60,
   "metadata": {},
   "outputs": [
    {
     "data": {
      "text/plain": [
       "4"
      ]
     },
     "execution_count": 60,
     "metadata": {},
     "output_type": "execute_result"
    }
   ],
   "source": [
    "df['MPG_City'].isna().sum()"
   ]
  },
  {
   "cell_type": "code",
   "execution_count": 61,
   "metadata": {},
   "outputs": [
    {
     "data": {
      "text/plain": [
       "<AxesSubplot:>"
      ]
     },
     "execution_count": 61,
     "metadata": {},
     "output_type": "execute_result"
    },
    {
     "data": {
      "image/png": "[encoded data removed]",
      "text/plain": [
       "<Figure size 432x288 with 1 Axes>"
      ]
     },
     "metadata": {
      "needs_background": "light"
     },
     "output_type": "display_data"
    }
   ],
   "source": [
    "sns.boxplot(data=df['MPG_City'])"
   ]
  },
  {
   "cell_type": "code",
   "execution_count": 62,
   "metadata": {},
   "outputs": [
    {
     "data": {
      "text/plain": [
       "0"
      ]
     },
     "execution_count": 62,
     "metadata": {},
     "output_type": "execute_result"
    }
   ],
   "source": [
    "avg = df['MPG_City'].astype('float').median(axis=0)\n",
    "df['MPG_City'].replace(np.nan,avg,inplace=True)\n",
    "df['MPG_City'].isna().sum()"
   ]
  },
  {
   "cell_type": "code",
   "execution_count": 63,
   "metadata": {},
   "outputs": [
    {
     "data": {
      "text/plain": [
       "4"
      ]
     },
     "execution_count": 63,
     "metadata": {},
     "output_type": "execute_result"
    }
   ],
   "source": [
    "df['MPG_Highway'].isna().sum()"
   ]
  },
  {
   "cell_type": "code",
   "execution_count": 64,
   "metadata": {},
   "outputs": [
    {
     "data": {
      "text/plain": [
       "<AxesSubplot:>"
      ]
     },
     "execution_count": 64,
     "metadata": {},
     "output_type": "execute_result"
    },
    {
     "data": {
      "image/png": "[encoded data removed]",
      "text/plain": [
       "<Figure size 432x288 with 1 Axes>"
      ]
     },
     "metadata": {
      "needs_background": "light"
     },
     "output_type": "display_data"
    }
   ],
   "source": [
    "sns.boxplot(data=df['MPG_Highway'])"
   ]
  },
  {
   "cell_type": "code",
   "execution_count": 65,
   "metadata": {},
   "outputs": [
    {
     "data": {
      "text/plain": [
       "0"
      ]
     },
     "execution_count": 65,
     "metadata": {},
     "output_type": "execute_result"
    }
   ],
   "source": [
    "avg = df['MPG_Highway'].astype('float').median(axis=0)\n",
    "df['MPG_Highway'].replace(np.nan,avg,inplace=True)\n",
    "df['MPG_Highway'].isna().sum()"
   ]
  },
  {
   "cell_type": "code",
   "execution_count": 66,
   "metadata": {},
   "outputs": [
    {
     "data": {
      "text/plain": [
       "4"
      ]
     },
     "execution_count": 66,
     "metadata": {},
     "output_type": "execute_result"
    }
   ],
   "source": [
    "df['Weight'].isna().sum()"
   ]
  },
  {
   "cell_type": "code",
   "execution_count": 67,
   "metadata": {},
   "outputs": [
    {
     "data": {
      "text/plain": [
       "<AxesSubplot:>"
      ]
     },
     "execution_count": 67,
     "metadata": {},
     "output_type": "execute_result"
    },
    {
     "data": {
      "image/png": "[encoded data removed]",
      "text/plain": [
       "<Figure size 432x288 with 1 Axes>"
      ]
     },
     "metadata": {
      "needs_background": "light"
     },
     "output_type": "display_data"
    }
   ],
   "source": [
    "sns.boxplot(data=df['Weight'])"
   ]
  },
  {
   "cell_type": "code",
   "execution_count": 68,
   "metadata": {},
   "outputs": [
    {
     "data": {
      "text/plain": [
       "0"
      ]
     },
     "execution_count": 68,
     "metadata": {},
     "output_type": "execute_result"
    }
   ],
   "source": [
    "avg = df['Weight'].astype('float').median(axis=0)\n",
    "df['Weight'].replace(np.nan,avg,inplace=True)\n",
    "df['Weight'].isna().sum()"
   ]
  },
  {
   "cell_type": "code",
   "execution_count": 69,
   "metadata": {},
   "outputs": [
    {
     "data": {
      "text/plain": [
       "4"
      ]
     },
     "execution_count": 69,
     "metadata": {},
     "output_type": "execute_result"
    }
   ],
   "source": [
    "df['Wheelbase'].isna().sum()"
   ]
  },
  {
   "cell_type": "code",
   "execution_count": 70,
   "metadata": {},
   "outputs": [
    {
     "data": {
      "text/plain": [
       "<AxesSubplot:>"
      ]
     },
     "execution_count": 70,
     "metadata": {},
     "output_type": "execute_result"
    },
    {
     "data": {
      "image/png": "[encoded data removed]",
      "text/plain": [
       "<Figure size 432x288 with 1 Axes>"
      ]
     },
     "metadata": {
      "needs_background": "light"
     },
     "output_type": "display_data"
    }
   ],
   "source": [
    "sns.boxplot(data=df['Wheelbase'])"
   ]
  },
  {
   "cell_type": "code",
   "execution_count": 71,
   "metadata": {},
   "outputs": [
    {
     "data": {
      "text/plain": [
       "0"
      ]
     },
     "execution_count": 71,
     "metadata": {},
     "output_type": "execute_result"
    }
   ],
   "source": [
    "avg = df['Weight'].astype('float').median(axis=0)\n",
    "df['Weight'].replace(np.nan,avg,inplace=True)\n",
    "df['Weight'].isna().sum()"
   ]
  },
  {
   "cell_type": "code",
   "execution_count": 72,
   "metadata": {},
   "outputs": [
    {
     "data": {
      "text/plain": [
       "4"
      ]
     },
     "execution_count": 72,
     "metadata": {},
     "output_type": "execute_result"
    }
   ],
   "source": [
    "df['Length'].isna().sum()"
   ]
  },
  {
   "cell_type": "code",
   "execution_count": 73,
   "metadata": {},
   "outputs": [
    {
     "data": {
      "text/plain": [
       "<AxesSubplot:>"
      ]
     },
     "execution_count": 73,
     "metadata": {},
     "output_type": "execute_result"
    },
    {
     "data": {
      "image/png": "[encoded data removed]",
      "text/plain": [
       "<Figure size 432x288 with 1 Axes>"
      ]
     },
     "metadata": {
      "needs_background": "light"
     },
     "output_type": "display_data"
    }
   ],
   "source": [
    "sns.boxplot(data=df['Length'])"
   ]
  },
  {
   "cell_type": "code",
   "execution_count": 74,
   "metadata": {},
   "outputs": [
    {
     "data": {
      "text/plain": [
       "0"
      ]
     },
     "execution_count": 74,
     "metadata": {},
     "output_type": "execute_result"
    }
   ],
   "source": [
    "avg = df['Length'].astype('float').median(axis=0)\n",
    "df['Length'].replace(np.nan,avg,inplace=True)\n",
    "df['Length'].isna().sum()"
   ]
  },
  {
   "cell_type": "code",
   "execution_count": 75,
   "metadata": {},
   "outputs": [
    {
     "data": {
      "text/plain": [
       "4"
      ]
     },
     "execution_count": 75,
     "metadata": {},
     "output_type": "execute_result"
    }
   ],
   "source": [
    "df['Wheelbase'].isna().sum()"
   ]
  },
  {
   "cell_type": "code",
   "execution_count": 76,
   "metadata": {},
   "outputs": [
    {
     "data": {
      "text/plain": [
       "<AxesSubplot:>"
      ]
     },
     "execution_count": 76,
     "metadata": {},
     "output_type": "execute_result"
    },
    {
     "data": {
      "image/png": "[encoded data removed]",
      "text/plain": [
       "<Figure size 432x288 with 1 Axes>"
      ]
     },
     "metadata": {
      "needs_background": "light"
     },
     "output_type": "display_data"
    }
   ],
   "source": [
    "sns.boxplot(data=df['Wheelbase'])"
   ]
  },
  {
   "cell_type": "code",
   "execution_count": 77,
   "metadata": {},
   "outputs": [
    {
     "data": {
      "text/plain": [
       "0"
      ]
     },
     "execution_count": 77,
     "metadata": {},
     "output_type": "execute_result"
    }
   ],
   "source": [
    "avg = df['Wheelbase'].astype('float').median(axis=0)\n",
    "df['Wheelbase'].replace(np.nan,avg,inplace=True)\n",
    "df['Wheelbase'].isna().sum()"
   ]
  },
  {
   "cell_type": "code",
   "execution_count": 78,
   "metadata": {},
   "outputs": [
    {
     "data": {
      "text/plain": [
       "Make           0\n",
       "Model          0\n",
       "Type           0\n",
       "Origin         0\n",
       "DriveTrain     0\n",
       "MSRP           0\n",
       "Invoice        0\n",
       "EngineSize     0\n",
       "Cylinders      0\n",
       "Horsepower     0\n",
       "MPG_City       0\n",
       "MPG_Highway    0\n",
       "Weight         0\n",
       "Wheelbase      0\n",
       "Length         0\n",
       "dtype: int64"
      ]
     },
     "execution_count": 78,
     "metadata": {},
     "output_type": "execute_result"
    }
   ],
   "source": [
    "df.isna().sum()"
   ]
  },
  {
   "cell_type": "code",
   "execution_count": 79,
   "metadata": {},
   "outputs": [
    {
     "data": {
      "text/plain": [
       "Index([], dtype='object')"
      ]
     },
     "execution_count": 79,
     "metadata": {},
     "output_type": "execute_result"
    }
   ],
   "source": [
    "df.columns[df.isnull().any()]"
   ]
  },
  {
   "cell_type": "code",
   "execution_count": 80,
   "metadata": {},
   "outputs": [],
   "source": [
    "df_numeric=df.select_dtypes(include=np.number)"
   ]
  },
  {
   "cell_type": "code",
   "execution_count": 81,
   "metadata": {},
   "outputs": [
    {
     "data": {
      "text/plain": [
       "Index(['MSRP', 'Invoice', 'EngineSize', 'Cylinders', 'Horsepower', 'MPG_City',\n",
       "       'MPG_Highway', 'Weight', 'Wheelbase', 'Length'],\n",
       "      dtype='object')"
      ]
     },
     "execution_count": 81,
     "metadata": {},
     "output_type": "execute_result"
    }
   ],
   "source": [
    "df_numeric.columns"
   ]
  },
  {
   "cell_type": "code",
   "execution_count": 82,
   "metadata": {},
   "outputs": [],
   "source": [
    "df_numeric_ind=df_numeric.drop(['MSRP'],axis=1)"
   ]
  },
  {
   "cell_type": "code",
   "execution_count": 83,
   "metadata": {},
   "outputs": [
    {
     "data": {
      "text/plain": [
       "Index(['Invoice', 'EngineSize', 'Cylinders', 'Horsepower', 'MPG_City',\n",
       "       'MPG_Highway', 'Weight', 'Wheelbase', 'Length'],\n",
       "      dtype='object')"
      ]
     },
     "execution_count": 83,
     "metadata": {},
     "output_type": "execute_result"
    }
   ],
   "source": [
    "df_numeric_ind.columns"
   ]
  },
  {
   "cell_type": "code",
   "execution_count": 84,
   "metadata": {},
   "outputs": [],
   "source": [
    "df_cat=df.select_dtypes(include='object')"
   ]
  },
  {
   "cell_type": "code",
   "execution_count": 85,
   "metadata": {},
   "outputs": [
    {
     "data": {
      "text/plain": [
       "Index(['Make', 'Model', 'Type', 'Origin', 'DriveTrain'], dtype='object')"
      ]
     },
     "execution_count": 85,
     "metadata": {},
     "output_type": "execute_result"
    }
   ],
   "source": [
    "df_cat.columns"
   ]
  },
  {
   "cell_type": "code",
   "execution_count": 86,
   "metadata": {},
   "outputs": [],
   "source": [
    "df_dummies =pd.get_dummies(df_cat)"
   ]
  },
  {
   "cell_type": "code",
   "execution_count": 87,
   "metadata": {},
   "outputs": [
    {
     "data": {
      "text/html": [
       "<div>\n",
       "<style scoped>\n",
       "    .dataframe tbody tr th:only-of-type {\n",
       "        vertical-align: middle;\n",
       "    }\n",
       "\n",
       "    .dataframe tbody tr th {\n",
       "        vertical-align: top;\n",
       "    }\n",
       "\n",
       "    .dataframe thead th {\n",
       "        text-align: right;\n",
       "    }\n",
       "</style>\n",
       "<table border=\"1\" class=\"dataframe\">\n",
       "  <thead>\n",
       "    <tr style=\"text-align: right;\">\n",
       "      <th></th>\n",
       "      <th>Make_Acura</th>\n",
       "      <th>Make_Audi</th>\n",
       "      <th>Make_BMW</th>\n",
       "      <th>Make_Buick</th>\n",
       "      <th>Make_Cadillac</th>\n",
       "      <th>Make_Chevrolet</th>\n",
       "      <th>Make_Chrysler</th>\n",
       "      <th>Make_Dodge</th>\n",
       "      <th>Make_Ford</th>\n",
       "      <th>Make_GMC</th>\n",
       "      <th>...</th>\n",
       "      <th>Type_Sedan</th>\n",
       "      <th>Type_Sports</th>\n",
       "      <th>Type_Truck</th>\n",
       "      <th>Type_Wagon</th>\n",
       "      <th>Origin_Asia</th>\n",
       "      <th>Origin_Europe</th>\n",
       "      <th>Origin_USA</th>\n",
       "      <th>DriveTrain_All</th>\n",
       "      <th>DriveTrain_Front</th>\n",
       "      <th>DriveTrain_Rear</th>\n",
       "    </tr>\n",
       "  </thead>\n",
       "  <tbody>\n",
       "    <tr>\n",
       "      <th>0</th>\n",
       "      <td>1</td>\n",
       "      <td>0</td>\n",
       "      <td>0</td>\n",
       "      <td>0</td>\n",
       "      <td>0</td>\n",
       "      <td>0</td>\n",
       "      <td>0</td>\n",
       "      <td>0</td>\n",
       "      <td>0</td>\n",
       "      <td>0</td>\n",
       "      <td>...</td>\n",
       "      <td>0</td>\n",
       "      <td>0</td>\n",
       "      <td>0</td>\n",
       "      <td>0</td>\n",
       "      <td>1</td>\n",
       "      <td>0</td>\n",
       "      <td>0</td>\n",
       "      <td>1</td>\n",
       "      <td>0</td>\n",
       "      <td>0</td>\n",
       "    </tr>\n",
       "    <tr>\n",
       "      <th>1</th>\n",
       "      <td>1</td>\n",
       "      <td>0</td>\n",
       "      <td>0</td>\n",
       "      <td>0</td>\n",
       "      <td>0</td>\n",
       "      <td>0</td>\n",
       "      <td>0</td>\n",
       "      <td>0</td>\n",
       "      <td>0</td>\n",
       "      <td>0</td>\n",
       "      <td>...</td>\n",
       "      <td>1</td>\n",
       "      <td>0</td>\n",
       "      <td>0</td>\n",
       "      <td>0</td>\n",
       "      <td>1</td>\n",
       "      <td>0</td>\n",
       "      <td>0</td>\n",
       "      <td>0</td>\n",
       "      <td>1</td>\n",
       "      <td>0</td>\n",
       "    </tr>\n",
       "    <tr>\n",
       "      <th>2</th>\n",
       "      <td>1</td>\n",
       "      <td>0</td>\n",
       "      <td>0</td>\n",
       "      <td>0</td>\n",
       "      <td>0</td>\n",
       "      <td>0</td>\n",
       "      <td>0</td>\n",
       "      <td>0</td>\n",
       "      <td>0</td>\n",
       "      <td>0</td>\n",
       "      <td>...</td>\n",
       "      <td>1</td>\n",
       "      <td>0</td>\n",
       "      <td>0</td>\n",
       "      <td>0</td>\n",
       "      <td>1</td>\n",
       "      <td>0</td>\n",
       "      <td>0</td>\n",
       "      <td>0</td>\n",
       "      <td>1</td>\n",
       "      <td>0</td>\n",
       "    </tr>\n",
       "    <tr>\n",
       "      <th>3</th>\n",
       "      <td>1</td>\n",
       "      <td>0</td>\n",
       "      <td>0</td>\n",
       "      <td>0</td>\n",
       "      <td>0</td>\n",
       "      <td>0</td>\n",
       "      <td>0</td>\n",
       "      <td>0</td>\n",
       "      <td>0</td>\n",
       "      <td>0</td>\n",
       "      <td>...</td>\n",
       "      <td>1</td>\n",
       "      <td>0</td>\n",
       "      <td>0</td>\n",
       "      <td>0</td>\n",
       "      <td>1</td>\n",
       "      <td>0</td>\n",
       "      <td>0</td>\n",
       "      <td>0</td>\n",
       "      <td>1</td>\n",
       "      <td>0</td>\n",
       "    </tr>\n",
       "    <tr>\n",
       "      <th>4</th>\n",
       "      <td>1</td>\n",
       "      <td>0</td>\n",
       "      <td>0</td>\n",
       "      <td>0</td>\n",
       "      <td>0</td>\n",
       "      <td>0</td>\n",
       "      <td>0</td>\n",
       "      <td>0</td>\n",
       "      <td>0</td>\n",
       "      <td>0</td>\n",
       "      <td>...</td>\n",
       "      <td>1</td>\n",
       "      <td>0</td>\n",
       "      <td>0</td>\n",
       "      <td>0</td>\n",
       "      <td>1</td>\n",
       "      <td>0</td>\n",
       "      <td>0</td>\n",
       "      <td>0</td>\n",
       "      <td>1</td>\n",
       "      <td>0</td>\n",
       "    </tr>\n",
       "    <tr>\n",
       "      <th>...</th>\n",
       "      <td>...</td>\n",
       "      <td>...</td>\n",
       "      <td>...</td>\n",
       "      <td>...</td>\n",
       "      <td>...</td>\n",
       "      <td>...</td>\n",
       "      <td>...</td>\n",
       "      <td>...</td>\n",
       "      <td>...</td>\n",
       "      <td>...</td>\n",
       "      <td>...</td>\n",
       "      <td>...</td>\n",
       "      <td>...</td>\n",
       "      <td>...</td>\n",
       "      <td>...</td>\n",
       "      <td>...</td>\n",
       "      <td>...</td>\n",
       "      <td>...</td>\n",
       "      <td>...</td>\n",
       "      <td>...</td>\n",
       "      <td>...</td>\n",
       "    </tr>\n",
       "    <tr>\n",
       "      <th>427</th>\n",
       "      <td>0</td>\n",
       "      <td>0</td>\n",
       "      <td>0</td>\n",
       "      <td>0</td>\n",
       "      <td>0</td>\n",
       "      <td>0</td>\n",
       "      <td>0</td>\n",
       "      <td>0</td>\n",
       "      <td>0</td>\n",
       "      <td>0</td>\n",
       "      <td>...</td>\n",
       "      <td>1</td>\n",
       "      <td>0</td>\n",
       "      <td>0</td>\n",
       "      <td>0</td>\n",
       "      <td>0</td>\n",
       "      <td>1</td>\n",
       "      <td>0</td>\n",
       "      <td>0</td>\n",
       "      <td>1</td>\n",
       "      <td>0</td>\n",
       "    </tr>\n",
       "    <tr>\n",
       "      <th>428</th>\n",
       "      <td>0</td>\n",
       "      <td>0</td>\n",
       "      <td>0</td>\n",
       "      <td>0</td>\n",
       "      <td>0</td>\n",
       "      <td>0</td>\n",
       "      <td>0</td>\n",
       "      <td>0</td>\n",
       "      <td>0</td>\n",
       "      <td>0</td>\n",
       "      <td>...</td>\n",
       "      <td>1</td>\n",
       "      <td>0</td>\n",
       "      <td>0</td>\n",
       "      <td>0</td>\n",
       "      <td>0</td>\n",
       "      <td>1</td>\n",
       "      <td>0</td>\n",
       "      <td>0</td>\n",
       "      <td>1</td>\n",
       "      <td>0</td>\n",
       "    </tr>\n",
       "    <tr>\n",
       "      <th>429</th>\n",
       "      <td>0</td>\n",
       "      <td>0</td>\n",
       "      <td>0</td>\n",
       "      <td>0</td>\n",
       "      <td>0</td>\n",
       "      <td>0</td>\n",
       "      <td>0</td>\n",
       "      <td>0</td>\n",
       "      <td>0</td>\n",
       "      <td>0</td>\n",
       "      <td>...</td>\n",
       "      <td>1</td>\n",
       "      <td>0</td>\n",
       "      <td>0</td>\n",
       "      <td>0</td>\n",
       "      <td>0</td>\n",
       "      <td>1</td>\n",
       "      <td>0</td>\n",
       "      <td>0</td>\n",
       "      <td>1</td>\n",
       "      <td>0</td>\n",
       "    </tr>\n",
       "    <tr>\n",
       "      <th>430</th>\n",
       "      <td>0</td>\n",
       "      <td>0</td>\n",
       "      <td>0</td>\n",
       "      <td>0</td>\n",
       "      <td>0</td>\n",
       "      <td>0</td>\n",
       "      <td>0</td>\n",
       "      <td>0</td>\n",
       "      <td>0</td>\n",
       "      <td>0</td>\n",
       "      <td>...</td>\n",
       "      <td>0</td>\n",
       "      <td>0</td>\n",
       "      <td>0</td>\n",
       "      <td>1</td>\n",
       "      <td>0</td>\n",
       "      <td>1</td>\n",
       "      <td>0</td>\n",
       "      <td>0</td>\n",
       "      <td>1</td>\n",
       "      <td>0</td>\n",
       "    </tr>\n",
       "    <tr>\n",
       "      <th>431</th>\n",
       "      <td>0</td>\n",
       "      <td>0</td>\n",
       "      <td>0</td>\n",
       "      <td>0</td>\n",
       "      <td>0</td>\n",
       "      <td>0</td>\n",
       "      <td>0</td>\n",
       "      <td>0</td>\n",
       "      <td>0</td>\n",
       "      <td>0</td>\n",
       "      <td>...</td>\n",
       "      <td>0</td>\n",
       "      <td>0</td>\n",
       "      <td>0</td>\n",
       "      <td>1</td>\n",
       "      <td>0</td>\n",
       "      <td>1</td>\n",
       "      <td>0</td>\n",
       "      <td>1</td>\n",
       "      <td>0</td>\n",
       "      <td>0</td>\n",
       "    </tr>\n",
       "  </tbody>\n",
       "</table>\n",
       "<p>432 rows × 475 columns</p>\n",
       "</div>"
      ],
      "text/plain": [
       "     Make_Acura  Make_Audi  Make_BMW  Make_Buick  Make_Cadillac  \\\n",
       "0             1          0         0           0              0   \n",
       "1             1          0         0           0              0   \n",
       "2             1          0         0           0              0   \n",
       "3             1          0         0           0              0   \n",
       "4             1          0         0           0              0   \n",
       "..          ...        ...       ...         ...            ...   \n",
       "427           0          0         0           0              0   \n",
       "428           0          0         0           0              0   \n",
       "429           0          0         0           0              0   \n",
       "430           0          0         0           0              0   \n",
       "431           0          0         0           0              0   \n",
       "\n",
       "     Make_Chevrolet  Make_Chrysler  Make_Dodge  Make_Ford  Make_GMC  ...  \\\n",
       "0                 0              0           0          0         0  ...   \n",
       "1                 0              0           0          0         0  ...   \n",
       "2                 0              0           0          0         0  ...   \n",
       "3                 0              0           0          0         0  ...   \n",
       "4                 0              0           0          0         0  ...   \n",
       "..              ...            ...         ...        ...       ...  ...   \n",
       "427               0              0           0          0         0  ...   \n",
       "428               0              0           0          0         0  ...   \n",
       "429               0              0           0          0         0  ...   \n",
       "430               0              0           0          0         0  ...   \n",
       "431               0              0           0          0         0  ...   \n",
       "\n",
       "     Type_Sedan  Type_Sports  Type_Truck  Type_Wagon  Origin_Asia  \\\n",
       "0             0            0           0           0            1   \n",
       "1             1            0           0           0            1   \n",
       "2             1            0           0           0            1   \n",
       "3             1            0           0           0            1   \n",
       "4             1            0           0           0            1   \n",
       "..          ...          ...         ...         ...          ...   \n",
       "427           1            0           0           0            0   \n",
       "428           1            0           0           0            0   \n",
       "429           1            0           0           0            0   \n",
       "430           0            0           0           1            0   \n",
       "431           0            0           0           1            0   \n",
       "\n",
       "     Origin_Europe  Origin_USA  DriveTrain_All  DriveTrain_Front  \\\n",
       "0                0           0               1                 0   \n",
       "1                0           0               0                 1   \n",
       "2                0           0               0                 1   \n",
       "3                0           0               0                 1   \n",
       "4                0           0               0                 1   \n",
       "..             ...         ...             ...               ...   \n",
       "427              1           0               0                 1   \n",
       "428              1           0               0                 1   \n",
       "429              1           0               0                 1   \n",
       "430              1           0               0                 1   \n",
       "431              1           0               1                 0   \n",
       "\n",
       "     DriveTrain_Rear  \n",
       "0                  0  \n",
       "1                  0  \n",
       "2                  0  \n",
       "3                  0  \n",
       "4                  0  \n",
       "..               ...  \n",
       "427                0  \n",
       "428                0  \n",
       "429                0  \n",
       "430                0  \n",
       "431                0  \n",
       "\n",
       "[432 rows x 475 columns]"
      ]
     },
     "execution_count": 87,
     "metadata": {},
     "output_type": "execute_result"
    }
   ],
   "source": [
    "df_dummies"
   ]
  },
  {
   "cell_type": "code",
   "execution_count": 91,
   "metadata": {},
   "outputs": [],
   "source": [
    "df_combined = pd.concat([df_numeric_ind, df_dummies], axis=1)"
   ]
  },
  {
   "cell_type": "code",
   "execution_count": 92,
   "metadata": {},
   "outputs": [
    {
     "data": {
      "text/html": [
       "<div>\n",
       "<style scoped>\n",
       "    .dataframe tbody tr th:only-of-type {\n",
       "        vertical-align: middle;\n",
       "    }\n",
       "\n",
       "    .dataframe tbody tr th {\n",
       "        vertical-align: top;\n",
       "    }\n",
       "\n",
       "    .dataframe thead th {\n",
       "        text-align: right;\n",
       "    }\n",
       "</style>\n",
       "<table border=\"1\" class=\"dataframe\">\n",
       "  <thead>\n",
       "    <tr style=\"text-align: right;\">\n",
       "      <th></th>\n",
       "      <th>Invoice</th>\n",
       "      <th>EngineSize</th>\n",
       "      <th>Cylinders</th>\n",
       "      <th>Horsepower</th>\n",
       "      <th>MPG_City</th>\n",
       "      <th>MPG_Highway</th>\n",
       "      <th>Weight</th>\n",
       "      <th>Wheelbase</th>\n",
       "      <th>Length</th>\n",
       "      <th>Make_Acura</th>\n",
       "      <th>...</th>\n",
       "      <th>Type_Sedan</th>\n",
       "      <th>Type_Sports</th>\n",
       "      <th>Type_Truck</th>\n",
       "      <th>Type_Wagon</th>\n",
       "      <th>Origin_Asia</th>\n",
       "      <th>Origin_Europe</th>\n",
       "      <th>Origin_USA</th>\n",
       "      <th>DriveTrain_All</th>\n",
       "      <th>DriveTrain_Front</th>\n",
       "      <th>DriveTrain_Rear</th>\n",
       "    </tr>\n",
       "  </thead>\n",
       "  <tbody>\n",
       "    <tr>\n",
       "      <th>0</th>\n",
       "      <td>33337.0</td>\n",
       "      <td>3.5</td>\n",
       "      <td>6.0</td>\n",
       "      <td>265.0</td>\n",
       "      <td>17.0</td>\n",
       "      <td>23.0</td>\n",
       "      <td>4451.0</td>\n",
       "      <td>106.0</td>\n",
       "      <td>189.0</td>\n",
       "      <td>1</td>\n",
       "      <td>...</td>\n",
       "      <td>0</td>\n",
       "      <td>0</td>\n",
       "      <td>0</td>\n",
       "      <td>0</td>\n",
       "      <td>1</td>\n",
       "      <td>0</td>\n",
       "      <td>0</td>\n",
       "      <td>1</td>\n",
       "      <td>0</td>\n",
       "      <td>0</td>\n",
       "    </tr>\n",
       "    <tr>\n",
       "      <th>1</th>\n",
       "      <td>21761.0</td>\n",
       "      <td>2.0</td>\n",
       "      <td>4.0</td>\n",
       "      <td>200.0</td>\n",
       "      <td>24.0</td>\n",
       "      <td>31.0</td>\n",
       "      <td>2778.0</td>\n",
       "      <td>101.0</td>\n",
       "      <td>172.0</td>\n",
       "      <td>1</td>\n",
       "      <td>...</td>\n",
       "      <td>1</td>\n",
       "      <td>0</td>\n",
       "      <td>0</td>\n",
       "      <td>0</td>\n",
       "      <td>1</td>\n",
       "      <td>0</td>\n",
       "      <td>0</td>\n",
       "      <td>0</td>\n",
       "      <td>1</td>\n",
       "      <td>0</td>\n",
       "    </tr>\n",
       "    <tr>\n",
       "      <th>2</th>\n",
       "      <td>24647.0</td>\n",
       "      <td>2.4</td>\n",
       "      <td>4.0</td>\n",
       "      <td>200.0</td>\n",
       "      <td>22.0</td>\n",
       "      <td>29.0</td>\n",
       "      <td>3230.0</td>\n",
       "      <td>105.0</td>\n",
       "      <td>183.0</td>\n",
       "      <td>1</td>\n",
       "      <td>...</td>\n",
       "      <td>1</td>\n",
       "      <td>0</td>\n",
       "      <td>0</td>\n",
       "      <td>0</td>\n",
       "      <td>1</td>\n",
       "      <td>0</td>\n",
       "      <td>0</td>\n",
       "      <td>0</td>\n",
       "      <td>1</td>\n",
       "      <td>0</td>\n",
       "    </tr>\n",
       "    <tr>\n",
       "      <th>3</th>\n",
       "      <td>30299.0</td>\n",
       "      <td>3.2</td>\n",
       "      <td>6.0</td>\n",
       "      <td>270.0</td>\n",
       "      <td>20.0</td>\n",
       "      <td>28.0</td>\n",
       "      <td>3575.0</td>\n",
       "      <td>108.0</td>\n",
       "      <td>186.0</td>\n",
       "      <td>1</td>\n",
       "      <td>...</td>\n",
       "      <td>1</td>\n",
       "      <td>0</td>\n",
       "      <td>0</td>\n",
       "      <td>0</td>\n",
       "      <td>1</td>\n",
       "      <td>0</td>\n",
       "      <td>0</td>\n",
       "      <td>0</td>\n",
       "      <td>1</td>\n",
       "      <td>0</td>\n",
       "    </tr>\n",
       "    <tr>\n",
       "      <th>4</th>\n",
       "      <td>39014.0</td>\n",
       "      <td>3.5</td>\n",
       "      <td>6.0</td>\n",
       "      <td>225.0</td>\n",
       "      <td>18.0</td>\n",
       "      <td>24.0</td>\n",
       "      <td>3880.0</td>\n",
       "      <td>115.0</td>\n",
       "      <td>197.0</td>\n",
       "      <td>1</td>\n",
       "      <td>...</td>\n",
       "      <td>1</td>\n",
       "      <td>0</td>\n",
       "      <td>0</td>\n",
       "      <td>0</td>\n",
       "      <td>1</td>\n",
       "      <td>0</td>\n",
       "      <td>0</td>\n",
       "      <td>0</td>\n",
       "      <td>1</td>\n",
       "      <td>0</td>\n",
       "    </tr>\n",
       "    <tr>\n",
       "      <th>...</th>\n",
       "      <td>...</td>\n",
       "      <td>...</td>\n",
       "      <td>...</td>\n",
       "      <td>...</td>\n",
       "      <td>...</td>\n",
       "      <td>...</td>\n",
       "      <td>...</td>\n",
       "      <td>...</td>\n",
       "      <td>...</td>\n",
       "      <td>...</td>\n",
       "      <td>...</td>\n",
       "      <td>...</td>\n",
       "      <td>...</td>\n",
       "      <td>...</td>\n",
       "      <td>...</td>\n",
       "      <td>...</td>\n",
       "      <td>...</td>\n",
       "      <td>...</td>\n",
       "      <td>...</td>\n",
       "      <td>...</td>\n",
       "      <td>...</td>\n",
       "    </tr>\n",
       "    <tr>\n",
       "      <th>427</th>\n",
       "      <td>38203.0</td>\n",
       "      <td>2.4</td>\n",
       "      <td>5.0</td>\n",
       "      <td>197.0</td>\n",
       "      <td>21.0</td>\n",
       "      <td>28.0</td>\n",
       "      <td>3450.0</td>\n",
       "      <td>105.0</td>\n",
       "      <td>186.0</td>\n",
       "      <td>0</td>\n",
       "      <td>...</td>\n",
       "      <td>1</td>\n",
       "      <td>0</td>\n",
       "      <td>0</td>\n",
       "      <td>0</td>\n",
       "      <td>0</td>\n",
       "      <td>1</td>\n",
       "      <td>0</td>\n",
       "      <td>0</td>\n",
       "      <td>1</td>\n",
       "      <td>0</td>\n",
       "    </tr>\n",
       "    <tr>\n",
       "      <th>428</th>\n",
       "      <td>40083.0</td>\n",
       "      <td>2.3</td>\n",
       "      <td>5.0</td>\n",
       "      <td>242.0</td>\n",
       "      <td>20.0</td>\n",
       "      <td>26.0</td>\n",
       "      <td>3450.0</td>\n",
       "      <td>105.0</td>\n",
       "      <td>186.0</td>\n",
       "      <td>0</td>\n",
       "      <td>...</td>\n",
       "      <td>1</td>\n",
       "      <td>0</td>\n",
       "      <td>0</td>\n",
       "      <td>0</td>\n",
       "      <td>0</td>\n",
       "      <td>1</td>\n",
       "      <td>0</td>\n",
       "      <td>0</td>\n",
       "      <td>1</td>\n",
       "      <td>0</td>\n",
       "    </tr>\n",
       "    <tr>\n",
       "      <th>429</th>\n",
       "      <td>42573.0</td>\n",
       "      <td>2.9</td>\n",
       "      <td>6.0</td>\n",
       "      <td>268.0</td>\n",
       "      <td>19.0</td>\n",
       "      <td>26.0</td>\n",
       "      <td>3653.0</td>\n",
       "      <td>110.0</td>\n",
       "      <td>190.0</td>\n",
       "      <td>0</td>\n",
       "      <td>...</td>\n",
       "      <td>1</td>\n",
       "      <td>0</td>\n",
       "      <td>0</td>\n",
       "      <td>0</td>\n",
       "      <td>0</td>\n",
       "      <td>1</td>\n",
       "      <td>0</td>\n",
       "      <td>0</td>\n",
       "      <td>1</td>\n",
       "      <td>0</td>\n",
       "    </tr>\n",
       "    <tr>\n",
       "      <th>430</th>\n",
       "      <td>24641.0</td>\n",
       "      <td>1.9</td>\n",
       "      <td>4.0</td>\n",
       "      <td>170.0</td>\n",
       "      <td>22.0</td>\n",
       "      <td>29.0</td>\n",
       "      <td>2822.0</td>\n",
       "      <td>101.0</td>\n",
       "      <td>180.0</td>\n",
       "      <td>0</td>\n",
       "      <td>...</td>\n",
       "      <td>0</td>\n",
       "      <td>0</td>\n",
       "      <td>0</td>\n",
       "      <td>1</td>\n",
       "      <td>0</td>\n",
       "      <td>1</td>\n",
       "      <td>0</td>\n",
       "      <td>0</td>\n",
       "      <td>1</td>\n",
       "      <td>0</td>\n",
       "    </tr>\n",
       "    <tr>\n",
       "      <th>431</th>\n",
       "      <td>33112.0</td>\n",
       "      <td>2.5</td>\n",
       "      <td>5.0</td>\n",
       "      <td>208.0</td>\n",
       "      <td>20.0</td>\n",
       "      <td>27.0</td>\n",
       "      <td>3823.0</td>\n",
       "      <td>109.0</td>\n",
       "      <td>186.0</td>\n",
       "      <td>0</td>\n",
       "      <td>...</td>\n",
       "      <td>0</td>\n",
       "      <td>0</td>\n",
       "      <td>0</td>\n",
       "      <td>1</td>\n",
       "      <td>0</td>\n",
       "      <td>1</td>\n",
       "      <td>0</td>\n",
       "      <td>1</td>\n",
       "      <td>0</td>\n",
       "      <td>0</td>\n",
       "    </tr>\n",
       "  </tbody>\n",
       "</table>\n",
       "<p>432 rows × 484 columns</p>\n",
       "</div>"
      ],
      "text/plain": [
       "     Invoice  EngineSize  Cylinders  Horsepower  MPG_City  MPG_Highway  \\\n",
       "0    33337.0         3.5        6.0       265.0      17.0         23.0   \n",
       "1    21761.0         2.0        4.0       200.0      24.0         31.0   \n",
       "2    24647.0         2.4        4.0       200.0      22.0         29.0   \n",
       "3    30299.0         3.2        6.0       270.0      20.0         28.0   \n",
       "4    39014.0         3.5        6.0       225.0      18.0         24.0   \n",
       "..       ...         ...        ...         ...       ...          ...   \n",
       "427  38203.0         2.4        5.0       197.0      21.0         28.0   \n",
       "428  40083.0         2.3        5.0       242.0      20.0         26.0   \n",
       "429  42573.0         2.9        6.0       268.0      19.0         26.0   \n",
       "430  24641.0         1.9        4.0       170.0      22.0         29.0   \n",
       "431  33112.0         2.5        5.0       208.0      20.0         27.0   \n",
       "\n",
       "     Weight  Wheelbase  Length  Make_Acura  ...  Type_Sedan  Type_Sports  \\\n",
       "0    4451.0      106.0   189.0           1  ...           0            0   \n",
       "1    2778.0      101.0   172.0           1  ...           1            0   \n",
       "2    3230.0      105.0   183.0           1  ...           1            0   \n",
       "3    3575.0      108.0   186.0           1  ...           1            0   \n",
       "4    3880.0      115.0   197.0           1  ...           1            0   \n",
       "..      ...        ...     ...         ...  ...         ...          ...   \n",
       "427  3450.0      105.0   186.0           0  ...           1            0   \n",
       "428  3450.0      105.0   186.0           0  ...           1            0   \n",
       "429  3653.0      110.0   190.0           0  ...           1            0   \n",
       "430  2822.0      101.0   180.0           0  ...           0            0   \n",
       "431  3823.0      109.0   186.0           0  ...           0            0   \n",
       "\n",
       "     Type_Truck  Type_Wagon  Origin_Asia  Origin_Europe  Origin_USA  \\\n",
       "0             0           0            1              0           0   \n",
       "1             0           0            1              0           0   \n",
       "2             0           0            1              0           0   \n",
       "3             0           0            1              0           0   \n",
       "4             0           0            1              0           0   \n",
       "..          ...         ...          ...            ...         ...   \n",
       "427           0           0            0              1           0   \n",
       "428           0           0            0              1           0   \n",
       "429           0           0            0              1           0   \n",
       "430           0           1            0              1           0   \n",
       "431           0           1            0              1           0   \n",
       "\n",
       "     DriveTrain_All  DriveTrain_Front  DriveTrain_Rear  \n",
       "0                 1                 0                0  \n",
       "1                 0                 1                0  \n",
       "2                 0                 1                0  \n",
       "3                 0                 1                0  \n",
       "4                 0                 1                0  \n",
       "..              ...               ...              ...  \n",
       "427               0                 1                0  \n",
       "428               0                 1                0  \n",
       "429               0                 1                0  \n",
       "430               0                 1                0  \n",
       "431               1                 0                0  \n",
       "\n",
       "[432 rows x 484 columns]"
      ]
     },
     "execution_count": 92,
     "metadata": {},
     "output_type": "execute_result"
    }
   ],
   "source": [
    "df_combined"
   ]
  },
  {
   "cell_type": "code",
   "execution_count": 93,
   "metadata": {},
   "outputs": [
    {
     "data": {
      "text/plain": [
       "Index(['Invoice', 'EngineSize', 'Cylinders', 'Horsepower', 'MPG_City',\n",
       "       'MPG_Highway', 'Weight', 'Wheelbase', 'Length', 'Make_Acura',\n",
       "       ...\n",
       "       'Type_Sedan', 'Type_Sports', 'Type_Truck', 'Type_Wagon', 'Origin_Asia',\n",
       "       'Origin_Europe', 'Origin_USA', 'DriveTrain_All', 'DriveTrain_Front',\n",
       "       'DriveTrain_Rear'],\n",
       "      dtype='object', length=484)"
      ]
     },
     "execution_count": 93,
     "metadata": {},
     "output_type": "execute_result"
    }
   ],
   "source": [
    "df_combined.columns"
   ]
  },
  {
   "cell_type": "code",
   "execution_count": 94,
   "metadata": {},
   "outputs": [],
   "source": [
    "x = df_combined\n",
    "y = df_numeric['MSRP']"
   ]
  },
  {
   "cell_type": "code",
   "execution_count": 95,
   "metadata": {},
   "outputs": [
    {
     "data": {
      "text/html": [
       "<div>\n",
       "<style scoped>\n",
       "    .dataframe tbody tr th:only-of-type {\n",
       "        vertical-align: middle;\n",
       "    }\n",
       "\n",
       "    .dataframe tbody tr th {\n",
       "        vertical-align: top;\n",
       "    }\n",
       "\n",
       "    .dataframe thead th {\n",
       "        text-align: right;\n",
       "    }\n",
       "</style>\n",
       "<table border=\"1\" class=\"dataframe\">\n",
       "  <thead>\n",
       "    <tr style=\"text-align: right;\">\n",
       "      <th></th>\n",
       "      <th>Invoice</th>\n",
       "      <th>EngineSize</th>\n",
       "      <th>Cylinders</th>\n",
       "      <th>Horsepower</th>\n",
       "      <th>MPG_City</th>\n",
       "      <th>MPG_Highway</th>\n",
       "      <th>Weight</th>\n",
       "      <th>Wheelbase</th>\n",
       "      <th>Length</th>\n",
       "      <th>Make_Acura</th>\n",
       "      <th>...</th>\n",
       "      <th>Type_Sedan</th>\n",
       "      <th>Type_Sports</th>\n",
       "      <th>Type_Truck</th>\n",
       "      <th>Type_Wagon</th>\n",
       "      <th>Origin_Asia</th>\n",
       "      <th>Origin_Europe</th>\n",
       "      <th>Origin_USA</th>\n",
       "      <th>DriveTrain_All</th>\n",
       "      <th>DriveTrain_Front</th>\n",
       "      <th>DriveTrain_Rear</th>\n",
       "    </tr>\n",
       "  </thead>\n",
       "  <tbody>\n",
       "    <tr>\n",
       "      <th>0</th>\n",
       "      <td>33337.0</td>\n",
       "      <td>3.5</td>\n",
       "      <td>6.0</td>\n",
       "      <td>265.0</td>\n",
       "      <td>17.0</td>\n",
       "      <td>23.0</td>\n",
       "      <td>4451.0</td>\n",
       "      <td>106.0</td>\n",
       "      <td>189.0</td>\n",
       "      <td>1</td>\n",
       "      <td>...</td>\n",
       "      <td>0</td>\n",
       "      <td>0</td>\n",
       "      <td>0</td>\n",
       "      <td>0</td>\n",
       "      <td>1</td>\n",
       "      <td>0</td>\n",
       "      <td>0</td>\n",
       "      <td>1</td>\n",
       "      <td>0</td>\n",
       "      <td>0</td>\n",
       "    </tr>\n",
       "    <tr>\n",
       "      <th>1</th>\n",
       "      <td>21761.0</td>\n",
       "      <td>2.0</td>\n",
       "      <td>4.0</td>\n",
       "      <td>200.0</td>\n",
       "      <td>24.0</td>\n",
       "      <td>31.0</td>\n",
       "      <td>2778.0</td>\n",
       "      <td>101.0</td>\n",
       "      <td>172.0</td>\n",
       "      <td>1</td>\n",
       "      <td>...</td>\n",
       "      <td>1</td>\n",
       "      <td>0</td>\n",
       "      <td>0</td>\n",
       "      <td>0</td>\n",
       "      <td>1</td>\n",
       "      <td>0</td>\n",
       "      <td>0</td>\n",
       "      <td>0</td>\n",
       "      <td>1</td>\n",
       "      <td>0</td>\n",
       "    </tr>\n",
       "    <tr>\n",
       "      <th>2</th>\n",
       "      <td>24647.0</td>\n",
       "      <td>2.4</td>\n",
       "      <td>4.0</td>\n",
       "      <td>200.0</td>\n",
       "      <td>22.0</td>\n",
       "      <td>29.0</td>\n",
       "      <td>3230.0</td>\n",
       "      <td>105.0</td>\n",
       "      <td>183.0</td>\n",
       "      <td>1</td>\n",
       "      <td>...</td>\n",
       "      <td>1</td>\n",
       "      <td>0</td>\n",
       "      <td>0</td>\n",
       "      <td>0</td>\n",
       "      <td>1</td>\n",
       "      <td>0</td>\n",
       "      <td>0</td>\n",
       "      <td>0</td>\n",
       "      <td>1</td>\n",
       "      <td>0</td>\n",
       "    </tr>\n",
       "    <tr>\n",
       "      <th>3</th>\n",
       "      <td>30299.0</td>\n",
       "      <td>3.2</td>\n",
       "      <td>6.0</td>\n",
       "      <td>270.0</td>\n",
       "      <td>20.0</td>\n",
       "      <td>28.0</td>\n",
       "      <td>3575.0</td>\n",
       "      <td>108.0</td>\n",
       "      <td>186.0</td>\n",
       "      <td>1</td>\n",
       "      <td>...</td>\n",
       "      <td>1</td>\n",
       "      <td>0</td>\n",
       "      <td>0</td>\n",
       "      <td>0</td>\n",
       "      <td>1</td>\n",
       "      <td>0</td>\n",
       "      <td>0</td>\n",
       "      <td>0</td>\n",
       "      <td>1</td>\n",
       "      <td>0</td>\n",
       "    </tr>\n",
       "    <tr>\n",
       "      <th>4</th>\n",
       "      <td>39014.0</td>\n",
       "      <td>3.5</td>\n",
       "      <td>6.0</td>\n",
       "      <td>225.0</td>\n",
       "      <td>18.0</td>\n",
       "      <td>24.0</td>\n",
       "      <td>3880.0</td>\n",
       "      <td>115.0</td>\n",
       "      <td>197.0</td>\n",
       "      <td>1</td>\n",
       "      <td>...</td>\n",
       "      <td>1</td>\n",
       "      <td>0</td>\n",
       "      <td>0</td>\n",
       "      <td>0</td>\n",
       "      <td>1</td>\n",
       "      <td>0</td>\n",
       "      <td>0</td>\n",
       "      <td>0</td>\n",
       "      <td>1</td>\n",
       "      <td>0</td>\n",
       "    </tr>\n",
       "    <tr>\n",
       "      <th>...</th>\n",
       "      <td>...</td>\n",
       "      <td>...</td>\n",
       "      <td>...</td>\n",
       "      <td>...</td>\n",
       "      <td>...</td>\n",
       "      <td>...</td>\n",
       "      <td>...</td>\n",
       "      <td>...</td>\n",
       "      <td>...</td>\n",
       "      <td>...</td>\n",
       "      <td>...</td>\n",
       "      <td>...</td>\n",
       "      <td>...</td>\n",
       "      <td>...</td>\n",
       "      <td>...</td>\n",
       "      <td>...</td>\n",
       "      <td>...</td>\n",
       "      <td>...</td>\n",
       "      <td>...</td>\n",
       "      <td>...</td>\n",
       "      <td>...</td>\n",
       "    </tr>\n",
       "    <tr>\n",
       "      <th>427</th>\n",
       "      <td>38203.0</td>\n",
       "      <td>2.4</td>\n",
       "      <td>5.0</td>\n",
       "      <td>197.0</td>\n",
       "      <td>21.0</td>\n",
       "      <td>28.0</td>\n",
       "      <td>3450.0</td>\n",
       "      <td>105.0</td>\n",
       "      <td>186.0</td>\n",
       "      <td>0</td>\n",
       "      <td>...</td>\n",
       "      <td>1</td>\n",
       "      <td>0</td>\n",
       "      <td>0</td>\n",
       "      <td>0</td>\n",
       "      <td>0</td>\n",
       "      <td>1</td>\n",
       "      <td>0</td>\n",
       "      <td>0</td>\n",
       "      <td>1</td>\n",
       "      <td>0</td>\n",
       "    </tr>\n",
       "    <tr>\n",
       "      <th>428</th>\n",
       "      <td>40083.0</td>\n",
       "      <td>2.3</td>\n",
       "      <td>5.0</td>\n",
       "      <td>242.0</td>\n",
       "      <td>20.0</td>\n",
       "      <td>26.0</td>\n",
       "      <td>3450.0</td>\n",
       "      <td>105.0</td>\n",
       "      <td>186.0</td>\n",
       "      <td>0</td>\n",
       "      <td>...</td>\n",
       "      <td>1</td>\n",
       "      <td>0</td>\n",
       "      <td>0</td>\n",
       "      <td>0</td>\n",
       "      <td>0</td>\n",
       "      <td>1</td>\n",
       "      <td>0</td>\n",
       "      <td>0</td>\n",
       "      <td>1</td>\n",
       "      <td>0</td>\n",
       "    </tr>\n",
       "    <tr>\n",
       "      <th>429</th>\n",
       "      <td>42573.0</td>\n",
       "      <td>2.9</td>\n",
       "      <td>6.0</td>\n",
       "      <td>268.0</td>\n",
       "      <td>19.0</td>\n",
       "      <td>26.0</td>\n",
       "      <td>3653.0</td>\n",
       "      <td>110.0</td>\n",
       "      <td>190.0</td>\n",
       "      <td>0</td>\n",
       "      <td>...</td>\n",
       "      <td>1</td>\n",
       "      <td>0</td>\n",
       "      <td>0</td>\n",
       "      <td>0</td>\n",
       "      <td>0</td>\n",
       "      <td>1</td>\n",
       "      <td>0</td>\n",
       "      <td>0</td>\n",
       "      <td>1</td>\n",
       "      <td>0</td>\n",
       "    </tr>\n",
       "    <tr>\n",
       "      <th>430</th>\n",
       "      <td>24641.0</td>\n",
       "      <td>1.9</td>\n",
       "      <td>4.0</td>\n",
       "      <td>170.0</td>\n",
       "      <td>22.0</td>\n",
       "      <td>29.0</td>\n",
       "      <td>2822.0</td>\n",
       "      <td>101.0</td>\n",
       "      <td>180.0</td>\n",
       "      <td>0</td>\n",
       "      <td>...</td>\n",
       "      <td>0</td>\n",
       "      <td>0</td>\n",
       "      <td>0</td>\n",
       "      <td>1</td>\n",
       "      <td>0</td>\n",
       "      <td>1</td>\n",
       "      <td>0</td>\n",
       "      <td>0</td>\n",
       "      <td>1</td>\n",
       "      <td>0</td>\n",
       "    </tr>\n",
       "    <tr>\n",
       "      <th>431</th>\n",
       "      <td>33112.0</td>\n",
       "      <td>2.5</td>\n",
       "      <td>5.0</td>\n",
       "      <td>208.0</td>\n",
       "      <td>20.0</td>\n",
       "      <td>27.0</td>\n",
       "      <td>3823.0</td>\n",
       "      <td>109.0</td>\n",
       "      <td>186.0</td>\n",
       "      <td>0</td>\n",
       "      <td>...</td>\n",
       "      <td>0</td>\n",
       "      <td>0</td>\n",
       "      <td>0</td>\n",
       "      <td>1</td>\n",
       "      <td>0</td>\n",
       "      <td>1</td>\n",
       "      <td>0</td>\n",
       "      <td>1</td>\n",
       "      <td>0</td>\n",
       "      <td>0</td>\n",
       "    </tr>\n",
       "  </tbody>\n",
       "</table>\n",
       "<p>432 rows × 484 columns</p>\n",
       "</div>"
      ],
      "text/plain": [
       "     Invoice  EngineSize  Cylinders  Horsepower  MPG_City  MPG_Highway  \\\n",
       "0    33337.0         3.5        6.0       265.0      17.0         23.0   \n",
       "1    21761.0         2.0        4.0       200.0      24.0         31.0   \n",
       "2    24647.0         2.4        4.0       200.0      22.0         29.0   \n",
       "3    30299.0         3.2        6.0       270.0      20.0         28.0   \n",
       "4    39014.0         3.5        6.0       225.0      18.0         24.0   \n",
       "..       ...         ...        ...         ...       ...          ...   \n",
       "427  38203.0         2.4        5.0       197.0      21.0         28.0   \n",
       "428  40083.0         2.3        5.0       242.0      20.0         26.0   \n",
       "429  42573.0         2.9        6.0       268.0      19.0         26.0   \n",
       "430  24641.0         1.9        4.0       170.0      22.0         29.0   \n",
       "431  33112.0         2.5        5.0       208.0      20.0         27.0   \n",
       "\n",
       "     Weight  Wheelbase  Length  Make_Acura  ...  Type_Sedan  Type_Sports  \\\n",
       "0    4451.0      106.0   189.0           1  ...           0            0   \n",
       "1    2778.0      101.0   172.0           1  ...           1            0   \n",
       "2    3230.0      105.0   183.0           1  ...           1            0   \n",
       "3    3575.0      108.0   186.0           1  ...           1            0   \n",
       "4    3880.0      115.0   197.0           1  ...           1            0   \n",
       "..      ...        ...     ...         ...  ...         ...          ...   \n",
       "427  3450.0      105.0   186.0           0  ...           1            0   \n",
       "428  3450.0      105.0   186.0           0  ...           1            0   \n",
       "429  3653.0      110.0   190.0           0  ...           1            0   \n",
       "430  2822.0      101.0   180.0           0  ...           0            0   \n",
       "431  3823.0      109.0   186.0           0  ...           0            0   \n",
       "\n",
       "     Type_Truck  Type_Wagon  Origin_Asia  Origin_Europe  Origin_USA  \\\n",
       "0             0           0            1              0           0   \n",
       "1             0           0            1              0           0   \n",
       "2             0           0            1              0           0   \n",
       "3             0           0            1              0           0   \n",
       "4             0           0            1              0           0   \n",
       "..          ...         ...          ...            ...         ...   \n",
       "427           0           0            0              1           0   \n",
       "428           0           0            0              1           0   \n",
       "429           0           0            0              1           0   \n",
       "430           0           1            0              1           0   \n",
       "431           0           1            0              1           0   \n",
       "\n",
       "     DriveTrain_All  DriveTrain_Front  DriveTrain_Rear  \n",
       "0                 1                 0                0  \n",
       "1                 0                 1                0  \n",
       "2                 0                 1                0  \n",
       "3                 0                 1                0  \n",
       "4                 0                 1                0  \n",
       "..              ...               ...              ...  \n",
       "427               0                 1                0  \n",
       "428               0                 1                0  \n",
       "429               0                 1                0  \n",
       "430               0                 1                0  \n",
       "431               1                 0                0  \n",
       "\n",
       "[432 rows x 484 columns]"
      ]
     },
     "execution_count": 95,
     "metadata": {},
     "output_type": "execute_result"
    }
   ],
   "source": [
    "x"
   ]
  },
  {
   "cell_type": "code",
   "execution_count": 97,
   "metadata": {},
   "outputs": [
    {
     "data": {
      "text/plain": [
       "0      36945.0\n",
       "1      23820.0\n",
       "2      26990.0\n",
       "3      33195.0\n",
       "4      43755.0\n",
       "        ...   \n",
       "427    40565.0\n",
       "428    42565.0\n",
       "429    45210.0\n",
       "430    26135.0\n",
       "431    35145.0\n",
       "Name: MSRP, Length: 432, dtype: float64"
      ]
     },
     "execution_count": 97,
     "metadata": {},
     "output_type": "execute_result"
    }
   ],
   "source": [
    "y"
   ]
  },
  {
   "cell_type": "markdown",
   "metadata": {},
   "source": [
    "#### simple LR model"
   ]
  },
  {
   "cell_type": "code",
   "execution_count": 98,
   "metadata": {},
   "outputs": [],
   "source": [
    "from sklearn.linear_model import LinearRegression"
   ]
  },
  {
   "cell_type": "code",
   "execution_count": 99,
   "metadata": {},
   "outputs": [],
   "source": [
    "lm=LinearRegression()"
   ]
  },
  {
   "cell_type": "code",
   "execution_count": 100,
   "metadata": {},
   "outputs": [],
   "source": [
    "y = df_numeric['MSRP']\n",
    "x = df_combined\n"
   ]
  },
  {
   "cell_type": "code",
   "execution_count": 101,
   "metadata": {},
   "outputs": [
    {
     "data": {
      "text/plain": [
       "LinearRegression()"
      ]
     },
     "execution_count": 101,
     "metadata": {},
     "output_type": "execute_result"
    }
   ],
   "source": [
    "lm.fit(x,y)"
   ]
  },
  {
   "cell_type": "code",
   "execution_count": 102,
   "metadata": {},
   "outputs": [
    {
     "name": "stdout",
     "output_type": "stream",
     "text": [
      "Intercept for multiple linear regression is: -2160.7944148929455\n",
      "coef for multiple linear regressionis: [ 1.08458546e+00  3.01622417e+02 -1.33064515e+02 -3.04989891e-01\n",
      "  7.19162742e+00 -9.95967753e-11  6.01139541e-02  1.87858651e+00\n",
      "  9.25837060e+00  7.48871948e+02  2.75077070e+02 -6.74615652e+01\n",
      "  6.71779367e+01 -2.50951630e+02  2.79894828e+02 -1.71818260e+02\n",
      " -1.26780314e+02  2.95779215e+01  4.32147453e+02  1.74876296e+02\n",
      " -2.90901850e+02  1.09427807e+02  1.20210881e+02 -7.38173109e+02\n",
      "  1.35440142e+02 -1.35396082e+02 -2.28122437e+02 -1.08449735e+02\n",
      "  1.72207451e+03  1.00115269e+02  3.86475391e+02 -1.88522764e+02\n",
      " -7.91454103e+02 -1.22367096e+02 -4.71306142e+02 -5.01268937e+02\n",
      "  1.12230024e+02 -1.13538487e+01  2.59898924e+03 -1.09464401e+03\n",
      " -1.04169219e+02 -1.27581029e+01  1.11973194e+01 -8.53595103e+02\n",
      "  9.11286278e+01 -1.49132647e+02 -9.76285707e+02  3.78654585e+02\n",
      "  4.60427826e+02 -2.28126780e+02 -1.48865021e+02  1.10822923e+02\n",
      "  1.86735470e+02  8.55424063e+01  1.06901320e+02  1.47538569e+02\n",
      "  5.39996997e+01  1.30387758e+02  3.44588578e+01  5.12711577e+01\n",
      " -1.80131566e+02 -4.41887566e+02  1.83024466e+02  7.79576736e+01\n",
      " -5.04945112e+00 -6.59625470e+00  5.63282975e+01  7.44525700e+01\n",
      "  4.31180166e+01 -2.80796175e+02  3.00724852e+01 -2.09695654e+02\n",
      " -1.31036990e+01 -7.01743409e+02  3.75044288e+01  2.47471683e+03\n",
      "  6.99442345e+02  9.00396762e+02  5.79118228e+02  5.66731945e+01\n",
      "  8.83469367e+01 -1.16540373e+02 -4.82573880e+01  1.87324759e+02\n",
      "  4.25264256e+02  2.56040620e+02  1.18449605e+02  1.07364363e+02\n",
      " -4.89103408e+01 -9.49324297e+01  1.72393349e+02 -1.94451533e+03\n",
      " -2.44022939e+02 -4.04736607e+01 -4.42856926e+01  1.33675800e+02\n",
      "  3.83051562e+02  7.52281001e+01  2.74860588e+02 -1.54559831e+00\n",
      " -1.18713170e+02 -3.12507424e+02  2.78038296e+02 -3.37642263e+02\n",
      " -2.23535244e+01  1.53725979e+02  1.48794460e+02 -8.52051967e+02\n",
      " -2.88676812e+02  8.24600764e+02  6.72146581e+02  1.15017728e+03\n",
      " -2.09072811e+01  9.72343811e+01 -2.78907618e+02 -2.53982233e-01\n",
      " -2.71188425e+02 -7.66351440e+01  1.86957722e+02 -6.25194086e+00\n",
      " -4.93664168e+02 -8.13841061e+02  3.53522922e+02  2.77264406e+02\n",
      "  2.85263379e+02  5.75270404e+00  6.74015157e+01  1.55160851e+02\n",
      "  9.02863097e+01 -1.03962003e+02 -1.16019745e+02 -9.66606655e+02\n",
      " -8.50151035e+02  5.73541788e+02 -2.92790490e+02 -5.99824117e+02\n",
      " -7.97053693e+01  2.50856306e+02  5.75079323e+02  1.05600666e+02\n",
      "  1.90852048e+02  2.99659579e+02  6.79272503e+02 -5.70446739e+01\n",
      " -3.50414581e+02 -3.93553933e+02 -3.99918138e+02 -4.18965803e+02\n",
      " -7.47179704e+02  1.82477261e+02  5.60872964e+01  3.26713469e+01\n",
      "  7.02174202e+01  9.98240229e+00  2.07343089e+02  5.25187638e+01\n",
      "  1.31163634e+02 -6.64332156e+01 -4.79960024e+01 -2.04125352e+02\n",
      "  1.48578833e+02  2.37896558e+02 -8.95539427e+01  2.25425128e+02\n",
      "  2.19641054e+02  1.06975693e+03  1.42655073e+03 -2.19391769e+02\n",
      " -9.14509791e+02 -3.28742499e+02 -2.54403715e+02 -1.38505023e+02\n",
      "  8.43314875e+01  2.36904845e+02  2.80356049e+02 -5.85022028e+01\n",
      " -1.55592693e+02 -1.69107990e+02 -1.75264576e+02 -1.47382681e+02\n",
      " -5.05085981e+02 -5.43483213e+02 -7.31017695e+02 -4.65239518e+00\n",
      " -4.21683496e-01 -1.17475236e+01 -2.51020177e+02 -2.65366032e+02\n",
      " -7.04393926e+01 -6.70582640e+01 -7.08454431e+01 -4.90815199e+02\n",
      " -3.47343031e+02 -5.66841187e+02 -4.93376359e+01 -2.38506119e+02\n",
      " -1.51843477e+02  5.84690697e+02  9.95321054e+02 -1.09291420e+02\n",
      "  5.59852547e+02  1.00773569e+03  3.76530798e+01  2.75637276e+01\n",
      "  2.00686334e+01  3.88691711e+01  8.53024557e+01 -6.87445339e+01\n",
      "  3.28636115e+01  3.33704985e+01 -1.68250061e+02  5.95907342e+01\n",
      "  1.07726643e+01 -1.42034860e+02 -1.84016738e+00  7.93549128e+01\n",
      " -2.62114200e+02 -4.10175020e+02 -8.28302549e+02 -1.32094920e+02\n",
      "  6.55798778e+02  3.40577721e+02 -7.28466956e+02  1.81227808e+02\n",
      "  1.04322548e+02 -5.16797938e+01 -1.35198349e+02  1.50702791e+02\n",
      "  5.22141619e+01 -8.32303130e+01 -8.03799557e+02 -1.67305015e+02\n",
      " -1.36270008e+02 -1.03287858e+02 -8.98027771e+01 -2.90901850e+02\n",
      "  4.42287690e+02  7.32612991e+01 -3.59664267e+02 -4.18766194e+02\n",
      " -3.52546561e+02 -3.11910908e+02 -3.95814078e+02 -3.54894798e+02\n",
      " -1.40845302e+02 -3.13369156e+02 -5.64759731e+02 -4.04584695e+02\n",
      " -1.68703543e+02 -3.54576719e+01  1.80931091e+01  1.32231589e+02\n",
      "  3.61435408e+02 -2.84179015e+02  1.02930258e+02  1.45680431e+02\n",
      "  9.64555363e+02 -1.63118151e+02 -5.80765878e+01  4.39706135e+01\n",
      "  1.25139094e+02  1.17190852e+03  2.15789548e+02 -7.81316553e+01\n",
      "  1.74054101e+02  1.68688061e+02  2.12950305e+02  1.99268058e+03\n",
      " -1.84196156e+02 -1.41588482e+02  8.39222515e+01 -9.54266142e+01\n",
      " -4.29366160e+02 -2.62142700e+02 -3.48485122e+02  2.60460676e+02\n",
      " -4.43466313e+02 -5.10657643e+02  1.13285505e+01  1.85086362e+02\n",
      " -1.38792638e+01 -1.63104252e+01 -1.29274105e+02 -1.63416019e+02\n",
      " -2.05002569e+02 -2.19136347e+02 -3.51339945e+01  3.41998186e+02\n",
      "  4.23353784e+02  4.38272975e+02 -5.50150887e+00  8.64714877e+01\n",
      "  1.55962026e+01  3.58384804e+02  2.27937879e+02 -2.86043525e+02\n",
      " -3.66418202e+02  2.36135369e+02 -3.88741345e+02  9.58960805e+01\n",
      " -6.76929416e+02 -6.51691663e+02 -3.25380685e+02  1.83110582e+03\n",
      "  1.54679021e+03  1.12770215e+02  1.38432868e+02 -2.52415648e+01\n",
      " -1.76475337e+02  5.74351446e+01 -3.27963617e+00 -5.85820240e+01\n",
      "  4.39419267e+02  1.29272585e+01  4.01319435e+02  3.09871270e+02\n",
      "  1.19827522e+02  9.36735303e+01  1.25173362e+01  1.37586668e+02\n",
      "  6.42015955e+01 -2.49534958e+01  1.74084570e+02  2.87153815e+02\n",
      "  2.21143035e+02  1.83419365e+02 -4.78787940e+01  3.29669624e+01\n",
      " -2.65018534e+00 -2.93479981e+01 -6.29034775e+02 -4.15029735e+02\n",
      " -3.81033543e+02 -3.65208146e+01  1.23103282e+01  3.93561318e+02\n",
      " -2.43680157e+01  3.14767077e+02 -1.09448319e+02  6.74166938e+02\n",
      " -3.84457270e+02 -4.18911539e+02  1.72117019e+02  1.83913472e+02\n",
      "  5.74307742e+00  5.00030385e+02  1.89177818e+02 -3.87003947e+02\n",
      " -1.53898824e+02 -1.42284618e+02  1.66077257e+02  7.96921509e+01\n",
      "  1.01012726e+02  7.22060522e+01  1.13878858e+02 -5.53630668e+01\n",
      " -6.06360829e+01  1.37290779e+02  2.81752908e+02  2.88400253e+02\n",
      "  2.03868565e+02  3.07598133e+02 -5.86115633e+02 -9.01909297e+02\n",
      " -3.54498155e+01 -9.56521740e+01 -1.23179636e+00 -2.45422279e+02\n",
      " -1.26138776e+02 -2.50996926e+02  1.16158521e+03 -1.18170860e+03\n",
      " -1.54141019e+03 -9.57381293e+02 -1.69026519e+02 -2.45500867e+02\n",
      " -2.79327767e+02 -1.18925646e+03  2.39092502e+02  1.86654536e+02\n",
      "  2.62362990e+02 -3.94216054e+02 -4.57949031e+02 -6.08306753e+01\n",
      "  2.34503781e+02  1.95619802e+02 -9.44791105e+01 -5.33708138e+02\n",
      "  1.21229591e+02  4.44711057e+02  2.45480600e+02  3.09481397e+02\n",
      "  4.31283165e+02  1.04313528e+02  5.34650496e+02  2.33349347e+02\n",
      "  1.32192186e+02  1.71833991e+02 -3.81854459e+02  7.16475034e+02\n",
      "  2.22289469e+02  3.48113585e+02 -4.20399069e+02 -6.46385253e+02\n",
      "  1.09100810e+02  2.60954049e+01  3.42321061e+01 -7.07360530e+01\n",
      " -5.14344785e+01  1.05522990e+03  6.17298754e+01  1.39066460e+02\n",
      " -5.06028144e+02 -5.87364560e+02 -3.10370851e+01  8.24718940e+01\n",
      " -1.01494721e+02 -2.28840945e+02  1.14769152e+03 -1.72859369e+02\n",
      "  9.72208297e+01  1.19800119e+02 -1.79206114e+02 -1.46916229e+02\n",
      " -7.87054512e+02  4.67797935e+01 -4.40957704e+02 -3.66712417e+02\n",
      " -3.08012175e+02 -8.46100811e+00  2.20981772e+02 -3.55184339e+02\n",
      " -2.42272795e+02 -2.74434729e+02 -7.78481143e+01 -2.40249971e+02\n",
      "  2.79941815e+02 -2.85703889e+02  1.09568027e+02  1.31289356e+02\n",
      " -2.97117532e+02 -2.11121458e+01 -3.02000912e+01 -2.50303111e+02\n",
      "  3.77200391e+02  1.45362855e+01 -7.87813930e+01 -1.30640889e+02\n",
      " -1.66602518e+02 -1.42606211e+02 -4.46345928e+02  3.16528602e+02\n",
      "  3.64486803e+02 -7.67702399e+00  2.15485528e+02 -1.05989404e+02\n",
      " -1.59042638e+02  9.02725502e+01  3.57765806e+01  2.35251059e+02\n",
      " -5.52618798e+02  6.89424585e+01  8.05784624e+02  6.99322281e+02\n",
      " -1.02112096e+02 -1.62229236e+02 -1.09226068e+01 -1.86925021e+01\n",
      " -2.38647945e+01 -3.16892241e+01  1.32808303e+01 -2.60389331e+01\n",
      " -1.84931278e+02  1.14556319e+02 -3.84611419e+01  3.96914275e+02\n",
      " -2.35940005e+02 -5.21381691e+01 -1.59592087e+01  2.08554074e+02\n",
      " -1.92594865e+02  2.97099211e+01 -6.26255924e+01  3.29156713e+01]\n"
     ]
    }
   ],
   "source": [
    "print(\"Intercept for multiple linear regression is:\",lm.intercept_)\n",
    "print(\"coef for multiple linear regressionis:\",lm.coef_)"
   ]
  },
  {
   "cell_type": "code",
   "execution_count": 103,
   "metadata": {},
   "outputs": [],
   "source": [
    "yhat=lm.predict(x)"
   ]
  },
  {
   "cell_type": "code",
   "execution_count": 104,
   "metadata": {},
   "outputs": [
    {
     "data": {
      "text/plain": [
       "array([36945.        , 23819.99999994, 26990.00000001, 33195.        ,\n",
       "       43755.        ])"
      ]
     },
     "execution_count": 104,
     "metadata": {},
     "output_type": "execute_result"
    }
   ],
   "source": [
    "yhat[0:5]"
   ]
  },
  {
   "cell_type": "code",
   "execution_count": 105,
   "metadata": {},
   "outputs": [
    {
     "data": {
      "text/plain": [
       "0    36945.0\n",
       "1    23820.0\n",
       "2    26990.0\n",
       "3    33195.0\n",
       "4    43755.0\n",
       "Name: MSRP, dtype: float64"
      ]
     },
     "execution_count": 105,
     "metadata": {},
     "output_type": "execute_result"
    }
   ],
   "source": [
    "y[0:5]"
   ]
  },
  {
   "cell_type": "code",
   "execution_count": 107,
   "metadata": {},
   "outputs": [],
   "source": [
    "from sklearn.metrics import r2_score #finding the coefficient of determination\n",
    "from sklearn.metrics import mean_squared_error"
   ]
  },
  {
   "cell_type": "code",
   "execution_count": 108,
   "metadata": {},
   "outputs": [
    {
     "name": "stdout",
     "output_type": "stream",
     "text": [
      "Requared value of Regression is: 1.0\n",
      "Mean squared error for regression 1 is: 1.1605100052429073e-17\n",
      "Root mean squared error for regression 1 is: 3.406625904385316e-09\n"
     ]
    }
   ],
   "source": [
    "print(\"Requared value of Regression is:\",r2_score(y,yhat))\n",
    "print(\"Mean squared error for regression 1 is:\",mean_squared_error(y,yhat))\n",
    "print(\"Root mean squared error for regression 1 is:\",np.sqrt(mean_squared_error(y,yhat)))"
   ]
  },
  {
   "cell_type": "code",
   "execution_count": 109,
   "metadata": {},
   "outputs": [
    {
     "data": {
      "text/plain": [
       "(432,)"
      ]
     },
     "execution_count": 109,
     "metadata": {},
     "output_type": "execute_result"
    }
   ],
   "source": [
    "yhat.shape"
   ]
  },
  {
   "cell_type": "code",
   "execution_count": 111,
   "metadata": {},
   "outputs": [
    {
     "name": "stderr",
     "output_type": "stream",
     "text": [
      "C:\\Users\\hp\\anaconda3\\lib\\site-packages\\seaborn\\distributions.py:2551: FutureWarning: `distplot` is a deprecated function and will be removed in a future version. Please adapt your code to use either `displot` (a figure-level function with similar flexibility) or `kdeplot` (an axes-level function for kernel density plots).\n",
      "  warnings.warn(msg, FutureWarning)\n",
      "C:\\Users\\hp\\anaconda3\\lib\\site-packages\\seaborn\\distributions.py:2551: FutureWarning: `distplot` is a deprecated function and will be removed in a future version. Please adapt your code to use either `displot` (a figure-level function with similar flexibility) or `kdeplot` (an axes-level function for kernel density plots).\n",
      "  warnings.warn(msg, FutureWarning)\n"
     ]
    },
    {
     "data": {
      "image/png": "[encoded data removed]",
      "text/plain": [
       "<Figure size 432x288 with 1 Axes>"
      ]
     },
     "metadata": {
      "needs_background": "light"
     },
     "output_type": "display_data"
    }
   ],
   "source": [
    "#distribution plot to compare actual vs predicted values for price\n",
    "ax1=sns.distplot(df['MSRP'],hist=False,color='r',label='Actual values')\n",
    "sns.distplot(yhat,hist=False,color='b',label='Fitted values',ax=ax1)\n",
    "plt.title('Actual vs Fitted for MSRP')\n",
    "plt.xlabel('df_combined')\n",
    "plt.ylabel('MSRP')\n",
    "plt.show()"
   ]
  },
  {
   "cell_type": "markdown",
   "metadata": {},
   "source": [
    "#### LR by train and test method"
   ]
  },
  {
   "cell_type": "code",
   "execution_count": 112,
   "metadata": {},
   "outputs": [],
   "source": [
    "#random_state is seed used by random generator.It can be ane integer.\n",
    "from sklearn.model_selection import train_test_split\n",
    "x_train,x_test,y_train,y_test=train_test_split(x,y,train_size=0.7,random_state=100)"
   ]
  },
  {
   "cell_type": "code",
   "execution_count": 113,
   "metadata": {},
   "outputs": [],
   "source": [
    "lm=LinearRegression()"
   ]
  },
  {
   "cell_type": "code",
   "execution_count": 114,
   "metadata": {},
   "outputs": [
    {
     "data": {
      "text/plain": [
       "LinearRegression()"
      ]
     },
     "execution_count": 114,
     "metadata": {},
     "output_type": "execute_result"
    }
   ],
   "source": [
    "lm.fit(x_train,y_train)"
   ]
  },
  {
   "cell_type": "code",
   "execution_count": 115,
   "metadata": {},
   "outputs": [
    {
     "name": "stdout",
     "output_type": "stream",
     "text": [
      "-2149.792827779089\n"
     ]
    }
   ],
   "source": [
    "print(lm.intercept_)"
   ]
  },
  {
   "cell_type": "code",
   "execution_count": 116,
   "metadata": {},
   "outputs": [
    {
     "data": {
      "text/html": [
       "<div>\n",
       "<style scoped>\n",
       "    .dataframe tbody tr th:only-of-type {\n",
       "        vertical-align: middle;\n",
       "    }\n",
       "\n",
       "    .dataframe tbody tr th {\n",
       "        vertical-align: top;\n",
       "    }\n",
       "\n",
       "    .dataframe thead th {\n",
       "        text-align: right;\n",
       "    }\n",
       "</style>\n",
       "<table border=\"1\" class=\"dataframe\">\n",
       "  <thead>\n",
       "    <tr style=\"text-align: right;\">\n",
       "      <th></th>\n",
       "      <th>coefficient</th>\n",
       "    </tr>\n",
       "  </thead>\n",
       "  <tbody>\n",
       "    <tr>\n",
       "      <th>Invoice</th>\n",
       "      <td>1.088678</td>\n",
       "    </tr>\n",
       "    <tr>\n",
       "      <th>EngineSize</th>\n",
       "      <td>269.722504</td>\n",
       "    </tr>\n",
       "    <tr>\n",
       "      <th>Cylinders</th>\n",
       "      <td>-116.792800</td>\n",
       "    </tr>\n",
       "    <tr>\n",
       "      <th>Horsepower</th>\n",
       "      <td>-0.239336</td>\n",
       "    </tr>\n",
       "    <tr>\n",
       "      <th>MPG_City</th>\n",
       "      <td>30.142202</td>\n",
       "    </tr>\n",
       "    <tr>\n",
       "      <th>...</th>\n",
       "      <td>...</td>\n",
       "    </tr>\n",
       "    <tr>\n",
       "      <th>Origin_Europe</th>\n",
       "      <td>169.584791</td>\n",
       "    </tr>\n",
       "    <tr>\n",
       "      <th>Origin_USA</th>\n",
       "      <td>-167.888235</td>\n",
       "    </tr>\n",
       "    <tr>\n",
       "      <th>DriveTrain_All</th>\n",
       "      <td>12.041064</td>\n",
       "    </tr>\n",
       "    <tr>\n",
       "      <th>DriveTrain_Front</th>\n",
       "      <td>-62.913051</td>\n",
       "    </tr>\n",
       "    <tr>\n",
       "      <th>DriveTrain_Rear</th>\n",
       "      <td>50.871987</td>\n",
       "    </tr>\n",
       "  </tbody>\n",
       "</table>\n",
       "<p>484 rows × 1 columns</p>\n",
       "</div>"
      ],
      "text/plain": [
       "                  coefficient\n",
       "Invoice              1.088678\n",
       "EngineSize         269.722504\n",
       "Cylinders         -116.792800\n",
       "Horsepower          -0.239336\n",
       "MPG_City            30.142202\n",
       "...                       ...\n",
       "Origin_Europe      169.584791\n",
       "Origin_USA        -167.888235\n",
       "DriveTrain_All      12.041064\n",
       "DriveTrain_Front   -62.913051\n",
       "DriveTrain_Rear     50.871987\n",
       "\n",
       "[484 rows x 1 columns]"
      ]
     },
     "execution_count": 116,
     "metadata": {},
     "output_type": "execute_result"
    }
   ],
   "source": [
    "coeff_df=pd.DataFrame(lm.coef_,x_test.columns,columns=['coefficient'])\n",
    "coeff_df"
   ]
  },
  {
   "cell_type": "code",
   "execution_count": 117,
   "metadata": {},
   "outputs": [
    {
     "data": {
      "text/plain": [
       "array([ 43387.68316587,  26937.81812872,  75605.2981066 ,  40620.15812093,\n",
       "        27562.60984911,  25838.02640324,  33111.65597456,  17079.223927  ,\n",
       "        40943.23372103,  36422.45042157, 129615.12512168,  22108.63427706,\n",
       "        25740.7867907 ,  84000.23476202,  60020.28226337,  20704.23438756,\n",
       "        33558.49932552,  27051.22936308,  35473.10645493,  52677.97855129,\n",
       "        25872.84313339,  29353.34666182,  28804.31517263,  27634.99999999,\n",
       "        13665.85984926,  23342.36784214,  29733.57358319,  24187.07638833,\n",
       "        25371.75715803,  32376.00887844,  87930.55081518,  20439.58851933,\n",
       "        15543.85577761,  13220.85035334,  81933.84602237,  27378.57975561,\n",
       "        30538.35611924,  14847.27307244,  19449.29461833,  43199.80964614,\n",
       "        28066.42998187,  76081.26492672,  71339.38376466,  48424.90379671,\n",
       "        95902.44779924,  31009.51879458,  17260.06626314,  27052.00886275,\n",
       "        19383.843033  ,  17132.82598843,  25911.49942174,  26103.2837937 ,\n",
       "        40429.00325015,  50791.57187971,  10882.44773452,  29271.60529472,\n",
       "        27564.14164708,  22312.44655686,  34586.06421515,  37879.76719338,\n",
       "        29605.67842955,  28416.47600802,  15398.28499698,  19559.32290737,\n",
       "        28131.11102401,  17552.29610667,  35467.46405973,  13572.57367524,\n",
       "        14191.35846399,  23866.87685911,  13041.7564271 ,  35773.33759874,\n",
       "        11554.39794428,  47966.22258873,  47861.5589993 ,  22134.30746741,\n",
       "        42672.48026944,  15849.93337191,  19124.26351131,  22129.97489379,\n",
       "        24947.59622557,  38155.95281416,  38759.06086643,  12997.43914031,\n",
       "        23149.24145022,  53100.9786064 ,  70067.53661493,  53417.10836388,\n",
       "        50761.86158215,  45365.7892508 ,  20988.48385671,  33785.2042547 ,\n",
       "        33375.69957262,  33427.4378723 ,  43706.60286702,  19483.76442239,\n",
       "        32334.00827702,  52830.00037606,  23287.16254923,  11789.847523  ,\n",
       "        23731.03171666,  14781.46415841,  41096.85467761,  22074.42835478,\n",
       "        14406.75188228,  26126.19834209,  33863.30947859,  30099.00674456,\n",
       "        20477.53456571,  19959.09063793,  68936.5565559 ,  13511.20760361,\n",
       "        72194.56662947,  24404.86505863,  52409.99083312,  40380.85622225,\n",
       "        22051.25005903,  17719.2366654 ,  28447.88389869,  20103.63303442,\n",
       "        23845.49117772,  23438.92764358,  17106.59882632,  14760.46622302,\n",
       "        16290.75613992,  43511.34462824,  87637.48687762,  30229.06344562,\n",
       "        32772.46783327,  77814.7045793 ])"
      ]
     },
     "execution_count": 117,
     "metadata": {},
     "output_type": "execute_result"
    }
   ],
   "source": [
    "y_pred=lm.predict(x_test)\n",
    "y_pred"
   ]
  },
  {
   "cell_type": "code",
   "execution_count": 118,
   "metadata": {},
   "outputs": [],
   "source": [
    "from sklearn.metrics import mean_squared_error,r2_score\n",
    "mse=mean_squared_error(y_test,y_pred)\n",
    "r_squared=r2_score(y_test,y_pred)"
   ]
  },
  {
   "cell_type": "code",
   "execution_count": 119,
   "metadata": {},
   "outputs": [],
   "source": [
    "from math import sqrt\n",
    "rmse = sqrt(mse)"
   ]
  },
  {
   "cell_type": "code",
   "execution_count": 120,
   "metadata": {},
   "outputs": [
    {
     "name": "stdout",
     "output_type": "stream",
     "text": [
      "Mean_squared_error: 276229.13050659944\n",
      "Root_mean_sqaured_error: 525.5750474543092\n",
      "r_squared_value: 0.9993174439260046\n"
     ]
    }
   ],
   "source": [
    "print(\"Mean_squared_error:\",mse)\n",
    "print(\"Root_mean_sqaured_error:\",rmse)\n",
    "print(\"r_squared_value:\",r_squared)"
   ]
  },
  {
   "cell_type": "code",
   "execution_count": 121,
   "metadata": {},
   "outputs": [
    {
     "data": {
      "text/plain": [
       "const              -421.341198\n",
       "Invoice               1.088866\n",
       "EngineSize          288.532538\n",
       "Cylinders          -123.517990\n",
       "Horsepower           -0.528638\n",
       "                       ...    \n",
       "Origin_Europe        17.228000\n",
       "Origin_USA         -292.978984\n",
       "DriveTrain_All     -140.733885\n",
       "DriveTrain_Front   -189.550079\n",
       "DriveTrain_Rear     -91.057234\n",
       "Length: 485, dtype: float64"
      ]
     },
     "execution_count": 121,
     "metadata": {},
     "output_type": "execute_result"
    }
   ],
   "source": [
    "import statsmodels.api as sm\n",
    "x_train_sm=x_train\n",
    "#unlike sklearn statmodel don't automatically fit a constran\n",
    "#so you need to use method sm.add_constant(x)in order to add constant\n",
    "x_train_sm=sm.add_constant(x_train_sm)\n",
    "#create a fitted model in one line\n",
    "lm_1=sm.OLS(y_train,x_train_sm).fit()\n",
    "#print the coeffient\n",
    "lm_1.params"
   ]
  },
  {
   "cell_type": "code",
   "execution_count": 122,
   "metadata": {},
   "outputs": [
    {
     "name": "stdout",
     "output_type": "stream",
     "text": [
      "                            OLS Regression Results                            \n",
      "==============================================================================\n",
      "Dep. Variable:                   MSRP   R-squared:                       1.000\n",
      "Model:                            OLS   Adj. R-squared:                  1.000\n",
      "Method:                 Least Squares   F-statistic:                 1.083e+23\n",
      "Date:                Tue, 10 Aug 2021   Prob (F-statistic):           9.23e-24\n",
      "Time:                        19:34:46   Log-Likelihood:                 5361.9\n",
      "No. Observations:                 302   AIC:                        -1.012e+04\n",
      "Df Residuals:                       2   BIC:                            -9011.\n",
      "Df Model:                         299                                         \n",
      "Covariance Type:            nonrobust                                         \n",
      "=================================================================================================================\n",
      "                                                    coef    std err          t      P>|t|      [0.025      0.975]\n",
      "-----------------------------------------------------------------------------------------------------------------\n",
      "const                                          -421.3412   2.52e-08  -1.67e+10      0.000    -421.341    -421.341\n",
      "Invoice                                           1.0889   5.56e-13   1.96e+12      0.000       1.089       1.089\n",
      "EngineSize                                      288.5325   1.15e-08   2.52e+10      0.000     288.533     288.533\n",
      "Cylinders                                      -123.5180   6.83e-09  -1.81e+10      0.000    -123.518    -123.518\n",
      "Horsepower                                       -0.5286   1.45e-10  -3.64e+09      0.000      -0.529      -0.529\n",
      "MPG_City                                         26.2033    2.9e-09   9.04e+09      0.000      26.203      26.203\n",
      "MPG_Highway                                     -24.0244   3.16e-09   -7.6e+09      0.000     -24.024     -24.024\n",
      "Weight                                            0.1509   1.82e-11    8.3e+09      0.000       0.151       0.151\n",
      "Wheelbase                                        -3.0113   1.32e-09  -2.29e+09      0.000      -3.011      -3.011\n",
      "Length                                            3.9154   7.14e-10   5.49e+09      0.000       3.915       3.915\n",
      "Make_Acura                                      354.3383   2.48e-08   1.43e+10      0.000     354.338     354.338\n",
      "Make_Audi                                       299.3872   3.13e-08   9.57e+09      0.000     299.387     299.387\n",
      "Make_BMW                                        -54.7380   2.06e-08  -2.66e+09      0.000     -54.738     -54.738\n",
      "Make_Buick                                       63.0864   2.11e-08      3e+09      0.000      63.086      63.086\n",
      "Make_Cadillac                                  -295.7607   1.98e-08  -1.49e+10      0.000    -295.761    -295.761\n",
      "Make_Chevrolet                                  300.2680   1.62e-08   1.85e+10      0.000     300.268     300.268\n",
      "Make_Chrysler                                  -204.2954   1.68e-08  -1.21e+10      0.000    -204.295    -204.295\n",
      "Make_Dodge                                     -170.9010    1.7e-08  -1.01e+10      0.000    -170.901    -170.901\n",
      "Make_Ford                                       -32.0196    1.5e-08  -2.13e+09      0.000     -32.020     -32.020\n",
      "Make_GMC                                        422.5392   2.69e-08   1.57e+10      0.000     422.539     422.539\n",
      "Make_Honda                                      169.0323   1.63e-08   1.04e+10      0.000     169.032     169.032\n",
      "Make_Hummer                                    6.219e-12   1.79e-21   3.48e+09      0.000    6.22e-12    6.22e-12\n",
      "Make_Hyundai                                    118.3200   1.65e-08   7.16e+09      0.000     118.320     118.320\n",
      "Make_Infiniti                                    90.7300   2.84e-08    3.2e+09      0.000      90.730      90.730\n",
      "Make_Isuzu                                     -339.4222   3.18e-08  -1.07e+10      0.000    -339.422    -339.422\n",
      "Make_Jaguar                                     107.2395   2.05e-08   5.23e+09      0.000     107.240     107.240\n",
      "Make_Jeep                                      -101.3861   2.62e-08  -3.87e+09      0.000    -101.386    -101.386\n",
      "Make_Kia                                       -295.3786   1.78e-08  -1.66e+10      0.000    -295.379    -295.379\n",
      "Make_Land Rover                                -181.8183   2.79e-08  -6.51e+09      0.000    -181.818    -181.818\n",
      "Make_Lexus                                     1597.4033   2.16e-08   7.39e+10      0.000    1597.403    1597.403\n",
      "Make_Lincoln                                     59.8035   2.62e-08   2.28e+09      0.000      59.803      59.803\n",
      "Make_MINI                                       306.6883   2.76e-08   1.11e+10      0.000     306.688     306.688\n",
      "Make_Mazda                                     -183.6869      2e-08  -9.17e+09      0.000    -183.687    -183.687\n",
      "Make_Mercedes-Benz                             -905.3969   4.07e-08  -2.22e+10      0.000    -905.397    -905.397\n",
      "Make_Mercury                                   -144.2351   2.35e-08  -6.14e+09      0.000    -144.235    -144.235\n",
      "Make_Mitsubishi                                -475.7298    1.9e-08   -2.5e+10      0.000    -475.730    -475.730\n",
      "Make_Nissan                                    -371.6955   1.71e-08  -2.18e+10      0.000    -371.695    -371.695\n",
      "Make_Oldsmobile                                -109.0852   2.83e-08  -3.86e+09      0.000    -109.085    -109.085\n",
      "Make_Pontiac                                    -21.6672    1.8e-08   -1.2e+09      0.000     -21.667     -21.667\n",
      "Make_Porsche                                   2530.0584   2.43e-08   1.04e+11      0.000    2530.058    2530.058\n",
      "Make_Saab                                      -909.7769   2.26e-08  -4.02e+10      0.000    -909.777    -909.777\n",
      "Make_Saturn                                     -59.3258   2.23e-08  -2.65e+09      0.000     -59.326     -59.326\n",
      "Make_Scion                                      -83.8025   2.78e-08  -3.02e+09      0.000     -83.802     -83.802\n",
      "Make_Subaru                                      -3.5130   4.21e-08  -8.34e+07      0.000      -3.513      -3.513\n",
      "Make_Suzuki                                    -743.5037   2.24e-08  -3.33e+10      0.000    -743.504    -743.504\n",
      "Make_Toyota                                      21.3180   2.93e-08   7.27e+08      0.000      21.318      21.318\n",
      "Make_Volkswagen                                -183.3066   1.74e-08  -1.05e+10      0.000    -183.307    -183.307\n",
      "Make_Volvo                                     -991.1087   1.97e-08  -5.04e+10      0.000    -991.109    -991.109\n",
      "Model_3.5 RL 4dr                                664.7847   4.77e-08   1.39e+10      0.000     664.785     664.785\n",
      "Model_3.5 RL w/Navigation 4dr                 -4.325e-10   2.37e-19  -1.82e+09      0.000   -4.32e-10   -4.32e-10\n",
      "Model_300M 4dr                                  5.69e-10   3.11e-19   1.83e+09      0.000    5.69e-10    5.69e-10\n",
      "Model_300M Special Edition 4dr                 -124.0191   5.51e-08  -2.25e+09      0.000    -124.019    -124.019\n",
      "Model_325Ci 2dr                                  70.3862   6.09e-08   1.16e+09      0.000      70.386      70.386\n",
      "Model_325Ci convertible 2dr                   -4.944e-10   2.71e-19  -1.83e+09      0.000   -4.94e-10   -4.94e-10\n",
      "Model_325i 4dr                                -2.837e-10   1.55e-19  -1.83e+09      0.000   -2.84e-10   -2.84e-10\n",
      "Model_325xi 4dr                                  56.7332   7.56e-08   7.51e+08      0.000      56.733      56.733\n",
      "Model_325xi Sport                               113.0637   6.93e-08   1.63e+09      0.000     113.064     113.064\n",
      "Model_330Ci 2dr                                  15.8103   5.97e-08   2.65e+08      0.000      15.810      15.810\n",
      "Model_330Ci convertible 2dr                      10.0408    5.9e-08    1.7e+08      0.000      10.041      10.041\n",
      "Model_330i 4dr                                -4.144e-10   2.27e-19  -1.83e+09      0.000   -4.14e-10   -4.14e-10\n",
      "Model_330xi 4dr                                  16.5936   7.84e-08   2.12e+08      0.000      16.594      16.594\n",
      "Model_350Z Enthusiast convertible 2dr          -249.5593   5.76e-08  -4.34e+09      0.000    -249.559    -249.559\n",
      "Model_350Z coupe 2dr                           2.944e-13   5.32e-23   5.53e+09      0.000    2.94e-13    2.94e-13\n",
      "Model_4Runner SR5 V6                            237.9325   7.52e-08   3.16e+09      0.000     237.933     237.933\n",
      "Model_525i 4dr                                   84.7257   6.13e-08   1.38e+09      0.000      84.726      84.726\n",
      "Model_530i 4dr                                   23.0020   6.01e-08   3.83e+08      0.000      23.002      23.002\n",
      "Model_545iA 4dr                                 -85.0122   5.99e-08  -1.42e+09      0.000     -85.012     -85.012\n",
      "Model_745Li 4dr                                 -38.4971   5.78e-08  -6.66e+08      0.000     -38.497     -38.497\n",
      "Model_745i 4dr                                  -53.3128   5.76e-08  -9.25e+08      0.000     -53.313     -53.313\n",
      "Model_9-3 Aero 4dr                             -162.0944   5.02e-08  -3.23e+09      0.000    -162.094    -162.094\n",
      "Model_9-3 Aero convertible 2dr                -4.279e-14   6.79e-23   -6.3e+08      0.000   -4.28e-14   -4.28e-14\n",
      "Model_9-3 Arc Sport 4dr                       -1.258e-13    4.3e-23  -2.93e+09      0.000   -1.26e-13   -1.26e-13\n",
      "Model_9-3 Arc convertible 2dr                  -472.7030   5.04e-08  -9.38e+09      0.000    -472.703    -472.703\n",
      "Model_9-5 Aero                                 -127.7602   4.91e-08   -2.6e+09      0.000    -127.760    -127.760\n",
      "Model_9-5 Aero 4dr                            -4.779e-13    4.6e-23  -1.04e+10      0.000   -4.78e-13   -4.78e-13\n",
      "Model_9-5 Arc 4dr                              -147.2193   5.03e-08  -2.93e+09      0.000    -147.219    -147.219\n",
      "Model_911 Carrera 4S coupe 2dr (convert)       2551.1013   7.33e-08   3.48e+10      0.000    2551.101    2551.101\n",
      "Model_911 Carrera convertible 2dr (coupe)       780.6652   5.66e-08   1.38e+10      0.000     780.665     780.665\n",
      "Model_911 GT2 2dr                               542.6299   4.31e-08   1.26e+10      0.000     542.630     542.630\n",
      "Model_911 Targa coupe 2dr                       2.29e-13   5.68e-23   4.03e+09      0.000    2.29e-13    2.29e-13\n",
      "Model_A4 1.8T 4dr                             -2.433e-13   5.07e-23   -4.8e+09      0.000   -2.43e-13   -2.43e-13\n",
      "Model_A4 3.0 4dr                                 -0.7620   6.02e-08  -1.26e+07      0.000      -0.762      -0.762\n",
      "Model_A4 3.0 Quattro 4dr auto                  -222.0361   5.66e-08  -3.92e+09      0.000    -222.036    -222.036\n",
      "Model_A4 3.0 Quattro 4dr manual                -102.3491   5.65e-08  -1.81e+09      0.000    -102.349    -102.349\n",
      "Model_A4 3.0 Quattro convertible 2dr             19.8449   5.78e-08   3.44e+08      0.000      19.845      19.845\n",
      "Model_A4 3.0 convertible 2dr                    249.8430   5.87e-08   4.25e+09      0.000     249.843     249.843\n",
      "Model_A41.8T convertible 2dr                    128.7409   5.78e-08   2.23e+09      0.000     128.741     128.741\n",
      "Model_A6 2.7 Turbo Quattro 4dr                   58.7785   5.66e-08   1.04e+09      0.000      58.779      58.779\n",
      "Model_A6 3.0 4dr                                 60.8211   6.17e-08   9.85e+08      0.000      60.821      60.821\n",
      "Model_A6 3.0 Avant Quattro                      -59.8959   5.44e-08   -1.1e+09      0.000     -59.896     -59.896\n",
      "Model_A6 3.0 Quattro 4dr                       -149.1900   5.65e-08  -2.64e+09      0.000    -149.190    -149.190\n",
      "Model_A6 4.2 Quattro 4dr                         81.6212   5.67e-08   1.44e+09      0.000      81.621      81.621\n",
      "Model_A8 L Quattro 4dr                        -3.897e-13   4.57e-23  -8.52e+09      0.000    -3.9e-13    -3.9e-13\n",
      "Model_Accent 2dr hatch                        -8.575e-14   4.59e-23  -1.87e+09      0.000   -8.58e-14   -8.58e-14\n",
      "Model_Accent GL 4dr                            -173.2130   5.45e-08  -3.18e+09      0.000    -173.213    -173.213\n",
      "Model_Accent GT 2dr hatch                      -181.8706   5.45e-08  -3.34e+09      0.000    -181.871    -181.871\n",
      "Model_Accord EX 2dr                           -4.758e-13   4.45e-23  -1.07e+10      0.000   -4.76e-13   -4.76e-13\n",
      "Model_Accord EX V6 2dr                          383.5770    5.5e-08   6.98e+09      0.000     383.577     383.577\n",
      "Model_Accord LX 2dr                             124.6766   5.48e-08   2.27e+09      0.000     124.677     124.677\n",
      "Model_Accord LX V6 4dr                          308.0589   5.49e-08   5.61e+09      0.000     308.059     308.059\n",
      "Model_Aeno S 4dr                              -2.958e-14   4.95e-23  -5.97e+08      0.000   -2.96e-14   -2.96e-14\n",
      "Model_Aerio LX 4dr                             3.572e-13   5.54e-23   6.45e+09      0.000    3.57e-13    3.57e-13\n",
      "Model_Aerio SX                                 -491.9028    5.8e-08  -8.48e+09      0.000    -491.903    -491.903\n",
      "Model_Alero GLS 2dr                            2.227e-13    5.5e-23   4.05e+09      0.000    2.23e-13    2.23e-13\n",
      "Model_Alero GX 2dr                             -109.0852   2.83e-08  -3.86e+09      0.000    -109.085    -109.085\n",
      "Model_Altima S 4dr                             1.408e-13   4.69e-23      3e+09      0.000    1.41e-13    1.41e-13\n",
      "Model_Altima SE 4dr                           -7.556e-14   4.58e-23  -1.65e+09      0.000   -7.56e-14   -7.56e-14\n",
      "Model_Amanti 4dr                               3.303e-13   4.84e-23   6.82e+09      0.000     3.3e-13     3.3e-13\n",
      "Model_Ascender S                               -1.27e-14   5.53e-23   -2.3e+08      0.000   -1.27e-14   -1.27e-14\n",
      "Model_Astro                                    -550.9680   5.96e-08  -9.25e+09      0.000    -550.968    -550.968\n",
      "Model_Avalanche 1500                            616.6078   7.08e-08   8.71e+09      0.000     616.608     616.608\n",
      "Model_Avalon XL 4dr                             728.5073   6.48e-08   1.12e+10      0.000     728.507     728.507\n",
      "Model_Avalon XLS 4dr                          -1.917e-14   4.77e-23  -4.02e+08      0.000   -1.92e-14   -1.92e-14\n",
      "Model_Aveo 4dr                                -2.191e-14   4.78e-23  -4.58e+08      0.000   -2.19e-14   -2.19e-14\n",
      "Model_Aveo LS 4dr hatch                        -106.4190   5.43e-08  -1.96e+09      0.000    -106.419    -106.419\n",
      "Model_Aviator Ultimate                        -1.373e-13   5.73e-23   -2.4e+09      0.000   -1.37e-13   -1.37e-13\n",
      "Model_Aztekt                                     43.1651   5.66e-08   7.62e+08      0.000      43.165      43.165\n",
      "Model_B2300 SX Regular Cab                     -389.3592   5.96e-08  -6.54e+09      0.000    -389.359    -389.359\n",
      "Model_B4000 SE Cab Plus                        -134.3001   6.01e-08  -2.23e+09      0.000    -134.300    -134.300\n",
      "Model_Baja                                    -2.798e-15   4.69e-23  -5.97e+07      0.000    -2.8e-15    -2.8e-15\n",
      "Model_Bonneville GXP 4dr                       -152.8761   5.22e-08  -2.93e+09      0.000    -152.876    -152.876\n",
      "Model_Boxster S convertible 2dr               -2.748e-13   5.32e-23  -5.17e+09      0.000   -2.75e-13   -2.75e-13\n",
      "Model_Boxster convertible 2dr                  -583.1825   5.72e-08  -1.02e+10      0.000    -583.183    -583.183\n",
      "Model_C230 Sport 2dr                            454.4374   6.72e-08   6.77e+09      0.000     454.437     454.437\n",
      "Model_C240                                    -5.548e-14   5.01e-23  -1.11e+09      0.000   -5.55e-14   -5.55e-14\n",
      "Model_C240 4dr                                  316.5647   9.11e-08   3.48e+09      0.000     316.565     316.565\n",
      "Model_C32 AMG 4dr                               -90.6784   6.13e-08  -1.48e+09      0.000     -90.678     -90.678\n",
      "Model_C320 4dr                                   50.9241   3.57e-08   1.43e+09      0.000      50.924      50.924\n",
      "Model_C320 Sport 2dr                            1.55e-13   4.17e-23   3.72e+09      0.000    1.55e-13    1.55e-13\n",
      "Model_C320 Sport 4dr                            101.4413   6.66e-08   1.52e+09      0.000     101.441     101.441\n",
      "Model_C70 HPT convertible 2dr                  -201.3984   5.55e-08  -3.63e+09      0.000    -201.398    -201.398\n",
      "Model_C70 LPT convertible 2dr                  -185.1277   5.53e-08  -3.35e+09      0.000    -185.128    -185.128\n",
      "Model_CL500 2dr                               -3.108e-13   4.68e-23  -6.64e+09      0.000   -3.11e-13   -3.11e-13\n",
      "Model_CL600 2dr                                2.196e-13   4.83e-23   4.54e+09      0.000     2.2e-13     2.2e-13\n",
      "Model_CLK320 coupe 2dr (convertible)            525.1157   6.57e-08   7.99e+09      0.000     525.116     525.116\n",
      "Model_CLK500 coupe 2dr (convertible)          -6.934e-14   4.64e-23   -1.5e+09      0.000   -6.93e-14   -6.93e-14\n",
      "Model_CR-V LX                                  -536.9794   5.41e-08  -9.93e+09      0.000    -536.979    -536.979\n",
      "Model_CTS VVT 4dr                              -129.0734   6.04e-08  -2.14e+09      0.000    -129.073    -129.073\n",
      "Model_Camry LE 4dr                              385.9383    6.2e-08   6.22e+09      0.000     385.938     385.938\n",
      "Model_Camry LE V6 4dr                         -1.998e-13   4.28e-23  -4.66e+09      0.000      -2e-13      -2e-13\n",
      "Model_Camry Solara SE 2dr                       253.2743   6.18e-08    4.1e+09      0.000     253.274     253.274\n",
      "Model_Camry Solara SE V6 2dr                    295.4302   6.45e-08   4.58e+09      0.000     295.430     295.430\n",
      "Model_Camry Solara SLE V6 2dr                 -1.336e-13   4.15e-23  -3.22e+09      0.000   -1.34e-13   -1.34e-13\n",
      "Model_Camry XLE V6 4dr                          727.0276   6.49e-08   1.12e+10      0.000     727.028     727.028\n",
      "Model_Canyon Z85 SL Regular Cab                -180.8054   5.07e-08  -3.57e+09      0.000    -180.805    -180.805\n",
      "Model_Caravan SE                               -417.6805   5.35e-08   -7.8e+09      0.000    -417.680    -417.680\n",
      "Model_Cavalier 2dr                             -313.8810    5.6e-08  -5.61e+09      0.000    -313.881    -313.881\n",
      "Model_Cavalier 4dr                             -326.4008    5.6e-08  -5.83e+09      0.000    -326.401    -326.401\n",
      "Model_Cavalier LS 2dr                          -346.3979    5.6e-08  -6.19e+09      0.000    -346.398    -346.398\n",
      "Model_Cayenne S                                -761.1555   4.94e-08  -1.54e+10      0.000    -761.156    -761.156\n",
      "Model_Celica GT-S 2dr                          1.449e-13   4.21e-23   3.44e+09      0.000    1.45e-13    1.45e-13\n",
      "Model_Century Custom 4dr                      -1.738e-14   3.47e-23  -5.01e+08      0.000   -1.74e-14   -1.74e-14\n",
      "Model_Civic DX 2dr                               41.2988    5.5e-08   7.51e+08      0.000      41.299      41.299\n",
      "Model_Civic EX 4dr                               24.6592   5.49e-08   4.49e+08      0.000      24.659      24.659\n",
      "Model_Civic HX 2dr                            -5.319e-13   4.01e-23  -1.33e+10      0.000   -5.32e-13   -5.32e-13\n",
      "Model_Civic Hybrid 4dr manual (gas/electric)  -1.689e-13   4.28e-23  -3.95e+09      0.000   -1.69e-13   -1.69e-13\n",
      "Model_Civic LX 4dr                               43.7103    5.5e-08   7.94e+08      0.000      43.710      43.710\n",
      "Model_Civic Si 2dr hatch                       4.903e-13   4.11e-23   1.19e+10      0.000     4.9e-13     4.9e-13\n",
      "Model_Colorado Z85                             -255.8279   6.77e-08  -3.78e+09      0.000    -255.828    -255.828\n",
      "Model_Concorde LX 4dr                         -2.168e-13   4.27e-23  -5.08e+09      0.000   -2.17e-13   -2.17e-13\n",
      "Model_Concorde LXi 4dr                         3.531e-13   3.88e-23   9.09e+09      0.000    3.53e-13    3.53e-13\n",
      "Model_Cooper                                    120.9324   4.32e-08    2.8e+09      0.000     120.932     120.932\n",
      "Model_Cooper S                                  185.7559    4.3e-08   4.32e+09      0.000     185.756     185.756\n",
      "Model_Corolla CE 4dr                             36.7287   5.85e-08   6.28e+08      0.000      36.729      36.729\n",
      "Model_Corolla LE 4dr                            346.1842   5.85e-08   5.92e+09      0.000     346.184     346.184\n",
      "Model_Corolla S 4dr                            4.331e-14   4.34e-23   9.98e+08      0.000    4.33e-14    4.33e-14\n",
      "Model_Corvette 2dr                             2.732e-13   4.63e-23    5.9e+09      0.000    2.73e-13    2.73e-13\n",
      "Model_Corvette convertible 2dr                 1497.7394   5.92e-08   2.53e+10      0.000    1497.739    1497.739\n",
      "Model_Crossfire 2dr                            -202.5325    5.5e-08  -3.68e+09      0.000    -202.533    -202.533\n",
      "Model_Crown Victoria 4dr                       -822.1596   6.43e-08  -1.28e+10      0.000    -822.160    -822.160\n",
      "Model_Crown Victoria LX 4dr                    -246.0183    6.4e-08  -3.84e+09      0.000    -246.018    -246.018\n",
      "Model_Crown Victoria LX Sport 4dr             -1.422e-13    4.2e-23  -3.39e+09      0.000   -1.42e-13   -1.42e-13\n",
      "Model_Dakota Club Cab                          1.046e-13   3.86e-23   2.71e+09      0.000    1.05e-13    1.05e-13\n",
      "Model_Dakota Regular Cab                        -67.1028   6.12e-08   -1.1e+09      0.000     -67.103     -67.103\n",
      "Model_Deville 4dr                               231.3079   5.53e-08   4.19e+09      0.000     231.308     231.308\n",
      "Model_Deville DTS 4dr                           254.7366    5.6e-08   4.55e+09      0.000     254.737     254.737\n",
      "Model_Diamante LS 4dr                          4.143e-13   2.87e-23   1.45e+10      0.000    4.14e-13    4.14e-13\n",
      "Model_Discovery SE                             -181.8183   2.79e-08  -6.51e+09      0.000    -181.818    -181.818\n",
      "Model_Durango SLT                               -80.1448   5.67e-08  -1.41e+09      0.000     -80.145     -80.145\n",
      "Model_E320                                     2.209e-13   3.84e-23   5.75e+09      0.000    2.21e-13    2.21e-13\n",
      "Model_E320 4dr                                  -89.6670    6.5e-08  -1.38e+09      0.000     -89.667     -89.667\n",
      "Model_E500                                     -435.2032   8.78e-08  -4.96e+09      0.000    -435.203    -435.203\n",
      "Model_E500 4dr                                 -627.1788   6.53e-08  -9.61e+09      0.000    -627.179    -627.179\n",
      "Model_ES 330 4dr                               -624.4148   5.57e-08  -1.12e+10      0.000    -624.415    -624.415\n",
      "Model_Echo 2dr auto                           -3.565e-13   3.63e-23  -9.82e+09      0.000   -3.56e-13   -3.56e-13\n",
      "Model_Echo 2dr manual                            62.7888   5.71e-08    1.1e+09      0.000      62.789      62.789\n",
      "Model_Echo 4dr                                   47.5162   5.71e-08   8.31e+08      0.000      47.516      47.516\n",
      "Model_Eclipse GTS 2dr                           -97.2750   5.48e-08  -1.77e+09      0.000     -97.275     -97.275\n",
      "Model_Eclipse Spyder GT convertible 2dr        -124.1545   5.52e-08  -2.25e+09      0.000    -124.155    -124.155\n",
      "Model_Elantra GLS 4dr                           -54.4949   5.51e-08  -9.89e+08      0.000     -54.495     -54.495\n",
      "Model_Elantra GT 4dr                            -57.2172   5.51e-08  -1.04e+09      0.000     -57.217     -57.217\n",
      "Model_Elantra GT 4dr hatch                      -66.7226   5.51e-08  -1.21e+09      0.000     -66.723     -66.723\n",
      "Model_Element LX                               -540.3070    5.5e-08  -9.83e+09      0.000    -540.307    -540.307\n",
      "Model_Endeavor XLS                             -328.2555   5.34e-08  -6.15e+09      0.000    -328.256    -328.256\n",
      "Model_Envoy XUV SLE                            -488.8809    5.2e-08  -9.39e+09      0.000    -488.881    -488.881\n",
      "Model_Escalade                                 -174.6376   5.27e-08  -3.31e+09      0.000    -174.638    -174.638\n",
      "Model_Escalade EXT                            -4.018e-13   3.66e-23   -1.1e+10      0.000   -4.02e-13   -4.02e-13\n",
      "Model_Escape XLS                               -106.2693    5.7e-08  -1.87e+09      0.000    -106.269    -106.269\n",
      "Model_Excursion 6.8 XLT                        4.662e-13   3.86e-23   1.21e+10      0.000    4.66e-13    4.66e-13\n",
      "Model_Expedition 4.6 XLT                       -1.22e-13   3.61e-23  -3.38e+09      0.000   -1.22e-13   -1.22e-13\n",
      "Model_Explorer XLT V6                           -46.4257   5.69e-08  -8.16e+08      0.000     -46.426     -46.426\n",
      "Model_F-150 Regular Cab XL                      423.5586   6.07e-08   6.97e+09      0.000     423.559     423.559\n",
      "Model_F-150 Supercab Lariat                     906.6381   7.32e-08   1.24e+10      0.000     906.638     906.638\n",
      "Model_FX35                                      -22.3570    5.7e-08  -3.92e+08      0.000     -22.357     -22.357\n",
      "Model_FX45                                    -1.485e-13   3.54e-23   -4.2e+09      0.000   -1.49e-13   -1.49e-13\n",
      "Model_Focus LX 4dr                            -3.935e-13   3.69e-23  -1.07e+10      0.000   -3.93e-13   -3.93e-13\n",
      "Model_Focus SE 4dr                               12.1053   5.53e-08   2.19e+08      0.000      12.105      12.105\n",
      "Model_Focus SVT 2dr                              14.8756   5.44e-08   2.73e+08      0.000      14.876      14.876\n",
      "Model_Focus ZTW                                   3.0771   5.39e-08   5.71e+07      0.000       3.077       3.077\n",
      "Model_Focus ZX3 2dr hatch                      4.008e-13   3.74e-23   1.07e+10      0.000    4.01e-13    4.01e-13\n",
      "Model_Focus ZX5 5dr                            2.679e-13   3.43e-23   7.82e+09      0.000    2.68e-13    2.68e-13\n",
      "Model_Forenza EX 4dr                           -310.1356      5e-08   -6.2e+09      0.000    -310.136    -310.136\n",
      "Model_Forenza S 4dr                             -77.3401   5.02e-08  -1.54e+09      0.000     -77.340     -77.340\n",
      "Model_Forester X                                 12.9770   5.26e-08   2.47e+08      0.000      12.977      12.977\n",
      "Model_Freelander SE                           -2.124e-13   3.49e-23  -6.08e+09      0.000   -2.12e-13   -2.12e-13\n",
      "Model_Freestar SE                              2.895e-13   3.26e-23   8.89e+09      0.000     2.9e-13     2.9e-13\n",
      "Model_Frontier King Cab XE V6                  -268.4883   6.44e-08  -4.17e+09      0.000    -268.488    -268.488\n",
      "Model_G35 4dr                                  -251.8051   4.16e-08  -6.06e+09      0.000    -251.805    -251.805\n",
      "Model_G35 Sport Coupe 2dr                     -2.406e-13   3.19e-23  -7.54e+09      0.000   -2.41e-13   -2.41e-13\n",
      "Model_G500                                      2.69e-13   2.74e-23   9.81e+09      0.000    2.69e-13    2.69e-13\n",
      "Model_GS 300 4dr                               -136.5822   6.01e-08  -2.27e+09      0.000    -136.582    -136.582\n",
      "Model_GS 430 4dr                              -9.934e-14   3.38e-23  -2.94e+09      0.000   -9.93e-14   -9.93e-14\n",
      "Model_GTI 1.8T 2dr hatch                       5.263e-13    3.5e-23   1.51e+10      0.000    5.26e-13    5.26e-13\n",
      "Model_GTO 2dr                                  -614.3547      6e-08  -1.02e+10      0.000    -614.355    -614.355\n",
      "Model_GX 470                                    197.6426   6.01e-08   3.29e+09      0.000     197.643     197.643\n",
      "Model_Galant ES 2.4L 4dr                        111.4420   5.39e-08   2.07e+09      0.000     111.442     111.442\n",
      "Model_Galant GTS 4dr                          -1.533e-13   2.85e-23  -5.37e+09      0.000   -1.53e-13   -1.53e-13\n",
      "Model_Golf GLS 4dr                             -186.5883   5.47e-08  -3.41e+09      0.000    -186.588    -186.588\n",
      "Model_Grand Am GT 2dr                           143.0805   5.43e-08   2.64e+09      0.000     143.080     143.080\n",
      "Model_Grand Caravan SXT                          57.4062      7e-08    8.2e+08      0.000      57.406      57.406\n",
      "Model_Grand Cherokee Laredo                    -178.4019   4.75e-08  -3.75e+09      0.000    -178.402    -178.402\n",
      "Model_Grand Marquis GS 4dr                     -752.2702   5.64e-08  -1.33e+10      0.000    -752.270    -752.270\n",
      "Model_Grand Marquis LS Premium 4dr             -132.6007   5.61e-08  -2.36e+09      0.000    -132.601    -132.601\n",
      "Model_Grand Marquis LS Ultimate 4dr            -106.5734    5.6e-08   -1.9e+09      0.000    -106.573    -106.573\n",
      "Model_Grand Prix GT1 4dr                        -24.7549   5.43e-08  -4.56e+08      0.000     -24.755     -24.755\n",
      "Model_Grand Prix GT2 4dr                        -19.3483   5.43e-08  -3.56e+08      0.000     -19.348     -19.348\n",
      "Model_H2                                      -1.648e-14   3.08e-23  -5.34e+08      0.000   -1.65e-14   -1.65e-14\n",
      "Model_Highlander V6                             572.8179   5.97e-08    9.6e+09      0.000     572.818     572.818\n",
      "Model_I35 4dr                                    77.6984   5.09e-08   1.53e+09      0.000      77.698      77.698\n",
      "Model_IS 300 4dr auto                         -3.825e-13   3.36e-23  -1.14e+10      0.000   -3.83e-13   -3.83e-13\n",
      "Model_IS 300 4dr manual                        -439.5439   6.12e-08  -7.18e+09      0.000    -439.544    -439.544\n",
      "Model_IS 300 SportCross                        -354.8257   6.44e-08  -5.51e+09      0.000    -354.826    -354.826\n",
      "Model_Impala 4dr                               -231.0353   5.58e-08  -4.14e+09      0.000    -231.035    -231.035\n",
      "Model_Impala LS 4dr                            1.586e-14   2.99e-23    5.3e+08      0.000    1.59e-14    1.59e-14\n",
      "Model_Impala SS 4dr                            -331.0948   5.61e-08   -5.9e+09      0.000    -331.095    -331.095\n",
      "Model_Impreza 2.5 RS 4dr                      -1.118e-13   3.52e-23  -3.17e+09      0.000   -1.12e-13   -1.12e-13\n",
      "Model_Impreza WRX 4dr                          -110.8169   5.53e-08     -2e+09      0.000    -110.817    -110.817\n",
      "Model_Impreza WRX STi 4dr                      -410.7953   5.38e-08  -7.64e+09      0.000    -410.795    -410.795\n",
      "Model_Insight 2dr (gas/electric)              -3.177e-13   4.14e-23  -7.67e+09      0.000   -3.18e-13   -3.18e-13\n",
      "Model_Intrepid ES 4dr                           -57.0093   5.43e-08  -1.05e+09      0.000     -57.009     -57.009\n",
      "Model_Intrepid SE 4dr                          9.938e-14   2.89e-23   3.43e+09      0.000    9.94e-14    9.94e-14\n",
      "Model_Ion1 4dr                                   38.6938   5.35e-08   7.23e+08      0.000      38.694      38.694\n",
      "Model_Jetta GL                                  154.5991    5.5e-08   2.81e+09      0.000     154.599     154.599\n",
      "Model_Jetta GLI VR6 4dr                         347.2392   5.46e-08   6.36e+09      0.000     347.239     347.239\n",
      "Model_Jetta GLS TDI 4dr                        -227.4966   5.92e-08  -3.85e+09      0.000    -227.497    -227.497\n",
      "Model_L300 2                                    158.8166   5.22e-08   3.04e+09      0.000     158.817     158.817\n",
      "Model_L300-2 4dr                                 72.8062   5.35e-08   1.36e+09      0.000      72.806      72.806\n",
      "Model_LS 430 4dr                                956.8713   5.84e-08   1.64e+10      0.000     956.871     956.871\n",
      "Model_LS V6 Luxury 4dr                         -217.6154   5.49e-08  -3.97e+09      0.000    -217.615    -217.615\n",
      "Model_LS V6 Premium 4dr                        -129.5230   5.47e-08  -2.37e+09      0.000    -129.523    -129.523\n",
      "Model_LS V8 Sport 4dr                           -35.2898   5.44e-08  -6.49e+08      0.000     -35.290     -35.290\n",
      "Model_LS V8 Ultimate 4dr                         32.7816   5.43e-08   6.03e+08      0.000      32.782      32.782\n",
      "Model_LX 470                                   1066.5189   6.32e-08   1.69e+10      0.000    1066.519    1066.519\n",
      "Model_Lancer ES 4dr                           -5.739e-14   1.95e-23  -2.95e+09      0.000   -5.74e-14   -5.74e-14\n",
      "Model_Lancer Evolution 4dr                      105.5512   5.39e-08   1.96e+09      0.000     105.551     105.551\n",
      "Model_Lancer LS 4dr                             130.2732   5.39e-08   2.42e+09      0.000     130.273     130.273\n",
      "Model_Lancer OZ Rally 4dr auto                 1.846e-13   3.52e-23   5.24e+09      0.000    1.85e-13    1.85e-13\n",
      "Model_Lancer Sportback LS                     -6.021e-14   2.47e-23  -2.44e+09      0.000   -6.02e-14   -6.02e-14\n",
      "Model_Land Cruiser                              1.86e-14   3.05e-23    6.1e+08      0.000    1.86e-14    1.86e-14\n",
      "Model_LeSabre Custom 4dr                       -143.3791   5.27e-08  -2.72e+09      0.000    -143.379    -143.379\n",
      "Model_LeSabre Limited 4dr                      2.144e-13   2.72e-23    7.9e+09      0.000    2.14e-13    2.14e-13\n",
      "Model_Legacy GT 4dr                              53.2732   5.34e-08   9.98e+08      0.000      53.273      53.273\n",
      "Model_Legacy L 4dr                              -96.3045   5.35e-08   -1.8e+09      0.000     -96.304     -96.304\n",
      "Model_Liberty Sport                            2.749e-13   1.75e-23   1.57e+10      0.000    2.75e-13    2.75e-13\n",
      "Model_M3 convertible 2dr                       -197.9019   5.44e-08  -3.64e+09      0.000    -197.902    -197.902\n",
      "Model_M3 coupe 2dr                            -6.981e-14   1.68e-23  -4.15e+09      0.000   -6.98e-14   -6.98e-14\n",
      "Model_M45 4dr                                 -5.449e-14    1.4e-23  -3.89e+09      0.000   -5.45e-14   -5.45e-14\n",
      "Model_MDX                                       -49.1804   4.87e-08  -1.01e+09      0.000     -49.180     -49.180\n",
      "Model_ML500                                    -505.2012   7.61e-08  -6.64e+09      0.000    -505.201    -505.201\n",
      "Model_MPV ES                                   2.459e-13   1.41e-23   1.75e+10      0.000    2.46e-13    2.46e-13\n",
      "Model_MR2 Spyder convertible 2dr                339.6030   6.57e-08   5.17e+09      0.000     339.603     339.603\n",
      "Model_MX-5 Miata LS convertible 2dr             -14.8254   5.49e-08   -2.7e+08      0.000     -14.825     -14.825\n",
      "Model_MX-5 Miata convertible 2dr              -7.144e-15   6.02e-24  -1.19e+09      0.000   -7.14e-15   -7.14e-15\n",
      "Model_Malibu 4dr                              -3.977e-14   1.07e-23  -3.72e+09      0.000   -3.98e-14   -3.98e-14\n",
      "Model_Malibu LS 4dr                            -210.9030   5.61e-08  -3.76e+09      0.000    -210.903    -210.903\n",
      "Model_Malibu LT 4dr                           -5.511e-14    1.2e-23  -4.59e+09      0.000   -5.51e-14   -5.51e-14\n",
      "Model_Malibu Maxx LS                           -197.4973   5.51e-08  -3.59e+09      0.000    -197.497    -197.497\n",
      "Model_Marauder 4dr                            -4.918e-14   9.04e-24  -5.44e+09      0.000   -4.92e-14   -4.92e-14\n",
      "Model_Matrix XR                               -2.838e-14   4.88e-24  -5.82e+09      0.000   -2.84e-14   -2.84e-14\n",
      "Model_Maxima SE 4dr                             312.9526   5.46e-08   5.73e+09      0.000     312.953     312.953\n",
      "Model_Maxima SL 4dr                             319.9638   5.47e-08   5.85e+09      0.000     319.964     319.964\n",
      "Model_Mazda3 i 4dr                                8.6245   5.41e-08   1.59e+08      0.000       8.625       8.625\n",
      "Model_Mazda3 s 4dr                             2.799e-14   6.41e-24   4.37e+09      0.000     2.8e-14     2.8e-14\n",
      "Model_Mazda6 i 4dr                               33.7889   5.34e-08   6.32e+08      0.000      33.789      33.789\n",
      "Model_Montana                                   263.0651   5.41e-08   4.86e+09      0.000     263.065     263.065\n",
      "Model_Montana EWB                               179.7617   6.69e-08   2.69e+09      0.000     179.762     179.762\n",
      "Model_Monte Carlo LS 2dr                       -204.2127   5.58e-08  -3.66e+09      0.000    -204.213    -204.213\n",
      "Model_Monte Carlo SS 2dr                       -331.8719   5.62e-08  -5.91e+09      0.000    -331.872    -331.872\n",
      "Model_Monterey Luxury                         -2.945e-14   2.47e-24  -1.19e+10      0.000   -2.94e-14   -2.94e-14\n",
      "Model_Montero XLS                              -438.2103   5.35e-08   -8.2e+09      0.000    -438.210    -438.210\n",
      "Model_Mountaineer                                87.1742   5.15e-08   1.69e+09      0.000      87.174      87.174\n",
      "Model_Murano SL                                        0          0        nan        nan           0           0\n",
      "Model_Mustang 2dr (convertible)                -367.7787   5.61e-08  -6.56e+09      0.000    -367.779    -367.779\n",
      "Model_Mustang GT Premium convertible 2dr       -121.8504   5.65e-08  -2.15e+09      0.000    -121.850    -121.850\n",
      "Model_NSX coupe 2dr manual S                           0          0        nan        nan           0           0\n",
      "Model_Navigator Luxury                         1488.0131   7.16e-08   2.08e+10      0.000    1488.013    1488.013\n",
      "Model_Neon SE 4dr                                      0          0        nan        nan           0           0\n",
      "Model_Neon SXT 4dr                              151.4544   5.52e-08   2.74e+09      0.000     151.454     151.454\n",
      "Model_New Beetle GLS 1.8T 2dr                   -95.0496   5.45e-08  -1.74e+09      0.000     -95.050     -95.050\n",
      "Model_New Beetle GLS convertible 2dr                   0          0        nan        nan           0           0\n",
      "Model_Odyssey EX                                 35.3514   5.48e-08   6.45e+08      0.000      35.351      35.351\n",
      "Model_Odyssey LX                                -10.7582   5.48e-08  -1.96e+08      0.000     -10.758     -10.758\n",
      "Model_Optima LX 4dr                             -10.6496   5.43e-08  -1.96e+08      0.000     -10.650     -10.650\n",
      "Model_Optima LX V6 4dr                          456.1825   5.44e-08   8.38e+09      0.000     456.182     456.182\n",
      "Model_Outback                                          0          0        nan        nan           0           0\n",
      "Model_Outback H-6 VDC 4dr                       314.7351   5.33e-08   5.91e+09      0.000     314.735     314.735\n",
      "Model_Outback H6 4dr                            233.4185   5.32e-08   4.39e+09      0.000     233.418     233.418\n",
      "Model_Outback Limited Sedan 4dr                        0          0        nan        nan           0           0\n",
      "Model_Outlander LS                              164.8992   6.27e-08   2.63e+09      0.000     164.899     164.899\n",
      "Model_PT Cruiser 4dr                           -103.6656   5.49e-08  -1.89e+09      0.000    -103.666    -103.666\n",
      "Model_PT Cruiser GT 4dr                         -33.5503   5.45e-08  -6.15e+08      0.000     -33.550     -33.550\n",
      "Model_PT Cruiser Limited 4dr                    -67.9838   5.49e-08  -1.24e+09      0.000     -67.984     -67.984\n",
      "Model_Pacifica                                  -83.1334   6.47e-08  -1.28e+09      0.000     -83.133     -83.133\n",
      "Model_Park Avenue 4dr                           208.8522   5.27e-08   3.96e+09      0.000     208.852     208.852\n",
      "Model_Park Avenue Ultra 4dr                            0          0        nan        nan           0           0\n",
      "Model_Passat GLS 1.8T                           352.3053   5.41e-08   6.52e+09      0.000     352.305     352.305\n",
      "Model_Passat GLS 4dr                            270.6819   5.43e-08   4.98e+09      0.000     270.682     270.682\n",
      "Model_Passat GLX V6 4MOTION 4dr                -105.9736   5.49e-08  -1.93e+09      0.000    -105.974    -105.974\n",
      "Model_Passat W8                                 -17.7470   5.43e-08  -3.27e+08      0.000     -17.747     -17.747\n",
      "Model_Passat W8 4MOTION 4dr                     -95.7166   5.46e-08  -1.75e+09      0.000     -95.717     -95.717\n",
      "Model_Pathfinder Armada SE                      -66.3132    6.3e-08  -1.05e+09      0.000     -66.313     -66.313\n",
      "Model_Pathfinder SE                                    0          0        nan        nan           0           0\n",
      "Model_Phaeton 4dr                              -579.5604   5.51e-08  -1.05e+10      0.000    -579.560    -579.560\n",
      "Model_Phaeton W12 4dr                                  0          0        nan        nan           0           0\n",
      "Model_Pilot LX                                         0          0        nan        nan           0           0\n",
      "Model_Prius 4dr (gas/electric)                 -183.0426   2.65e-08   -6.9e+09      0.000    -183.043    -183.043\n",
      "Model_Q45 Luxury 4dr                            287.1937   5.24e-08   5.48e+09      0.000     287.194     287.194\n",
      "Model_Quest S                                          0          0        nan        nan           0           0\n",
      "Model_Quest SE                                  197.3018   5.45e-08   3.62e+09      0.000     197.302     197.302\n",
      "Model_RAV4                                      -29.8979   5.74e-08  -5.21e+08      0.000     -29.898     -29.898\n",
      "Model_RS 6 4dr                                         0          0        nan        nan           0           0\n",
      "Model_RSX Type S 2dr                                   0          0        nan        nan           0           0\n",
      "Model_RX 330                                   -281.3274   6.11e-08   -4.6e+09      0.000    -281.327    -281.327\n",
      "Model_RX-8 4dr automatic                        297.4907   5.39e-08   5.52e+09      0.000     297.491     297.491\n",
      "Model_RX-8 4dr manual                           290.6828   5.41e-08   5.38e+09      0.000     290.683     290.683\n",
      "Model_Rainier                                    19.4250   5.42e-08   3.59e+08      0.000      19.425      19.425\n",
      "Model_Ram 1500 Regular Cab ST                   366.9329   6.01e-08   6.11e+09      0.000     366.933     366.933\n",
      "Model_Range Rover HSE                                  0          0        nan        nan           0           0\n",
      "Model_Ranger 2.3 XL Regular Cab                        0          0        nan        nan           0           0\n",
      "Model_Regal GS 4dr                             -132.0370   5.28e-08   -2.5e+09      0.000    -132.037    -132.037\n",
      "Model_Regal LS 4dr                              -98.7882   5.28e-08  -1.87e+09      0.000     -98.788     -98.788\n",
      "Model_Rendezvous CX                             209.0135   5.57e-08   3.75e+09      0.000     209.014     209.014\n",
      "Model_Rio 4dr auto                               56.9679   5.46e-08   1.04e+09      0.000      56.968      56.968\n",
      "Model_Rio 4dr manual                             91.8458   5.47e-08   1.68e+09      0.000      91.846      91.846\n",
      "Model_Rio Cinco                                 114.3874    5.3e-08   2.16e+09      0.000     114.387     114.387\n",
      "Model_Rodeo S                                  -339.4222   3.18e-08  -1.07e+10      0.000    -339.422    -339.422\n",
      "Model_S-Type 3.0 4dr                            -54.6854   6.15e-08  -8.89e+08      0.000     -54.685     -54.685\n",
      "Model_S-Type 4.2 4dr                            -34.6670    5.8e-08  -5.97e+08      0.000     -34.667     -34.667\n",
      "Model_S-Type R 4dr                               40.9153    5.8e-08   7.05e+08      0.000      40.915      40.915\n",
      "Model_S2000 convertible 2dr                     295.7446   5.95e-08   4.97e+09      0.000     295.745     295.745\n",
      "Model_S4 Avant Quattro                          145.2704   5.35e-08   2.71e+09      0.000     145.270     145.270\n",
      "Model_S4 Quattro 4dr                                   0          0        nan        nan           0           0\n",
      "Model_S40 4dr                                   302.2262   5.66e-08   5.34e+09      0.000     302.226     302.226\n",
      "Model_S430 4dr                                 -559.4129   6.05e-08  -9.25e+09      0.000    -559.413    -559.413\n",
      "Model_S500 4dr                                         0          0        nan        nan           0           0\n",
      "Model_S60 2.5 4dr                               -90.2079   6.34e-08  -1.42e+09      0.000     -90.208     -90.208\n",
      "Model_S60 R 4dr                                -127.7776   6.06e-08  -2.11e+09      0.000    -127.778    -127.778\n",
      "Model_S60 T5 4dr                                -69.7259   5.46e-08  -1.28e+09      0.000     -69.726     -69.726\n",
      "Model_S80 2.5T 4dr                                     0          0        nan        nan           0           0\n",
      "Model_S80 2.9 4dr                              -131.0026   5.53e-08  -2.37e+09      0.000    -131.003    -131.003\n",
      "Model_S80 T6 4dr                               -308.5612   5.58e-08  -5.53e+09      0.000    -308.561    -308.561\n",
      "Model_SC 430 convertible 2dr                   1213.0644   5.35e-08   2.27e+10      0.000    1213.064    1213.064\n",
      "Model_SL500 convertible 2dr                   -1181.7324   6.09e-08  -1.94e+10      0.000   -1181.732   -1181.732\n",
      "Model_SL55 AMG 2dr                            -1642.0202   5.99e-08  -2.74e+10      0.000   -1642.020   -1642.020\n",
      "Model_SL600 convertible 2dr                   -1161.9380   5.99e-08  -1.94e+10      0.000   -1161.938   -1161.938\n",
      "Model_SLK230 convertible 2dr                      8.6224   6.54e-08   1.32e+08      0.000       8.622       8.622\n",
      "Model_SLK32 AMG 2dr                            -210.2445    6.1e-08  -3.45e+09      0.000    -210.244    -210.244\n",
      "Model_SRX V8                                   -278.0799    5.4e-08  -5.15e+09      0.000    -278.080    -278.080\n",
      "Model_SSR                                              0          0        nan        nan           0           0\n",
      "Model_Sable GS                                  281.8231   5.34e-08   5.27e+09      0.000     281.823     281.823\n",
      "Model_Sable GS 4dr                              203.3618   5.64e-08    3.6e+09      0.000     203.362     203.362\n",
      "Model_Sable LS Premium 4dr                      274.8502   5.62e-08   4.89e+09      0.000     274.850     274.850\n",
      "Model_Safari SLE                               -608.9172   5.41e-08  -1.13e+10      0.000    -608.917    -608.917\n",
      "Model_Santa Fe GLS                             -467.3084    5.8e-08  -8.05e+09      0.000    -467.308    -467.308\n",
      "Model_Sebring 4dr                               -21.3224    5.5e-08  -3.88e+08      0.000     -21.322     -21.322\n",
      "Model_Sebring Limited convertible 2dr           176.0206   5.51e-08    3.2e+09      0.000     176.021     176.021\n",
      "Model_Sebring Touring 4dr                       187.0495   5.45e-08   3.43e+09      0.000     187.049     187.049\n",
      "Model_Sebring convertible 2dr                   -89.5880   5.49e-08  -1.63e+09      0.000     -89.588     -89.588\n",
      "Model_Sedona LX                                -607.3558   5.28e-08  -1.15e+10      0.000    -607.356    -607.356\n",
      "Model_Sentra 1.8 4dr                             -3.9387   5.43e-08  -7.26e+07      0.000      -3.939      -3.939\n",
      "Model_Sentra 1.8 S 4dr                          306.7708   5.43e-08   5.65e+09      0.000     306.771     306.771\n",
      "Model_Sentra SE-R 4dr                            24.4321   5.42e-08   4.51e+08      0.000      24.432      24.432\n",
      "Model_Sequoia SR5                               353.9046   6.02e-08   5.88e+09      0.000     353.905     353.905\n",
      "Model_Seville SLS 4dr                           368.8552   5.62e-08   6.57e+09      0.000     368.855     368.855\n",
      "Model_Sienna CE                                        0          0        nan        nan           0           0\n",
      "Model_Sienna XLE Limited                        614.3671   6.49e-08   9.46e+09      0.000     614.367     614.367\n",
      "Model_Sierra Extended Cab 1500                  243.7510   5.36e-08   4.55e+09      0.000     243.751     243.751\n",
      "Model_Sierra HD 2500                                   0          0        nan        nan           0           0\n",
      "Model_Silhouette GL                                    0          0        nan        nan           0           0\n",
      "Model_Silverado 1500 Regular Cab               -541.8232   6.82e-08  -7.94e+09      0.000    -541.823    -541.823\n",
      "Model_Silverado SS                              731.1461    5.8e-08   1.26e+10      0.000     731.146     731.146\n",
      "Model_Sonata GLS 4dr                            189.7876   5.51e-08   3.44e+09      0.000     189.788     189.788\n",
      "Model_Sonata LX 4dr                             312.1620   5.52e-08   5.66e+09      0.000     312.162     312.162\n",
      "Model_Sonoma Crew Cab                                  0          0        nan        nan           0           0\n",
      "Model_Sorento LX                               -665.7878   6.11e-08  -1.09e+10      0.000    -665.788    -665.788\n",
      "Model_Spectra 4dr                               178.2062   5.45e-08   3.27e+09      0.000     178.206     178.206\n",
      "Model_Spectra GS 4dr hatch                             0          0        nan        nan           0           0\n",
      "Model_Spectra GSX 4dr hatch                      90.8249   5.46e-08   1.66e+09      0.000      90.825      90.825\n",
      "Model_Stratus SE 4dr                            -53.1514   5.41e-08  -9.82e+08      0.000     -53.151     -53.151\n",
      "Model_Stratus SXT 4dr                           -28.8825   5.41e-08  -5.34e+08      0.000     -28.883     -28.883\n",
      "Model_Suburban 1500 LT                         1125.0748   6.54e-08   1.72e+10      0.000    1125.075    1125.075\n",
      "Model_Sunfire 1SA 2dr                                  0          0        nan        nan           0           0\n",
      "Model_Sunfire 1SC 2dr                           160.5945   5.44e-08   2.95e+09      0.000     160.594     160.594\n",
      "Model_TL 4dr                                           0          0        nan        nan           0           0\n",
      "Model_TSX 4dr                                  -261.2661   4.77e-08  -5.48e+09      0.000    -261.266    -261.266\n",
      "Model_TT 1.8 Quattro 2dr (convertible)           88.7003   6.16e-08   1.44e+09      0.000      88.700      88.700\n",
      "Model_TT 1.8 convertible 2dr (coupe)                   0          0        nan        nan           0           0\n",
      "Model_TT 3.2 coupe 2dr (convertible)                   0          0        nan        nan           0           0\n",
      "Model_Tacoma                                   -280.8464    7.4e-08   -3.8e+09      0.000    -280.846    -280.846\n",
      "Model_Tahoe LT                                 1070.5619   5.65e-08   1.89e+10      0.000    1070.562    1070.562\n",
      "Model_Taurus LX 4dr                                    0          0        nan        nan           0           0\n",
      "Model_Taurus SE                                 180.1095   5.42e-08   3.32e+09      0.000     180.110     180.110\n",
      "Model_Taurus SES Duratec 4dr                    166.0537   5.51e-08   3.01e+09      0.000     166.054     166.054\n",
      "Model_Thunderbird Deluxe convert w/hardtop 2d   -27.9354   6.17e-08  -4.53e+08      0.000     -27.935     -27.935\n",
      "Model_Tiburon GT V6 2dr                          -8.2125   5.52e-08  -1.49e+08      0.000      -8.212      -8.212\n",
      "Model_Titan King Cab XE                        -944.8172   6.18e-08  -1.53e+10      0.000    -944.817    -944.817\n",
      "Model_Touareg V6                                       0          0        nan        nan           0           0\n",
      "Model_Town Car Signature 4dr                   -430.7661   5.44e-08  -7.92e+09      0.000    -430.766    -430.766\n",
      "Model_Town Car Ultimate 4dr                    -368.5008   5.43e-08  -6.79e+09      0.000    -368.501    -368.501\n",
      "Model_Town Car Ultimate L 4dr                  -279.2961   5.42e-08  -5.15e+09      0.000    -279.296    -279.296\n",
      "Model_Town and Country LX                              0          0        nan        nan           0           0\n",
      "Model_Town and Country Limited                  158.4296   5.48e-08   2.89e+09      0.000     158.430     158.430\n",
      "Model_Tracker                                  -519.3436   6.18e-08   -8.4e+09      0.000    -519.344    -519.344\n",
      "Model_TrailBlazer LT                           -275.6071   6.22e-08  -4.43e+09      0.000    -275.607    -275.607\n",
      "Model_Tribute DX 2.0                           -275.7892   5.51e-08     -5e+09      0.000    -275.789    -275.789\n",
      "Model_Tundra Access Cab V6 SR5                 -103.0606   6.25e-08  -1.65e+09      0.000    -103.061    -103.061\n",
      "Model_Tundra Regular Cab V6                    -243.0810   8.54e-08  -2.85e+09      0.000    -243.081    -243.081\n",
      "Model_V40                                       338.1523   5.78e-08   5.85e+09      0.000     338.152     338.152\n",
      "Model_VUE                                      -269.6134   5.31e-08  -5.08e+09      0.000    -269.613    -269.613\n",
      "Model_Vanden Plas 4dr                                  0          0        nan        nan           0           0\n",
      "Model_Venture LS                                  2.4217   5.59e-08   4.33e+07      0.000       2.422       2.422\n",
      "Model_Verona LX 4dr                                    0          0        nan        nan           0           0\n",
      "Model_Vibe                                             0          0        nan        nan           0           0\n",
      "Model_Viper SRT-10 convertible 2dr              -42.7233   4.86e-08  -8.79e+08      0.000     -42.723     -42.723\n",
      "Model_Vitara LX                                        0          0        nan        nan           0           0\n",
      "Model_Wrangler Sahara convertible 2dr            77.0157   4.68e-08   1.65e+09      0.000      77.016      77.016\n",
      "Model_X-Type 2.5 4dr                             49.4770   7.08e-08   6.99e+08      0.000      49.477      49.477\n",
      "Model_X-Type 3.0 4dr                            -77.0594   7.02e-08   -1.1e+09      0.000     -77.059     -77.059\n",
      "Model_X3 3.0i                                   -70.3696   5.98e-08  -1.18e+09      0.000     -70.370     -70.370\n",
      "Model_X5 4.4i                                          0          0        nan        nan           0           0\n",
      "Model_XC70                                     -100.0329   5.81e-08  -1.72e+09      0.000    -100.033    -100.033\n",
      "Model_XC90 T6                                  -417.6531    5.4e-08  -7.73e+09      0.000    -417.653    -417.653\n",
      "Model_XG350 4dr                                 291.7881   5.48e-08   5.32e+09      0.000     291.788     291.788\n",
      "Model_XG350 L 4dr                               333.6215   5.49e-08   6.08e+09      0.000     333.621     333.621\n",
      "Model_XJ8 4dr                                          0          0        nan        nan           0           0\n",
      "Model_XJR 4dr                                   144.0532   5.86e-08   2.46e+09      0.000     144.053     144.053\n",
      "Model_XK8 convertible 2dr                       -46.0553   5.18e-08   -8.9e+08      0.000     -46.055     -46.055\n",
      "Model_XK8 coupe 2dr                                    0          0        nan        nan           0           0\n",
      "Model_XKR convertible 2dr                        85.2610   5.28e-08   1.61e+09      0.000      85.261      85.261\n",
      "Model_XKR coupe 2dr                                    0          0        nan        nan           0           0\n",
      "Model_XL-7 EX                                   135.8748   5.76e-08   2.36e+09      0.000     135.875     135.875\n",
      "Model_XLR convertible 2dr                      -568.8695   5.13e-08  -1.11e+10      0.000    -568.869    -568.869\n",
      "Model_Xterra XE V6                                     0          0        nan        nan           0           0\n",
      "Model_Yukon 1500 SLE                            724.8325   5.16e-08    1.4e+10      0.000     724.832     724.832\n",
      "Model_Yukon XL 2500 SLT                         732.5593   6.46e-08   1.13e+10      0.000     732.559     732.559\n",
      "Model_Z4 convertible 2.5i 2dr                          0          0        nan        nan           0           0\n",
      "Model_Z4 convertible 3.0i 2dr                          0          0        nan        nan           0           0\n",
      "Model_lon2 4dr                                   -3.4790   5.36e-08  -6.49e+07      0.000      -3.479      -3.479\n",
      "Model_lon2 quad coupe 2dr                       -18.7912   5.36e-08  -3.51e+08      0.000     -18.791     -18.791\n",
      "Model_lon3 4dr                                         0          0        nan        nan           0           0\n",
      "Model_lon3 quad coupe 2dr                       -37.7587   5.36e-08  -7.04e+08      0.000     -37.759     -37.759\n",
      "Model_xA 4dr hatch                                     0          0        nan        nan           0           0\n",
      "Model_xB                                        -83.8025   2.78e-08  -3.02e+09      0.000     -83.802     -83.802\n",
      "Type_Hybrid                                    -183.0426   2.65e-08   -6.9e+09      0.000    -183.043    -183.043\n",
      "Type_SUV                                        -65.9550   2.68e-08  -2.46e+09      0.000     -65.955     -65.955\n",
      "Type_Sedan                                      -43.9876   1.05e-08  -4.18e+09      0.000     -43.988     -43.988\n",
      "Type_Sports                                     112.0979   2.02e-08   5.54e+09      0.000     112.098     112.098\n",
      "Type_Truck                                     -120.8775   2.16e-08  -5.59e+09      0.000    -120.878    -120.878\n",
      "Type_Wagon                                     -119.5765   1.54e-08  -7.78e+09      0.000    -119.576    -119.576\n",
      "Origin_Asia                                    -145.5902   1.32e-08   -1.1e+10      0.000    -145.590    -145.590\n",
      "Origin_Europe                                    17.2280   1.37e-08   1.26e+09      0.000      17.228      17.228\n",
      "Origin_USA                                     -292.9790   1.17e-08  -2.49e+10      0.000    -292.979    -292.979\n",
      "DriveTrain_All                                 -140.7339   3.58e-08  -3.93e+09      0.000    -140.734    -140.734\n",
      "DriveTrain_Front                               -189.5501   1.33e-08  -1.42e+10      0.000    -189.550    -189.550\n",
      "DriveTrain_Rear                                 -91.0572   4.31e-08  -2.11e+09      0.000     -91.057     -91.057\n",
      "==============================================================================\n",
      "Omnibus:                      263.915   Durbin-Watson:                   1.552\n",
      "Prob(Omnibus):                  0.000   Jarque-Bera (JB):            22842.532\n",
      "Skew:                           2.937   Prob(JB):                         0.00\n",
      "Kurtosis:                      45.200   Cond. No.                     7.04e+17\n",
      "==============================================================================\n",
      "\n",
      "Notes:\n",
      "[1] Standard Errors assume that the covariance matrix of the errors is correctly specified.\n",
      "[2] The input rank is higher than the number of observations.\n",
      "[3] The smallest eigenvalue is 7.18e-25. This might indicate that there are\n",
      "strong multicollinearity problems or that the design matrix is singular.\n"
     ]
    }
   ],
   "source": [
    "print(lm_1.summary())"
   ]
  },
  {
   "cell_type": "code",
   "execution_count": 123,
   "metadata": {},
   "outputs": [],
   "source": [
    "yhat1=lm.predict(x_test)"
   ]
  },
  {
   "cell_type": "code",
   "execution_count": 124,
   "metadata": {},
   "outputs": [
    {
     "data": {
      "text/plain": [
       "array([ 43387.68316587,  26937.81812872,  75605.2981066 ,  40620.15812093,\n",
       "        27562.60984911,  25838.02640324,  33111.65597456,  17079.223927  ,\n",
       "        40943.23372103,  36422.45042157, 129615.12512168,  22108.63427706,\n",
       "        25740.7867907 ,  84000.23476202,  60020.28226337,  20704.23438756,\n",
       "        33558.49932552,  27051.22936308,  35473.10645493,  52677.97855129,\n",
       "        25872.84313339,  29353.34666182,  28804.31517263,  27634.99999999,\n",
       "        13665.85984926,  23342.36784214,  29733.57358319,  24187.07638833,\n",
       "        25371.75715803,  32376.00887844,  87930.55081518,  20439.58851933,\n",
       "        15543.85577761,  13220.85035334,  81933.84602237,  27378.57975561,\n",
       "        30538.35611924,  14847.27307244,  19449.29461833,  43199.80964614,\n",
       "        28066.42998187,  76081.26492672,  71339.38376466,  48424.90379671,\n",
       "        95902.44779924,  31009.51879458,  17260.06626314,  27052.00886275,\n",
       "        19383.843033  ,  17132.82598843,  25911.49942174,  26103.2837937 ,\n",
       "        40429.00325015,  50791.57187971,  10882.44773452,  29271.60529472,\n",
       "        27564.14164708,  22312.44655686,  34586.06421515,  37879.76719338,\n",
       "        29605.67842955,  28416.47600802,  15398.28499698,  19559.32290737,\n",
       "        28131.11102401,  17552.29610667,  35467.46405973,  13572.57367524,\n",
       "        14191.35846399,  23866.87685911,  13041.7564271 ,  35773.33759874,\n",
       "        11554.39794428,  47966.22258873,  47861.5589993 ,  22134.30746741,\n",
       "        42672.48026944,  15849.93337191,  19124.26351131,  22129.97489379,\n",
       "        24947.59622557,  38155.95281416,  38759.06086643,  12997.43914031,\n",
       "        23149.24145022,  53100.9786064 ,  70067.53661493,  53417.10836388,\n",
       "        50761.86158215,  45365.7892508 ,  20988.48385671,  33785.2042547 ,\n",
       "        33375.69957262,  33427.4378723 ,  43706.60286702,  19483.76442239,\n",
       "        32334.00827702,  52830.00037606,  23287.16254923,  11789.847523  ,\n",
       "        23731.03171666,  14781.46415841,  41096.85467761,  22074.42835478,\n",
       "        14406.75188228,  26126.19834209,  33863.30947859,  30099.00674456,\n",
       "        20477.53456571,  19959.09063793,  68936.5565559 ,  13511.20760361,\n",
       "        72194.56662947,  24404.86505863,  52409.99083312,  40380.85622225,\n",
       "        22051.25005903,  17719.2366654 ,  28447.88389869,  20103.63303442,\n",
       "        23845.49117772,  23438.92764358,  17106.59882632,  14760.46622302,\n",
       "        16290.75613992,  43511.34462824,  87637.48687762,  30229.06344562,\n",
       "        32772.46783327,  77814.7045793 ])"
      ]
     },
     "execution_count": 124,
     "metadata": {},
     "output_type": "execute_result"
    }
   ],
   "source": [
    "yhat1"
   ]
  },
  {
   "cell_type": "code",
   "execution_count": 125,
   "metadata": {},
   "outputs": [
    {
     "name": "stderr",
     "output_type": "stream",
     "text": [
      "C:\\Users\\hp\\anaconda3\\lib\\site-packages\\seaborn\\distributions.py:2551: FutureWarning: `distplot` is a deprecated function and will be removed in a future version. Please adapt your code to use either `displot` (a figure-level function with similar flexibility) or `kdeplot` (an axes-level function for kernel density plots).\n",
      "  warnings.warn(msg, FutureWarning)\n",
      "C:\\Users\\hp\\anaconda3\\lib\\site-packages\\seaborn\\distributions.py:2551: FutureWarning: `distplot` is a deprecated function and will be removed in a future version. Please adapt your code to use either `displot` (a figure-level function with similar flexibility) or `kdeplot` (an axes-level function for kernel density plots).\n",
      "  warnings.warn(msg, FutureWarning)\n"
     ]
    },
    {
     "data": {
      "image/png": "[encoded data removed]",
      "text/plain": [
       "<Figure size 432x288 with 1 Axes>"
      ]
     },
     "metadata": {
      "needs_background": "light"
     },
     "output_type": "display_data"
    }
   ],
   "source": [
    "#distribution plot to compare actual vs predicted values for price\n",
    "ax1=sns.distplot(df['MSRP'],hist=False,color='r',label='Actual values')\n",
    "sns.distplot(yhat1,hist=False,color='b',label='Fitted values',ax=ax1)\n",
    "plt.title('Actual vs Fitted for MSRP')\n",
    "plt.xlabel('df_combined')\n",
    "plt.ylabel('MSRP')\n",
    "plt.show()"
   ]
  },
  {
   "cell_type": "code",
   "execution_count": 126,
   "metadata": {},
   "outputs": [
    {
     "data": {
      "text/plain": [
       "array([ 29380.        , 126670.00000005,  17629.99999998,  63120.        ,\n",
       "        44239.99999999,  45445.        ,  27710.00000001,  19339.        ,\n",
       "        27634.99999999,  39235.        ,  49090.        ,  32845.00000001,\n",
       "        29995.        ,  35145.00000001,  30834.99999998,  20309.99999999,\n",
       "        21087.        ,  26059.99999999,  18825.        ,  15567.99999999,\n",
       "        31370.00000001,  15849.99999999,  27369.99999999, 192465.00000008,\n",
       "        37000.00000001,  27930.        ,  37245.00000001,  52545.00000001,\n",
       "        27634.99999999,  74320.00000002,  24949.99999999,  33429.99999999,\n",
       "        52775.00000002,  16497.        ,  20615.        ,  50470.00000001,\n",
       "        42735.        ,  19270.        ,  33480.        ,  22450.        ,\n",
       "        16529.99999999,  69195.00000002,  22350.        ,  11939.        ,\n",
       "        38380.        ,  19134.99999999,  26650.        ,  25935.        ,\n",
       "        32495.        ,  22289.99999999,  55750.00000001,  54995.00000002,\n",
       "        27200.        ,  30245.00000001,  37895.00000001,  14164.99999999,\n",
       "        63200.00000002,  22514.99999999,  27905.        ,  86995.00000003,\n",
       "        50595.        ,  14609.99999999,  42565.00000001,  29345.        ,\n",
       "        15459.99999999,  32660.        ,  18891.99999998,  51535.00000001,\n",
       "        19859.99999999,  23759.99999999,  24895.        ,  22395.        ,\n",
       "        19859.99999999,  43895.        ,  41815.00000001,  40670.00000001,\n",
       "        30795.        ,  26560.        ,  33540.        ,  23845.        ,\n",
       "        10994.99999999,  17749.99999999,  18819.99999999,  45707.        ,\n",
       "        15388.99999999,  21054.99999999,  24954.99999999,  13838.99999999,\n",
       "        33180.        ,  34845.00000001,  16494.99999999,  16040.        ,\n",
       "        32350.        ,  47955.        ,  27490.        ,  25955.        ,\n",
       "        24884.99999999,  19635.        ,  20219.99999999,  44295.00000001,\n",
       "        34895.        ,  19004.99999999,  28800.        ,  27020.        ,\n",
       "        40565.00000001,  21595.        ,  26470.        ,  29595.        ,\n",
       "        12268.99999999,  21055.        ,  73195.00000003,  21964.99999999,\n",
       "        48170.        ,  25645.        ,  16999.        ,  20584.99999999,\n",
       "        20338.99999999,  18760.        ,  33500.00000001,  35545.00000001,\n",
       "        37390.        ,  23954.99999999,  33360.        ,  36895.        ,\n",
       "        33295.        ,  34480.        ,  19634.99999999,  65000.00000002,\n",
       "        33995.        ,  24224.99999999,  12799.99999999,  26395.        ,\n",
       "        13269.99999999,  26991.99999999,  21899.99999999,  39195.00000001,\n",
       "        24295.        ,  11904.99999999,  79165.00000002,  46265.00000001,\n",
       "        37560.00000001,  22734.99999999,  14084.99999999,  18714.99999999,\n",
       "        37730.00000001,  10280.        ,  40840.        ,  33260.        ,\n",
       "        25717.        ,  40235.        ,  14849.99999999,  21824.99999999,\n",
       "        23895.        ,  36995.        ,  35725.00000001,  18739.        ,\n",
       "        32455.        ,  16384.99999999,  35995.00000001,  52795.        ,\n",
       "        23784.99999999,  56595.00000002,  17984.99999999,  25640.        ,\n",
       "        74995.00000002,  52120.00000001,  22009.99999999,  40320.        ,\n",
       "        64800.00000002,  39250.        ,  30295.        ,  15039.99999999,\n",
       "        36640.        ,  42840.        ,  33111.99999999,  40340.        ,\n",
       "        29561.99999999,  35695.        ,  19999.        ,  25135.        ,\n",
       "        30895.        ,  14740.        ,  45700.00000001,  32234.99999999,\n",
       "        19311.99999998,  31145.        ,  81795.00000002,  29669.99999999,\n",
       "        26959.99999999,  37630.00000002,  56170.00000001,  31839.99999999,\n",
       "        14839.99999999,  12740.        ,  49995.        ,  17640.        ,\n",
       "        43365.        ,  19559.99999999,  25193.        ,  46470.00000001,\n",
       "        30950.        ,  32780.        ,  22595.        ,  20370.        ,\n",
       "        20214.99999999,  40095.        ,  21794.99999999,  21840.        ,\n",
       "        21588.99999999,  41250.00000001,  19089.99999999,  14630.        ,\n",
       "        44995.00000001,  17735.        ,  35920.        ,  39995.        ,\n",
       "        25091.99999999,  24589.        ,  15388.99999999,  16349.99999999,\n",
       "        18435.        ,  25520.        ,  12359.99999999,  23559.99999999,\n",
       "        12584.99999999,  24344.99999999,  32444.99999999,  21444.99999999,\n",
       "        36945.        ,  56665.00000001,  20289.99999999,  40845.00000001,\n",
       "        20254.99999999,  31745.00000001,  49690.00000001,  27634.99999999,\n",
       "        31230.        ,  39640.        ,  14809.99999999,  90520.00000003,\n",
       "        74995.00000003,  20449.        , 121770.00000005,  11839.        ,\n",
       "        16721.99999998,  31545.        ,  27449.99999999,  33840.        ,\n",
       "        23699.        ,  43495.00000001,  29440.        ,  24695.        ,\n",
       "        26189.        ,  76200.00000001,  34495.        ,  20509.99999998,\n",
       "        26989.99999999,  84165.00000002,  25700.        ,  28495.00000001,\n",
       "        57270.00000001,  19479.        ,  29995.        ,  26545.        ,\n",
       "        18344.99999999,  45210.00000001,  22224.99999999,  43755.        ,\n",
       "        25215.        ,  11154.99999999,  15499.99999999,  17474.99999999,\n",
       "        15295.        ,  11289.99999999,  25045.        ,  18689.99999999,\n",
       "        10759.99999999,  36100.00000001,  21999.99999999,  37530.00000001,\n",
       "        25130.        ,  46995.        ,  34390.00000001,  31545.        ,\n",
       "        41010.        ,  31890.        ,  26135.        ,  44925.00000001,\n",
       "        30491.99999999,  42490.        ,  31045.        ,  41465.        ,\n",
       "        28345.        ,  21409.99999999,  14299.99999999,  25920.        ,\n",
       "        27995.        ,  35105.00000001,  20444.99999999,  21595.        ,\n",
       "        60670.00000001,  35940.        ])"
      ]
     },
     "execution_count": 126,
     "metadata": {},
     "output_type": "execute_result"
    }
   ],
   "source": [
    "y_pred=lm.predict(x_train)\n",
    "y_pred"
   ]
  },
  {
   "cell_type": "code",
   "execution_count": 127,
   "metadata": {},
   "outputs": [
    {
     "name": "stdout",
     "output_type": "stream",
     "text": [
      "Mean_squared_error: 1.1103842314991895e-16\n",
      "Root_mean_sqaured_error: 1.0537477077076797e-08\n",
      "r_squared_value: 1.0\n"
     ]
    }
   ],
   "source": [
    "mse=mean_squared_error(y_train,y_pred)\n",
    "r_squared=r2_score(y_train,y_pred)\n",
    "rmse = sqrt(mse)\n",
    "print(\"Mean_squared_error:\",mse)\n",
    "print(\"Root_mean_sqaured_error:\",rmse)\n",
    "print(\"r_squared_value:\",r_squared)"
   ]
  },
  {
   "cell_type": "code",
   "execution_count": 128,
   "metadata": {},
   "outputs": [
    {
     "data": {
      "text/plain": [
       "array([ 29380.        , 126670.00000005,  17629.99999998,  63120.        ,\n",
       "        44239.99999999,  45445.        ,  27710.00000001,  19339.        ,\n",
       "        27634.99999999,  39235.        ,  49090.        ,  32845.00000001,\n",
       "        29995.        ,  35145.00000001,  30834.99999998,  20309.99999999,\n",
       "        21087.        ,  26059.99999999,  18825.        ,  15567.99999999,\n",
       "        31370.00000001,  15849.99999999,  27369.99999999, 192465.00000008,\n",
       "        37000.00000001,  27930.        ,  37245.00000001,  52545.00000001,\n",
       "        27634.99999999,  74320.00000002,  24949.99999999,  33429.99999999,\n",
       "        52775.00000002,  16497.        ,  20615.        ,  50470.00000001,\n",
       "        42735.        ,  19270.        ,  33480.        ,  22450.        ,\n",
       "        16529.99999999,  69195.00000002,  22350.        ,  11939.        ,\n",
       "        38380.        ,  19134.99999999,  26650.        ,  25935.        ,\n",
       "        32495.        ,  22289.99999999,  55750.00000001,  54995.00000002,\n",
       "        27200.        ,  30245.00000001,  37895.00000001,  14164.99999999,\n",
       "        63200.00000002,  22514.99999999,  27905.        ,  86995.00000003,\n",
       "        50595.        ,  14609.99999999,  42565.00000001,  29345.        ,\n",
       "        15459.99999999,  32660.        ,  18891.99999998,  51535.00000001,\n",
       "        19859.99999999,  23759.99999999,  24895.        ,  22395.        ,\n",
       "        19859.99999999,  43895.        ,  41815.00000001,  40670.00000001,\n",
       "        30795.        ,  26560.        ,  33540.        ,  23845.        ,\n",
       "        10994.99999999,  17749.99999999,  18819.99999999,  45707.        ,\n",
       "        15388.99999999,  21054.99999999,  24954.99999999,  13838.99999999,\n",
       "        33180.        ,  34845.00000001,  16494.99999999,  16040.        ,\n",
       "        32350.        ,  47955.        ,  27490.        ,  25955.        ,\n",
       "        24884.99999999,  19635.        ,  20219.99999999,  44295.00000001,\n",
       "        34895.        ,  19004.99999999,  28800.        ,  27020.        ,\n",
       "        40565.00000001,  21595.        ,  26470.        ,  29595.        ,\n",
       "        12268.99999999,  21055.        ,  73195.00000003,  21964.99999999,\n",
       "        48170.        ,  25645.        ,  16999.        ,  20584.99999999,\n",
       "        20338.99999999,  18760.        ,  33500.00000001,  35545.00000001,\n",
       "        37390.        ,  23954.99999999,  33360.        ,  36895.        ,\n",
       "        33295.        ,  34480.        ,  19634.99999999,  65000.00000002,\n",
       "        33995.        ,  24224.99999999,  12799.99999999,  26395.        ,\n",
       "        13269.99999999,  26991.99999999,  21899.99999999,  39195.00000001,\n",
       "        24295.        ,  11904.99999999,  79165.00000002,  46265.00000001,\n",
       "        37560.00000001,  22734.99999999,  14084.99999999,  18714.99999999,\n",
       "        37730.00000001,  10280.        ,  40840.        ,  33260.        ,\n",
       "        25717.        ,  40235.        ,  14849.99999999,  21824.99999999,\n",
       "        23895.        ,  36995.        ,  35725.00000001,  18739.        ,\n",
       "        32455.        ,  16384.99999999,  35995.00000001,  52795.        ,\n",
       "        23784.99999999,  56595.00000002,  17984.99999999,  25640.        ,\n",
       "        74995.00000002,  52120.00000001,  22009.99999999,  40320.        ,\n",
       "        64800.00000002,  39250.        ,  30295.        ,  15039.99999999,\n",
       "        36640.        ,  42840.        ,  33111.99999999,  40340.        ,\n",
       "        29561.99999999,  35695.        ,  19999.        ,  25135.        ,\n",
       "        30895.        ,  14740.        ,  45700.00000001,  32234.99999999,\n",
       "        19311.99999998,  31145.        ,  81795.00000002,  29669.99999999,\n",
       "        26959.99999999,  37630.00000002,  56170.00000001,  31839.99999999,\n",
       "        14839.99999999,  12740.        ,  49995.        ,  17640.        ,\n",
       "        43365.        ,  19559.99999999,  25193.        ,  46470.00000001,\n",
       "        30950.        ,  32780.        ,  22595.        ,  20370.        ,\n",
       "        20214.99999999,  40095.        ,  21794.99999999,  21840.        ,\n",
       "        21588.99999999,  41250.00000001,  19089.99999999,  14630.        ,\n",
       "        44995.00000001,  17735.        ,  35920.        ,  39995.        ,\n",
       "        25091.99999999,  24589.        ,  15388.99999999,  16349.99999999,\n",
       "        18435.        ,  25520.        ,  12359.99999999,  23559.99999999,\n",
       "        12584.99999999,  24344.99999999,  32444.99999999,  21444.99999999,\n",
       "        36945.        ,  56665.00000001,  20289.99999999,  40845.00000001,\n",
       "        20254.99999999,  31745.00000001,  49690.00000001,  27634.99999999,\n",
       "        31230.        ,  39640.        ,  14809.99999999,  90520.00000003,\n",
       "        74995.00000003,  20449.        , 121770.00000005,  11839.        ,\n",
       "        16721.99999998,  31545.        ,  27449.99999999,  33840.        ,\n",
       "        23699.        ,  43495.00000001,  29440.        ,  24695.        ,\n",
       "        26189.        ,  76200.00000001,  34495.        ,  20509.99999998,\n",
       "        26989.99999999,  84165.00000002,  25700.        ,  28495.00000001,\n",
       "        57270.00000001,  19479.        ,  29995.        ,  26545.        ,\n",
       "        18344.99999999,  45210.00000001,  22224.99999999,  43755.        ,\n",
       "        25215.        ,  11154.99999999,  15499.99999999,  17474.99999999,\n",
       "        15295.        ,  11289.99999999,  25045.        ,  18689.99999999,\n",
       "        10759.99999999,  36100.00000001,  21999.99999999,  37530.00000001,\n",
       "        25130.        ,  46995.        ,  34390.00000001,  31545.        ,\n",
       "        41010.        ,  31890.        ,  26135.        ,  44925.00000001,\n",
       "        30491.99999999,  42490.        ,  31045.        ,  41465.        ,\n",
       "        28345.        ,  21409.99999999,  14299.99999999,  25920.        ,\n",
       "        27995.        ,  35105.00000001,  20444.99999999,  21595.        ,\n",
       "        60670.00000001,  35940.        ])"
      ]
     },
     "execution_count": 128,
     "metadata": {},
     "output_type": "execute_result"
    }
   ],
   "source": [
    "yhat1=lm.predict(x_train)\n",
    "yhat1"
   ]
  },
  {
   "cell_type": "code",
   "execution_count": 129,
   "metadata": {},
   "outputs": [
    {
     "name": "stderr",
     "output_type": "stream",
     "text": [
      "C:\\Users\\hp\\anaconda3\\lib\\site-packages\\seaborn\\distributions.py:2551: FutureWarning: `distplot` is a deprecated function and will be removed in a future version. Please adapt your code to use either `displot` (a figure-level function with similar flexibility) or `kdeplot` (an axes-level function for kernel density plots).\n",
      "  warnings.warn(msg, FutureWarning)\n",
      "C:\\Users\\hp\\anaconda3\\lib\\site-packages\\seaborn\\distributions.py:2551: FutureWarning: `distplot` is a deprecated function and will be removed in a future version. Please adapt your code to use either `displot` (a figure-level function with similar flexibility) or `kdeplot` (an axes-level function for kernel density plots).\n",
      "  warnings.warn(msg, FutureWarning)\n"
     ]
    },
    {
     "data": {
      "image/png": "[encoded data removed]",
      "text/plain": [
       "<Figure size 432x288 with 1 Axes>"
      ]
     },
     "metadata": {
      "needs_background": "light"
     },
     "output_type": "display_data"
    }
   ],
   "source": [
    "#distribution plot to compare actual vs predicted values for price\n",
    "ax1=sns.distplot(df['MSRP'],hist=False,color='r',label='Actual values')\n",
    "sns.distplot(yhat1,hist=False,color='b',label='Fitted values',ax=ax1)\n",
    "plt.title('Actual vs Fitted for MSRP')\n",
    "plt.xlabel('df_combined')\n",
    "plt.ylabel('MSRP')\n",
    "plt.show()"
   ]
  },
  {
   "cell_type": "code",
   "execution_count": null,
   "metadata": {},
   "outputs": [],
   "source": []
  }
 ],
 "metadata": {
  "kernelspec": {
   "display_name": "Python 3",
   "language": "python",
   "name": "python3"
  },
  "language_info": {
   "codemirror_mode": {
    "name": "ipython",
    "version": 3
   },
   "file_extension": ".py",
   "mimetype": "text/x-python",
   "name": "python",
   "nbconvert_exporter": "python",
   "pygments_lexer": "ipython3",
   "version": "3.8.5"
  }
 },
 "nbformat": 4,
 "nbformat_minor": 4
}
